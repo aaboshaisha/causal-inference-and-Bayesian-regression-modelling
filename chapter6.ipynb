{
 "cells": [
  {
   "cell_type": "markdown",
   "id": "b016ac20",
   "metadata": {},
   "source": [
    "6E1. List three mechanisms by which multiple regression can produce false inferences about causal\n",
    "effects."
   ]
  },
  {
   "cell_type": "markdown",
   "id": "a49b76e5",
   "metadata": {},
   "source": [
    "Ans: The biases studied in the chapter\n",
    "\n",
    "1. Collider bias\n",
    "2. Post treatment bias\n",
    "3. Omitted variable bias\n",
    "4. Multicolinearity"
   ]
  },
  {
   "cell_type": "markdown",
   "id": "76bbc7bf",
   "metadata": {},
   "source": [
    "6E2. For one of the mechanisms in the previous problem,provide an example of your choice,perhaps from your own research."
   ]
  },
  {
   "cell_type": "markdown",
   "id": "07c0f567",
   "metadata": {},
   "source": [
    "Ans: Omitted Variable Bias\n",
    "\n",
    "Occurs when a predictor variable is NOT included in the regression model, and this variable has the following 2 criteria:\n",
    "1. it's correlated with one or more of the other predictor variables\n",
    "2. it's correlated with the outcome variable \n",
    "\n",
    "As you can see, this is a case of missing information.\n",
    "\n",
    "Consider the following example adapted from (https://www.statology.org/omitted-variable-bias/)\n",
    "\n",
    "Consider we're trying to predict house price $P$ based on its square footage $S$ and age $A$ where:\n",
    "\n",
    "- Square footage is positively correlated with price (bigger houses are more expensive)\n",
    "- Age is negatively correlated with price (older houses sell lower\n",
    "- but Age is positively correlated with square footage (older houses are bigger)\n",
    "\n",
    "Then, if we omit age, we might estimate an older house to be more expensive than it should (positively bias)."
   ]
  },
  {
   "cell_type": "markdown",
   "id": "8ccd9a71",
   "metadata": {},
   "source": [
    "6E3. List the four elemental confounds. Can you explain the conditional dependencies of each? "
   ]
  },
  {
   "cell_type": "markdown",
   "id": "afc6807d",
   "metadata": {},
   "source": [
    "Ans: These are the 3 structural forces that we studied. For variabes $X,Y,Z$ to measure if there is causal effect of $X$ on $Y$, you can have false inferences due to: \n",
    "\n",
    "1. The Fork: If $X,Y$ have common cause $Z$, then conditioning on $Z$ makes them independent\n",
    "2. The Collider: If $X,Y$ have common effect $Z$, then conditioning on $Z$ makes them conditinally dependent\n",
    "3. The Pipe: If $X \\rightarrow Z \\rightarrow Y$, then conditioning on $Z$ makes them conditionally independent\n",
    "4. The Descendant: if we have variable $D$ which is a descendant (caused by) any othe other 3, conditioning on it will make it behave like the variable it was conditioned on. For example if we have $X \\rightarrow Z \\rightarrow Y$ and $Z \\rightarrow D$, then conditioning on $D$ will have the same effect of conditioing on $Z$ since it carries the same information like it making $X,Y$ conditionally independent. "
   ]
  },
  {
   "cell_type": "markdown",
   "id": "223b40a1",
   "metadata": {},
   "source": [
    "6E4. How is a biased sample like conditioning on a collider? Think of the example at the open of the chapter."
   ]
  },
  {
   "cell_type": "markdown",
   "id": "98e51078",
   "metadata": {},
   "source": [
    "Ans: Conditoning on a collider means we introduce new information from this collider such that it allows us to stratify the predictor and outcome pairs based on it. It's as if prior to conditioning, all possible pairs of $(X,Y)$ variables were possible, but now only certain pairs become possible given the condition.\n",
    "\n",
    "Also called Berkson Paradox: We create correlation where there was none.\n",
    "\n",
    "A very common example is selection bias in medical studies performed on hospital patients. We could see a correlation between wearing helmets and ending up in ITU because of motor cycle accidents, and think that wearing helmets is dangerous. What we don't see is the people who didn't wear helmets and ended up dead. "
   ]
  },
  {
   "attachments": {
    "dag186.png": {
     "image/png": "[encoded data removed]"
    }
   },
   "cell_type": "markdown",
   "id": "896373fd",
   "metadata": {},
   "source": [
    "6M1. Modify the DAG on page 186 to include the variable V, an unobserved cause of C and Y: C ← V → Y. Reanalyze the DAG. How many paths connect X to Y? Which must be closed? Which variables should you condition on now?\n",
    "\n",
    "<div>\n",
    "    <img src = \"attachment:dag186.png\" width = \"200\" height = \"200\">\n",
    "</div>"
   ]
  },
  {
   "cell_type": "markdown",
   "id": "3f2601fd",
   "metadata": {},
   "source": [
    "There are 5 paths from $X$ to $Y$\n",
    "\n",
    "(1) X ← U ← A → C → Y\n",
    "\n",
    "(2) X ← U → B ← C → Y← V\n",
    "\n",
    "(3) X ← U ← A → C ← V →Y\n",
    "\n",
    "(4) X ← U → B ← C ← V → Y\n",
    "\n",
    "(5) X → Y\n",
    "\n",
    "Path 1 is an open backdoor path. If we condition on A, we close it without opening 4"
   ]
  },
  {
   "cell_type": "markdown",
   "id": "ea532198",
   "metadata": {},
   "source": [
    "6M2. Sometimes, in order to avoid multicollinearity, people inspect pairwise correlations among predictors before including them in a model. This is a bad procedure, because what matters is the conditional association, not the association before the variables are included in the model. To highlight this, consider the DAG X → Z → Y. Simulate data from this DAG so that the correlation between X and Z is very large. Then include both in a model prediction Y. Do you observe any multicollinearity? Why or why not? What is different from the legs example in the chapter?"
   ]
  },
  {
   "cell_type": "markdown",
   "id": "1d7c57df",
   "metadata": {},
   "source": [
    "The model\n",
    "\n",
    "$Z = f(X)$\n",
    "\n",
    "$Z \\text{~} N(\\mu, \\sigma)$\n",
    "\n",
    "$\\mu = \\beta_x X_i$\n",
    "\n",
    "let $\\beta_x$ = 0.9\n",
    "\n",
    "$Y = f(Z)$\n",
    "\n",
    "$Y \\text{~} N(\\mu, \\sigma)$\n",
    "\n",
    "$\\mu_z = \\beta_z Z_i$\n",
    "\n",
    "let $\\beta_z$ = 0.7\n",
    "\n",
    "so to predict $Y$ as a function of $X$ and $Z$\n",
    "\n",
    "$Y = f(X,Z)$\n",
    "\n",
    "$Y_i \\text{~} N(\\mu_i,\\sigma)$\n",
    "\n",
    "$\\mu_i = \\alpha + \\beta_x X_i + \\beta_z Z_i$"
   ]
  },
  {
   "cell_type": "code",
   "execution_count": 2,
   "id": "c42b4af9",
   "metadata": {},
   "outputs": [],
   "source": [
    "import numpy as np\n",
    "import pymc3 as pm\n",
    "import arviz as az\n",
    "import matplotlib.pyplot as plt"
   ]
  },
  {
   "cell_type": "code",
   "execution_count": 17,
   "id": "97d781fe",
   "metadata": {},
   "outputs": [],
   "source": [
    "#data simulation\n",
    "\n",
    "X = np.random.normal(size = 100)\n",
    "Z = np.random.normal(loc = 1.5*X)\n",
    "Y = np.random.normal(loc = 0.7*Z)"
   ]
  },
  {
   "cell_type": "code",
   "execution_count": 18,
   "id": "81934c40",
   "metadata": {},
   "outputs": [
    {
     "data": {
      "text/plain": [
       "array([[1.        , 0.85331311],\n",
       "       [0.85331311, 1.        ]])"
      ]
     },
     "execution_count": 18,
     "metadata": {},
     "output_type": "execute_result"
    }
   ],
   "source": [
    "# examine correlations\n",
    "np.corrcoef(X,Z)"
   ]
  },
  {
   "cell_type": "code",
   "execution_count": 19,
   "id": "bb1819ef",
   "metadata": {},
   "outputs": [
    {
     "data": {
      "text/plain": [
       "array([[1.        , 0.79913318],\n",
       "       [0.79913318, 1.        ]])"
      ]
     },
     "execution_count": 19,
     "metadata": {},
     "output_type": "execute_result"
    }
   ],
   "source": [
    "np.corrcoef(Y,Z)"
   ]
  },
  {
   "cell_type": "code",
   "execution_count": 20,
   "id": "6ece4593",
   "metadata": {},
   "outputs": [
    {
     "name": "stderr",
     "output_type": "stream",
     "text": [
      "/var/folders/9p/5ycxgmps44zc3f0y6vljhp2h0000gn/T/ipykernel_87874/2230984618.py:13: FutureWarning: In v4.0, pm.sample will return an `arviz.InferenceData` object instead of a `MultiTrace` by default. You can pass return_inferencedata=True or return_inferencedata=False to be safe and silence this warning.\n",
      "  trace_m2 = pm.sample(1000, tune = 1000)\n",
      "Auto-assigning NUTS sampler...\n",
      "Initializing NUTS using jitter+adapt_diag...\n",
      "Multiprocess sampling (4 chains in 4 jobs)\n",
      "NUTS: [sigma, bz, bx, a]\n"
     ]
    },
    {
     "data": {
      "text/html": [
       "\n",
       "<style>\n",
       "    /* Turns off some styling */\n",
       "    progress {\n",
       "        /* gets rid of default border in Firefox and Opera. */\n",
       "        border: none;\n",
       "        /* Needs to be in here for Safari polyfill so background images work as expected. */\n",
       "        background-size: auto;\n",
       "    }\n",
       "    .progress-bar-interrupted, .progress-bar-interrupted::-webkit-progress-bar {\n",
       "        background: #F44336;\n",
       "    }\n",
       "</style>\n"
      ],
      "text/plain": [
       "<IPython.core.display.HTML object>"
      ]
     },
     "metadata": {},
     "output_type": "display_data"
    },
    {
     "data": {
      "text/html": [
       "\n",
       "    <div>\n",
       "      <progress value='8000' class='' max='8000' style='width:300px; height:20px; vertical-align: middle;'></progress>\n",
       "      100.00% [8000/8000 00:02<00:00 Sampling 4 chains, 0 divergences]\n",
       "    </div>\n",
       "    "
      ],
      "text/plain": [
       "<IPython.core.display.HTML object>"
      ]
     },
     "metadata": {},
     "output_type": "display_data"
    },
    {
     "name": "stderr",
     "output_type": "stream",
     "text": [
      "/Users/amralaa/anaconda3/envs/stat-rethink2-pymc3/lib/python3.9/site-packages/scipy/stats/_continuous_distns.py:624: RuntimeWarning: overflow encountered in _beta_ppf\n",
      "  return _boost._beta_ppf(q, a, b)\n",
      "/Users/amralaa/anaconda3/envs/stat-rethink2-pymc3/lib/python3.9/site-packages/scipy/stats/_continuous_distns.py:624: RuntimeWarning: overflow encountered in _beta_ppf\n",
      "  return _boost._beta_ppf(q, a, b)\n",
      "/Users/amralaa/anaconda3/envs/stat-rethink2-pymc3/lib/python3.9/site-packages/scipy/stats/_continuous_distns.py:624: RuntimeWarning: overflow encountered in _beta_ppf\n",
      "  return _boost._beta_ppf(q, a, b)\n",
      "Sampling 4 chains for 1_000 tune and 1_000 draw iterations (4_000 + 4_000 draws total) took 16 seconds.\n"
     ]
    }
   ],
   "source": [
    "#the model\n",
    "\n",
    "with pm.Model() as m2:\n",
    "    a = pm.Normal('a', mu = 0, sd = 0.2)\n",
    "    bx = pm.Normal('bx', mu = 0, sd = 0.5)\n",
    "    bz = pm.Normal('bz', mu = 0, sd = 0.5)\n",
    "    sigma = pm.Exponential('sigma',1)\n",
    "    \n",
    "    mu = a + bx*X + bz*Z\n",
    "    \n",
    "    y_hat = pm.Normal('y_hat',mu = mu, sd = sigma, observed = Y)\n",
    "    \n",
    "    trace_m2 = pm.sample(1000, tune = 1000)"
   ]
  },
  {
   "cell_type": "code",
   "execution_count": 21,
   "id": "ac75e7ac",
   "metadata": {},
   "outputs": [
    {
     "name": "stderr",
     "output_type": "stream",
     "text": [
      "/Users/amralaa/anaconda3/envs/stat-rethink2-pymc3/lib/python3.9/site-packages/arviz/data/io_pymc3.py:96: FutureWarning: Using `from_pymc3` without the model will be deprecated in a future release. Not using the model will return less accurate and less useful results. Make sure you use the model argument or call from_pymc3 within a model context.\n",
      "  warnings.warn(\n"
     ]
    },
    {
     "data": {
      "text/html": [
       "<div>\n",
       "<style scoped>\n",
       "    .dataframe tbody tr th:only-of-type {\n",
       "        vertical-align: middle;\n",
       "    }\n",
       "\n",
       "    .dataframe tbody tr th {\n",
       "        vertical-align: top;\n",
       "    }\n",
       "\n",
       "    .dataframe thead th {\n",
       "        text-align: right;\n",
       "    }\n",
       "</style>\n",
       "<table border=\"1\" class=\"dataframe\">\n",
       "  <thead>\n",
       "    <tr style=\"text-align: right;\">\n",
       "      <th></th>\n",
       "      <th>mean</th>\n",
       "      <th>sd</th>\n",
       "      <th>hdi_3%</th>\n",
       "      <th>hdi_97%</th>\n",
       "      <th>mcse_mean</th>\n",
       "      <th>mcse_sd</th>\n",
       "      <th>ess_bulk</th>\n",
       "      <th>ess_tail</th>\n",
       "      <th>r_hat</th>\n",
       "    </tr>\n",
       "  </thead>\n",
       "  <tbody>\n",
       "    <tr>\n",
       "      <th>a</th>\n",
       "      <td>-0.039</td>\n",
       "      <td>0.093</td>\n",
       "      <td>-0.223</td>\n",
       "      <td>0.127</td>\n",
       "      <td>0.002</td>\n",
       "      <td>0.002</td>\n",
       "      <td>3254.0</td>\n",
       "      <td>2338.0</td>\n",
       "      <td>1.0</td>\n",
       "    </tr>\n",
       "    <tr>\n",
       "      <th>bx</th>\n",
       "      <td>-0.130</td>\n",
       "      <td>0.172</td>\n",
       "      <td>-0.451</td>\n",
       "      <td>0.195</td>\n",
       "      <td>0.004</td>\n",
       "      <td>0.003</td>\n",
       "      <td>2424.0</td>\n",
       "      <td>2287.0</td>\n",
       "      <td>1.0</td>\n",
       "    </tr>\n",
       "    <tr>\n",
       "      <th>bz</th>\n",
       "      <td>0.765</td>\n",
       "      <td>0.102</td>\n",
       "      <td>0.571</td>\n",
       "      <td>0.951</td>\n",
       "      <td>0.002</td>\n",
       "      <td>0.001</td>\n",
       "      <td>2459.0</td>\n",
       "      <td>2329.0</td>\n",
       "      <td>1.0</td>\n",
       "    </tr>\n",
       "    <tr>\n",
       "      <th>sigma</th>\n",
       "      <td>1.015</td>\n",
       "      <td>0.075</td>\n",
       "      <td>0.879</td>\n",
       "      <td>1.152</td>\n",
       "      <td>0.001</td>\n",
       "      <td>0.001</td>\n",
       "      <td>2979.0</td>\n",
       "      <td>2148.0</td>\n",
       "      <td>1.0</td>\n",
       "    </tr>\n",
       "  </tbody>\n",
       "</table>\n",
       "</div>"
      ],
      "text/plain": [
       "        mean     sd  hdi_3%  hdi_97%  mcse_mean  mcse_sd  ess_bulk  ess_tail  \\\n",
       "a     -0.039  0.093  -0.223    0.127      0.002    0.002    3254.0    2338.0   \n",
       "bx    -0.130  0.172  -0.451    0.195      0.004    0.003    2424.0    2287.0   \n",
       "bz     0.765  0.102   0.571    0.951      0.002    0.001    2459.0    2329.0   \n",
       "sigma  1.015  0.075   0.879    1.152      0.001    0.001    2979.0    2148.0   \n",
       "\n",
       "       r_hat  \n",
       "a        1.0  \n",
       "bx       1.0  \n",
       "bz       1.0  \n",
       "sigma    1.0  "
      ]
     },
     "execution_count": 21,
     "metadata": {},
     "output_type": "execute_result"
    }
   ],
   "source": [
    "az.summary(trace_m2)"
   ]
  },
  {
   "cell_type": "code",
   "execution_count": 27,
   "id": "bf3ef195",
   "metadata": {},
   "outputs": [
    {
     "name": "stderr",
     "output_type": "stream",
     "text": [
      "/Users/amralaa/anaconda3/envs/stat-rethink2-pymc3/lib/python3.9/site-packages/arviz/data/io_pymc3.py:96: FutureWarning: Using `from_pymc3` without the model will be deprecated in a future release. Not using the model will return less accurate and less useful results. Make sure you use the model argument or call from_pymc3 within a model context.\n",
      "  warnings.warn(\n"
     ]
    },
    {
     "data": {
      "image/png": "[encoded data removed]",
      "text/plain": [
       "<Figure size 288x432 with 1 Axes>"
      ]
     },
     "metadata": {
      "needs_background": "light"
     },
     "output_type": "display_data"
    }
   ],
   "source": [
    "az.plot_forest(trace_m2, combined = True, figsize = (4,6));"
   ]
  },
  {
   "cell_type": "markdown",
   "id": "ef38ffd7",
   "metadata": {},
   "source": [
    "In the leg example, both predictiors were produced from a third unmeasured confound. Therefore the model distributed the weights (betas) on both. \n",
    "\n",
    "In this case, Z is produced from X. Once we condition on Z, X becomes redundant and thus its $\\beta_x$ goes down to 0."
   ]
  },
  {
   "cell_type": "markdown",
   "id": "be6a7646",
   "metadata": {},
   "source": [
    "6M3. Learning to analyze DAGs requires practice. For each of the four DAGs below, state which variables, if any, you must adjust for (condition on) to estimate the total causal influence of X on Y."
   ]
  },
  {
   "attachments": {
    "dag_ch6.png": {
     "image/png": "[encoded data removed]"
    }
   },
   "cell_type": "markdown",
   "id": "dd351cda",
   "metadata": {},
   "source": [
    "<div>\n",
    "<img src=\"attachment:dag_ch6.png\" width=\"300\" height=\"300\"/>\n",
    "</div>"
   ]
  },
  {
   "cell_type": "markdown",
   "id": "4dd58883",
   "metadata": {},
   "source": [
    "Ans:\n",
    "\n",
    "Use the recipie from McElreath:\n",
    "\n",
    "1. Identify all path from $X$ to $Y$\n",
    "2. Identify open ones (a path is open unless it has collider)\n",
    "3. Identify which are backdoor into $X$\n",
    "4. Close open backdoor path into $X$ if possible\n",
    "\n",
    "The main idea: open backdoor path into $X$ will have information not related to the causal influence of $X$ on $Y$\n",
    "\n",
    "so for the examples above:\n",
    "\n",
    "Top left: \n",
    "open backdoor path $X \\leftarrow Z \\leftarrow A \\rightarrow Y$ and $X \\leftarrow Z \\rightarrow Y$\n",
    "\n",
    "to close both: condition on $Z$\n",
    "\n",
    "Top right: no backdoor paths into $X$, nothing to close\n",
    "\n",
    "Bottom left:\n",
    "\n",
    "paths: \n",
    "\n",
    "$X \\rightarrow Y$\n",
    "\n",
    "$X \\rightarrow Z \\leftarrow Y$\n",
    "\n",
    "$X \\leftarrow A \\rightarrow Z \\leftarrow Y$\n",
    "\n",
    "path 3 is backdoor but contains collider so it's closed. Nothing to close.\n",
    "\n",
    "Bottom right:\n",
    "\n",
    "paths: \n",
    "\n",
    "$X \\rightarrow Y$\n",
    "\n",
    "$X \\rightarrow Z \\leftarrow Y$\n",
    "\n",
    "$X \\leftarrow A \\rightarrow Z \\rightarrow Y$\n",
    "\n",
    "Path 3 is open backdoor. We can close it by conditiong on either $A$ or $Z$ but conditioning on $Z$ will close path 2 as well. So, we condition on $A$"
   ]
  },
  {
   "cell_type": "code",
   "execution_count": null,
   "id": "da5db866",
   "metadata": {},
   "outputs": [],
   "source": []
  }
 ],
 "metadata": {
  "kernelspec": {
   "display_name": "Python 3.10 (stat-rethink2-pymc3)",
   "language": "python",
   "name": "stat-rethink2-pymc3"
  },
  "language_info": {
   "codemirror_mode": {
    "name": "ipython",
    "version": 3
   },
   "file_extension": ".py",
   "mimetype": "text/x-python",
   "name": "python",
   "nbconvert_exporter": "python",
   "pygments_lexer": "ipython3",
   "version": "3.9.12"
  }
 },
 "nbformat": 4,
 "nbformat_minor": 5
}
