{
 "cells": [
  {
   "cell_type": "markdown",
   "id": "add2b4b0",
   "metadata": {},
   "source": [
    "5E1. Which of the linear models below are multiple linear regressions?\n",
    "\n",
    "(1) μi =α+βxi\n",
    "\n",
    "(2) μi = βxxi + βzzi\n",
    "\n",
    "(3) μi = α + β(xi − zi) \n",
    "\n",
    "(4) μi =α+βxxi +βzzi"
   ]
  },
  {
   "cell_type": "markdown",
   "id": "41803850",
   "metadata": {},
   "source": [
    "Ans: 2, 4"
   ]
  },
  {
   "cell_type": "markdown",
   "id": "b3e23517",
   "metadata": {},
   "source": [
    "5E2. Write down a multiple regression to evaluate the claim: Animal diversity is linearly related to latitude, but only after controlling for plant diversity. You just need to write down the model definition."
   ]
  },
  {
   "cell_type": "markdown",
   "id": "3ff8cd9f",
   "metadata": {},
   "source": [
    "Ans:\n",
    "\n",
    "Animal Diversity $A$\n",
    "\n",
    "Plant Diversity $P$\n",
    "\n",
    "Latitdue $L$\n",
    "\n",
    "DAG:\n",
    "\n",
    "$L \\rightarrow A$\n",
    "\n",
    "$L \\rightarrow P$\n",
    "\n",
    "$P \\rightarrow A$\n",
    "\n",
    "Model:\n",
    "\n",
    "$A = f(L,P)$\n",
    "\n",
    "$A \\text{~} N(\\mu_i,\\sigma)$\n",
    "\n",
    "$\\mu_i = \\alpha + \\beta_L L_i + \\beta_P P_i$\n",
    "\n",
    "$\\alpha, \\beta_L, \\beta_P \\text{~} N(0,1)$"
   ]
  },
  {
   "cell_type": "markdown",
   "id": "0986fb85",
   "metadata": {},
   "source": [
    "5E3. Write down a multiple regression to evaluate the claim: Neither amount of funding nor size of laboratory is by itself a good predictor of time to PhD degree; but together these variables are both positively associated with time to degree. Write down the model definition and indicate which side of zero each slope parameter should be on."
   ]
  },
  {
   "cell_type": "markdown",
   "id": "d2cc53ce",
   "metadata": {},
   "source": [
    "Ans: \n",
    "\n",
    "amount of funding $F$\n",
    "\n",
    "size of laboratory $S$\n",
    "\n",
    "time to PhD degree $T$\n",
    "\n",
    "$T \\text{~} N(\\mu_i, \\sigma)$\n",
    "\n",
    "$\\mu_i = \\alpha + \\beta_F F_i + \\beta_S S_i$\n",
    "\n",
    "How can both together be positively associated with time to degree but neither by itself?\n",
    "\n",
    "Small lab , more fund per student\n",
    "\n",
    "Big lab, less fund per student\n",
    "\n",
    "Whether you're in a small or big lab may by itself not influence your time to PhD same if you have small or big funds."
   ]
  },
  {
   "cell_type": "markdown",
   "id": "68e3723d",
   "metadata": {},
   "source": [
    "5E4. Suppose you have a single categorical predictor with 4 levels (unique values), labeled A, B, C and D. Let Ai be an indicator variable that is 1 where case i is in category A. Also suppose Bi, Ci, and Di for the other categories. Now which of the following linear models are inferentially equivalent ways to include the categorical variable in a regression? Models are inferentially equivalent when it’s possible to compute one posterior distribution from the posterior distribution of another model.\n",
    "\n",
    "(1) μi = α+βAAi +βBBi +βDDi\n",
    "\n",
    "(2) μi = α+βAAi +βBBi +βCCi +βDDi\n",
    "\n",
    "(3) μi = α+βBBi +βCCi +βDDi\n",
    "\n",
    "(4) μi = αAAi +αBBi +αCCi +αDDi\n",
    "\n",
    "(5) μi = αA(1−Bi −Ci −Di)+αBBi +αCCi +αDDi"
   ]
  },
  {
   "cell_type": "markdown",
   "id": "0af19167",
   "metadata": {},
   "source": [
    "Ans: 1,3,4,5 are all inferentially equivalent. 2 is different since it has intercept $\\alpha$"
   ]
  },
  {
   "cell_type": "markdown",
   "id": "72ac0b35",
   "metadata": {},
   "source": [
    "5M1. Invent your own example of a spurious correlation. An outcome variable should be correlated with both predictor variables. But when both predictors are entered in the same model, the correlation between the outcome and one of the predictors should mostly vanish (or at least be greatly reduced)."
   ]
  },
  {
   "cell_type": "markdown",
   "id": "0c0dd679",
   "metadata": {},
   "source": [
    "Ans: This could be a mediator example $X \\rightarrow Z \\rightarrow Y$ where the relationship between predictor $X$ and outcome $Y$ vanishes if we condition on (include) the mediator $Z$\n",
    "\n",
    "example: How much weight you can lift -> your muscle mass -> your fitness level\n",
    "\n",
    "It could also be a common cause (Fork) example $Z \\rightarrow X$ & $Z \\rightarrow Y$. $X,Y$ will be correlated but if we condition on $Z$ this vanishes.\n",
    "\n",
    "example: hot weather -> more cold drinks sold. hot weather -> more fans sold"
   ]
  },
  {
   "cell_type": "markdown",
   "id": "e3626a89",
   "metadata": {},
   "source": [
    "5M2. Invent your own example of a masked relationship. An outcome variable should be correlated with both predictor variables, but in opposite directions. And the two predictor variables should be correlated with one another."
   ]
  },
  {
   "cell_type": "markdown",
   "id": "2c52c2ac",
   "metadata": {},
   "source": [
    "Ans: Masked relationship example from the book: \n",
    "\n",
    "Consider relationship between brain size (neocortex % to body mass), body mass and energy in milk produced by a species. \n",
    "\n",
    "Species with big brains (with respect to their body mass like humans) have lower body mass and higher energy milk (and vice versa).\n",
    "\n",
    "Big brains (+) , low body mass (-) , high energy (+)\n",
    "\n",
    "Small brains (-) , large body mass (+) , low energy (-)\n",
    "\n",
    "The masking is: if you correlate brain size with energy by itself, body mass with energy by itself, the associations will be weaker than when you add them both to the model. \n",
    "\n",
    "My example:\n",
    "\n",
    "The relatioship between: how much time you spend studying $S$, how much time you spend partying (celebrating) $C$ and how popular you are $P$"
   ]
  },
  {
   "cell_type": "markdown",
   "id": "5508efd6",
   "metadata": {},
   "source": [
    "5M3. It is sometimes observed that the best predictor of fire risk is the presence of firefighters— States and localities with many firefighters also have more fires. Presumably firefighters do not cause fires. Nevertheless, this is not a spurious correlation. Instead fires cause firefighters. Consider the same reversal of causal inference in the context of the divorce and marriage data. How might a high divorce rate cause a higher marriage rate? Can you think of a way to evaluate this relationship, using multiple regression?"
   ]
  },
  {
   "cell_type": "markdown",
   "id": "97102338",
   "metadata": {},
   "source": [
    "Ans: In a society where everyone is expected to / wants to be married, a high divorce rate will cause a high marriage rate.\n",
    "\n",
    "We then would like to separate first marriage from subsequent marriages and so our data needs to include that.\n",
    "\n",
    "\n",
    "From McElreath: _Better yet would be longitudinal data. In many real empirical contexts, causation involves feedback loops that can render regression fairly useless, unless some kind of time series framework is used._"
   ]
  },
  {
   "cell_type": "code",
   "execution_count": 1,
   "id": "de10c618",
   "metadata": {},
   "outputs": [],
   "source": [
    "import numpy as np\n",
    "import pandas as pd\n",
    "import matplotlib.pyplot as plt\n",
    "import pymc3 as pm\n",
    "import arviz as az"
   ]
  },
  {
   "cell_type": "markdown",
   "id": "0f278665",
   "metadata": {},
   "source": [
    "5M4. In the divorce data, States with high numbers of members of the Church of Jesus Christ of Latter-day Saints (LDS) have much lower divorce rates than the regression models expected. Find a list of LDS population by State and use those numbers as a predictor variable, predicting divorce rate using marriage rate, median age at marriage, and percent LDS population (possibly standardized). You may want to consider transformations of the raw percent LDS variable."
   ]
  },
  {
   "cell_type": "markdown",
   "id": "20a08a1e",
   "metadata": {},
   "source": [
    "Table found in: https://en.wikipedia.org/wiki/The_Church_of_Jesus_Christ_of_Latter-day_Saints_membership_statistics_(United_States)\n",
    "\n",
    "Downloaded as csv using: https://wikitable2csv.ggor.de"
   ]
  },
  {
   "cell_type": "code",
   "execution_count": 2,
   "id": "86427b6f",
   "metadata": {},
   "outputs": [],
   "source": [
    "path = '/Users/amralaa/CS - AGI core/[Prereq] Statistical Rethinking/resources/Rethinking_2/Data/WaffleDivorce.csv'"
   ]
  },
  {
   "cell_type": "code",
   "execution_count": 3,
   "id": "080d8080",
   "metadata": {},
   "outputs": [],
   "source": [
    "data = pd.read_csv(path,delimiter = ';')"
   ]
  },
  {
   "cell_type": "code",
   "execution_count": 5,
   "id": "259b1474",
   "metadata": {},
   "outputs": [
    {
     "data": {
      "text/html": [
       "<div>\n",
       "<style scoped>\n",
       "    .dataframe tbody tr th:only-of-type {\n",
       "        vertical-align: middle;\n",
       "    }\n",
       "\n",
       "    .dataframe tbody tr th {\n",
       "        vertical-align: top;\n",
       "    }\n",
       "\n",
       "    .dataframe thead th {\n",
       "        text-align: right;\n",
       "    }\n",
       "</style>\n",
       "<table border=\"1\" class=\"dataframe\">\n",
       "  <thead>\n",
       "    <tr style=\"text-align: right;\">\n",
       "      <th></th>\n",
       "      <th>Location</th>\n",
       "      <th>Loc</th>\n",
       "      <th>Population</th>\n",
       "      <th>MedianAgeMarriage</th>\n",
       "      <th>Marriage</th>\n",
       "      <th>Marriage SE</th>\n",
       "      <th>Divorce</th>\n",
       "      <th>Divorce SE</th>\n",
       "      <th>WaffleHouses</th>\n",
       "      <th>South</th>\n",
       "      <th>Slaves1860</th>\n",
       "      <th>Population1860</th>\n",
       "      <th>PropSlaves1860</th>\n",
       "    </tr>\n",
       "  </thead>\n",
       "  <tbody>\n",
       "    <tr>\n",
       "      <th>0</th>\n",
       "      <td>Alabama</td>\n",
       "      <td>AL</td>\n",
       "      <td>4.78</td>\n",
       "      <td>25.3</td>\n",
       "      <td>20.2</td>\n",
       "      <td>1.27</td>\n",
       "      <td>12.7</td>\n",
       "      <td>0.79</td>\n",
       "      <td>128</td>\n",
       "      <td>1</td>\n",
       "      <td>435080</td>\n",
       "      <td>964201</td>\n",
       "      <td>0.45</td>\n",
       "    </tr>\n",
       "    <tr>\n",
       "      <th>1</th>\n",
       "      <td>Alaska</td>\n",
       "      <td>AK</td>\n",
       "      <td>0.71</td>\n",
       "      <td>25.2</td>\n",
       "      <td>26.0</td>\n",
       "      <td>2.93</td>\n",
       "      <td>12.5</td>\n",
       "      <td>2.05</td>\n",
       "      <td>0</td>\n",
       "      <td>0</td>\n",
       "      <td>0</td>\n",
       "      <td>0</td>\n",
       "      <td>0.00</td>\n",
       "    </tr>\n",
       "    <tr>\n",
       "      <th>2</th>\n",
       "      <td>Arizona</td>\n",
       "      <td>AZ</td>\n",
       "      <td>6.33</td>\n",
       "      <td>25.8</td>\n",
       "      <td>20.3</td>\n",
       "      <td>0.98</td>\n",
       "      <td>10.8</td>\n",
       "      <td>0.74</td>\n",
       "      <td>18</td>\n",
       "      <td>0</td>\n",
       "      <td>0</td>\n",
       "      <td>0</td>\n",
       "      <td>0.00</td>\n",
       "    </tr>\n",
       "    <tr>\n",
       "      <th>3</th>\n",
       "      <td>Arkansas</td>\n",
       "      <td>AR</td>\n",
       "      <td>2.92</td>\n",
       "      <td>24.3</td>\n",
       "      <td>26.4</td>\n",
       "      <td>1.70</td>\n",
       "      <td>13.5</td>\n",
       "      <td>1.22</td>\n",
       "      <td>41</td>\n",
       "      <td>1</td>\n",
       "      <td>111115</td>\n",
       "      <td>435450</td>\n",
       "      <td>0.26</td>\n",
       "    </tr>\n",
       "    <tr>\n",
       "      <th>4</th>\n",
       "      <td>California</td>\n",
       "      <td>CA</td>\n",
       "      <td>37.25</td>\n",
       "      <td>26.8</td>\n",
       "      <td>19.1</td>\n",
       "      <td>0.39</td>\n",
       "      <td>8.0</td>\n",
       "      <td>0.24</td>\n",
       "      <td>0</td>\n",
       "      <td>0</td>\n",
       "      <td>0</td>\n",
       "      <td>379994</td>\n",
       "      <td>0.00</td>\n",
       "    </tr>\n",
       "  </tbody>\n",
       "</table>\n",
       "</div>"
      ],
      "text/plain": [
       "     Location Loc  Population  MedianAgeMarriage  Marriage  Marriage SE  \\\n",
       "0     Alabama  AL        4.78               25.3      20.2         1.27   \n",
       "1      Alaska  AK        0.71               25.2      26.0         2.93   \n",
       "2     Arizona  AZ        6.33               25.8      20.3         0.98   \n",
       "3    Arkansas  AR        2.92               24.3      26.4         1.70   \n",
       "4  California  CA       37.25               26.8      19.1         0.39   \n",
       "\n",
       "   Divorce  Divorce SE  WaffleHouses  South  Slaves1860  Population1860  \\\n",
       "0     12.7        0.79           128      1      435080          964201   \n",
       "1     12.5        2.05             0      0           0               0   \n",
       "2     10.8        0.74            18      0           0               0   \n",
       "3     13.5        1.22            41      1      111115          435450   \n",
       "4      8.0        0.24             0      0           0          379994   \n",
       "\n",
       "   PropSlaves1860  \n",
       "0            0.45  \n",
       "1            0.00  \n",
       "2            0.00  \n",
       "3            0.26  \n",
       "4            0.00  "
      ]
     },
     "execution_count": 5,
     "metadata": {},
     "output_type": "execute_result"
    }
   ],
   "source": [
    "data.head()"
   ]
  },
  {
   "cell_type": "code",
   "execution_count": 58,
   "id": "422c00c8",
   "metadata": {},
   "outputs": [],
   "source": [
    "path_wiki = '/Users/amralaa/CS - AGI core/[Prereq] Statistical Rethinking/resources/Rethinking_2/Data/LDS-table-2.csv'"
   ]
  },
  {
   "cell_type": "code",
   "execution_count": 59,
   "id": "4b5ed95c",
   "metadata": {},
   "outputs": [],
   "source": [
    "lds = pd.read_csv(path_wiki, index_col = False)"
   ]
  },
  {
   "cell_type": "code",
   "execution_count": 60,
   "id": "77852251",
   "metadata": {},
   "outputs": [
    {
     "data": {
      "text/html": [
       "<div>\n",
       "<style scoped>\n",
       "    .dataframe tbody tr th:only-of-type {\n",
       "        vertical-align: middle;\n",
       "    }\n",
       "\n",
       "    .dataframe tbody tr th {\n",
       "        vertical-align: top;\n",
       "    }\n",
       "\n",
       "    .dataframe thead th {\n",
       "        text-align: right;\n",
       "    }\n",
       "</style>\n",
       "<table border=\"1\" class=\"dataframe\">\n",
       "  <thead>\n",
       "    <tr style=\"text-align: right;\">\n",
       "      <th></th>\n",
       "      <th>State</th>\n",
       "      <th>Area</th>\n",
       "      <th>Members</th>\n",
       "      <th>Population</th>\n",
       "      <th>%LDS</th>\n",
       "      <th>2011</th>\n",
       "      <th>2021</th>\n",
       "      <th>Change</th>\n",
       "      <th>Growth (%)</th>\n",
       "      <th>% of Total Growth</th>\n",
       "      <th>Pew</th>\n",
       "      <th>ARDA</th>\n",
       "      <th>Unnamed: 12</th>\n",
       "    </tr>\n",
       "  </thead>\n",
       "  <tbody>\n",
       "    <tr>\n",
       "      <th>0</th>\n",
       "      <td>Alabama</td>\n",
       "      <td>NA Southeast</td>\n",
       "      <td>38,845</td>\n",
       "      <td>5,039,877</td>\n",
       "      <td>0.77%</td>\n",
       "      <td>34,725</td>\n",
       "      <td>38,845</td>\n",
       "      <td>4,120</td>\n",
       "      <td>11.9%</td>\n",
       "      <td>0.59%</td>\n",
       "      <td>1%</td>\n",
       "      <td>10th</td>\n",
       "      <td>edit</td>\n",
       "    </tr>\n",
       "    <tr>\n",
       "      <th>1</th>\n",
       "      <td>Alaska</td>\n",
       "      <td>NA West</td>\n",
       "      <td>33,250</td>\n",
       "      <td>732,673</td>\n",
       "      <td>4.54%</td>\n",
       "      <td>32,170</td>\n",
       "      <td>33,250</td>\n",
       "      <td>1,080</td>\n",
       "      <td>3.36%</td>\n",
       "      <td>0.15%</td>\n",
       "      <td>5%</td>\n",
       "      <td>2nd</td>\n",
       "      <td>edit</td>\n",
       "    </tr>\n",
       "    <tr>\n",
       "      <th>2</th>\n",
       "      <td>Arizona</td>\n",
       "      <td>NA Southwest</td>\n",
       "      <td>438,249</td>\n",
       "      <td>7,276,316</td>\n",
       "      <td>6.02%</td>\n",
       "      <td>381,235</td>\n",
       "      <td>438,249</td>\n",
       "      <td>57,014</td>\n",
       "      <td>14.96%</td>\n",
       "      <td>8.11%</td>\n",
       "      <td>5%</td>\n",
       "      <td>2nd</td>\n",
       "      <td>edit</td>\n",
       "    </tr>\n",
       "    <tr>\n",
       "      <th>3</th>\n",
       "      <td>Arkansas</td>\n",
       "      <td>NA Southeast</td>\n",
       "      <td>34,027</td>\n",
       "      <td>3,025,891</td>\n",
       "      <td>1.12%</td>\n",
       "      <td>26,650</td>\n",
       "      <td>34,027</td>\n",
       "      <td>7,377</td>\n",
       "      <td>27.68%</td>\n",
       "      <td>1.05%</td>\n",
       "      <td>1%</td>\n",
       "      <td>9th</td>\n",
       "      <td>edit</td>\n",
       "    </tr>\n",
       "    <tr>\n",
       "      <th>4</th>\n",
       "      <td>California</td>\n",
       "      <td>NA West</td>\n",
       "      <td>734,989</td>\n",
       "      <td>39,237,836</td>\n",
       "      <td>1.87%</td>\n",
       "      <td>757,895</td>\n",
       "      <td>734,989</td>\n",
       "      <td>(22,906)</td>\n",
       "      <td>(3.02%)</td>\n",
       "      <td>(3.26%)</td>\n",
       "      <td>1%</td>\n",
       "      <td>2nd</td>\n",
       "      <td>edit</td>\n",
       "    </tr>\n",
       "  </tbody>\n",
       "</table>\n",
       "</div>"
      ],
      "text/plain": [
       "        State          Area  Members  Population   %LDS     2011     2021  \\\n",
       "0     Alabama  NA Southeast   38,845   5,039,877  0.77%   34,725   38,845   \n",
       "1      Alaska       NA West   33,250     732,673  4.54%   32,170   33,250   \n",
       "2     Arizona  NA Southwest  438,249   7,276,316  6.02%  381,235  438,249   \n",
       "3    Arkansas  NA Southeast   34,027   3,025,891  1.12%   26,650   34,027   \n",
       "4  California       NA West  734,989  39,237,836  1.87%  757,895  734,989   \n",
       "\n",
       "     Change Growth (%) % of Total Growth Pew  ARDA Unnamed: 12  \n",
       "0     4,120      11.9%             0.59%  1%  10th        edit  \n",
       "1     1,080      3.36%             0.15%  5%   2nd        edit  \n",
       "2    57,014     14.96%             8.11%  5%   2nd        edit  \n",
       "3     7,377     27.68%             1.05%  1%   9th        edit  \n",
       "4  (22,906)    (3.02%)           (3.26%)  1%   2nd        edit  "
      ]
     },
     "execution_count": 60,
     "metadata": {},
     "output_type": "execute_result"
    }
   ],
   "source": [
    "lds.head()"
   ]
  },
  {
   "cell_type": "code",
   "execution_count": 61,
   "id": "c91305c9",
   "metadata": {},
   "outputs": [],
   "source": [
    "lds = lds.rename(columns = {'State':'Location','%LDS':'plds'})"
   ]
  },
  {
   "cell_type": "code",
   "execution_count": 62,
   "id": "147c4959",
   "metadata": {},
   "outputs": [],
   "source": [
    "merged = pd.merge(data,lds,on = ['Location'])"
   ]
  },
  {
   "cell_type": "code",
   "execution_count": 63,
   "id": "f1c80266",
   "metadata": {},
   "outputs": [
    {
     "data": {
      "text/html": [
       "<div>\n",
       "<style scoped>\n",
       "    .dataframe tbody tr th:only-of-type {\n",
       "        vertical-align: middle;\n",
       "    }\n",
       "\n",
       "    .dataframe tbody tr th {\n",
       "        vertical-align: top;\n",
       "    }\n",
       "\n",
       "    .dataframe thead th {\n",
       "        text-align: right;\n",
       "    }\n",
       "</style>\n",
       "<table border=\"1\" class=\"dataframe\">\n",
       "  <thead>\n",
       "    <tr style=\"text-align: right;\">\n",
       "      <th></th>\n",
       "      <th>Location</th>\n",
       "      <th>Loc</th>\n",
       "      <th>Population_x</th>\n",
       "      <th>MedianAgeMarriage</th>\n",
       "      <th>Marriage</th>\n",
       "      <th>Marriage SE</th>\n",
       "      <th>Divorce</th>\n",
       "      <th>Divorce SE</th>\n",
       "      <th>WaffleHouses</th>\n",
       "      <th>South</th>\n",
       "      <th>...</th>\n",
       "      <th>Population_y</th>\n",
       "      <th>plds</th>\n",
       "      <th>2011</th>\n",
       "      <th>2021</th>\n",
       "      <th>Change</th>\n",
       "      <th>Growth (%)</th>\n",
       "      <th>% of Total Growth</th>\n",
       "      <th>Pew</th>\n",
       "      <th>ARDA</th>\n",
       "      <th>Unnamed: 12</th>\n",
       "    </tr>\n",
       "  </thead>\n",
       "  <tbody>\n",
       "    <tr>\n",
       "      <th>0</th>\n",
       "      <td>Alabama</td>\n",
       "      <td>AL</td>\n",
       "      <td>4.78</td>\n",
       "      <td>25.3</td>\n",
       "      <td>20.2</td>\n",
       "      <td>1.27</td>\n",
       "      <td>12.7</td>\n",
       "      <td>0.79</td>\n",
       "      <td>128</td>\n",
       "      <td>1</td>\n",
       "      <td>...</td>\n",
       "      <td>5,039,877</td>\n",
       "      <td>0.77%</td>\n",
       "      <td>34,725</td>\n",
       "      <td>38,845</td>\n",
       "      <td>4,120</td>\n",
       "      <td>11.9%</td>\n",
       "      <td>0.59%</td>\n",
       "      <td>1%</td>\n",
       "      <td>10th</td>\n",
       "      <td>edit</td>\n",
       "    </tr>\n",
       "    <tr>\n",
       "      <th>1</th>\n",
       "      <td>Alaska</td>\n",
       "      <td>AK</td>\n",
       "      <td>0.71</td>\n",
       "      <td>25.2</td>\n",
       "      <td>26.0</td>\n",
       "      <td>2.93</td>\n",
       "      <td>12.5</td>\n",
       "      <td>2.05</td>\n",
       "      <td>0</td>\n",
       "      <td>0</td>\n",
       "      <td>...</td>\n",
       "      <td>732,673</td>\n",
       "      <td>4.54%</td>\n",
       "      <td>32,170</td>\n",
       "      <td>33,250</td>\n",
       "      <td>1,080</td>\n",
       "      <td>3.36%</td>\n",
       "      <td>0.15%</td>\n",
       "      <td>5%</td>\n",
       "      <td>2nd</td>\n",
       "      <td>edit</td>\n",
       "    </tr>\n",
       "    <tr>\n",
       "      <th>2</th>\n",
       "      <td>Arizona</td>\n",
       "      <td>AZ</td>\n",
       "      <td>6.33</td>\n",
       "      <td>25.8</td>\n",
       "      <td>20.3</td>\n",
       "      <td>0.98</td>\n",
       "      <td>10.8</td>\n",
       "      <td>0.74</td>\n",
       "      <td>18</td>\n",
       "      <td>0</td>\n",
       "      <td>...</td>\n",
       "      <td>7,276,316</td>\n",
       "      <td>6.02%</td>\n",
       "      <td>381,235</td>\n",
       "      <td>438,249</td>\n",
       "      <td>57,014</td>\n",
       "      <td>14.96%</td>\n",
       "      <td>8.11%</td>\n",
       "      <td>5%</td>\n",
       "      <td>2nd</td>\n",
       "      <td>edit</td>\n",
       "    </tr>\n",
       "    <tr>\n",
       "      <th>3</th>\n",
       "      <td>Arkansas</td>\n",
       "      <td>AR</td>\n",
       "      <td>2.92</td>\n",
       "      <td>24.3</td>\n",
       "      <td>26.4</td>\n",
       "      <td>1.70</td>\n",
       "      <td>13.5</td>\n",
       "      <td>1.22</td>\n",
       "      <td>41</td>\n",
       "      <td>1</td>\n",
       "      <td>...</td>\n",
       "      <td>3,025,891</td>\n",
       "      <td>1.12%</td>\n",
       "      <td>26,650</td>\n",
       "      <td>34,027</td>\n",
       "      <td>7,377</td>\n",
       "      <td>27.68%</td>\n",
       "      <td>1.05%</td>\n",
       "      <td>1%</td>\n",
       "      <td>9th</td>\n",
       "      <td>edit</td>\n",
       "    </tr>\n",
       "    <tr>\n",
       "      <th>4</th>\n",
       "      <td>California</td>\n",
       "      <td>CA</td>\n",
       "      <td>37.25</td>\n",
       "      <td>26.8</td>\n",
       "      <td>19.1</td>\n",
       "      <td>0.39</td>\n",
       "      <td>8.0</td>\n",
       "      <td>0.24</td>\n",
       "      <td>0</td>\n",
       "      <td>0</td>\n",
       "      <td>...</td>\n",
       "      <td>39,237,836</td>\n",
       "      <td>1.87%</td>\n",
       "      <td>757,895</td>\n",
       "      <td>734,989</td>\n",
       "      <td>(22,906)</td>\n",
       "      <td>(3.02%)</td>\n",
       "      <td>(3.26%)</td>\n",
       "      <td>1%</td>\n",
       "      <td>2nd</td>\n",
       "      <td>edit</td>\n",
       "    </tr>\n",
       "  </tbody>\n",
       "</table>\n",
       "<p>5 rows × 25 columns</p>\n",
       "</div>"
      ],
      "text/plain": [
       "     Location Loc  Population_x  MedianAgeMarriage  Marriage  Marriage SE  \\\n",
       "0     Alabama  AL          4.78               25.3      20.2         1.27   \n",
       "1      Alaska  AK          0.71               25.2      26.0         2.93   \n",
       "2     Arizona  AZ          6.33               25.8      20.3         0.98   \n",
       "3    Arkansas  AR          2.92               24.3      26.4         1.70   \n",
       "4  California  CA         37.25               26.8      19.1         0.39   \n",
       "\n",
       "   Divorce  Divorce SE  WaffleHouses  South  ...  Population_y   plds  \\\n",
       "0     12.7        0.79           128      1  ...     5,039,877  0.77%   \n",
       "1     12.5        2.05             0      0  ...       732,673  4.54%   \n",
       "2     10.8        0.74            18      0  ...     7,276,316  6.02%   \n",
       "3     13.5        1.22            41      1  ...     3,025,891  1.12%   \n",
       "4      8.0        0.24             0      0  ...    39,237,836  1.87%   \n",
       "\n",
       "      2011     2021    Change Growth (%) % of Total Growth Pew  ARDA  \\\n",
       "0   34,725   38,845     4,120      11.9%             0.59%  1%  10th   \n",
       "1   32,170   33,250     1,080      3.36%             0.15%  5%   2nd   \n",
       "2  381,235  438,249    57,014     14.96%             8.11%  5%   2nd   \n",
       "3   26,650   34,027     7,377     27.68%             1.05%  1%   9th   \n",
       "4  757,895  734,989  (22,906)    (3.02%)           (3.26%)  1%   2nd   \n",
       "\n",
       "  Unnamed: 12  \n",
       "0        edit  \n",
       "1        edit  \n",
       "2        edit  \n",
       "3        edit  \n",
       "4        edit  \n",
       "\n",
       "[5 rows x 25 columns]"
      ]
     },
     "execution_count": 63,
     "metadata": {},
     "output_type": "execute_result"
    }
   ],
   "source": [
    "merged.head()"
   ]
  },
  {
   "cell_type": "code",
   "execution_count": 71,
   "id": "13feeab8",
   "metadata": {},
   "outputs": [],
   "source": [
    "# we need to change the %LDS from string to float\n",
    "merged['n_plds'] = merged['plds'].apply(lambda x:float(x[:-1]))"
   ]
  },
  {
   "cell_type": "code",
   "execution_count": 83,
   "id": "4ca3bf4b",
   "metadata": {},
   "outputs": [],
   "source": [
    "def standardize_series(series):\n",
    "    '''\n",
    "    A function to standardize the values in a pandas series\n",
    "    '''\n",
    "    return (series - series.mean())/series.std()"
   ]
  },
  {
   "cell_type": "code",
   "execution_count": 72,
   "id": "7eafe3f2",
   "metadata": {},
   "outputs": [],
   "source": [
    "# we standardize the %LDS score\n",
    "merged['plds_std'] = standardize_series(merged.plds)"
   ]
  },
  {
   "cell_type": "code",
   "execution_count": 84,
   "id": "3db34524",
   "metadata": {},
   "outputs": [],
   "source": [
    "merged['divorce_std'] = standardize_series(merged.Divorce)\n",
    "merged['marriage_std'] = standardize_series(merged.Marriage)\n",
    "merged['age_std'] = standardize_series(merged.MedianAgeMarriage)"
   ]
  },
  {
   "cell_type": "markdown",
   "id": "1b13ecd1",
   "metadata": {},
   "source": [
    "The Model:\n",
    "\n",
    "$D = f(M,A,L)$\n",
    "\n",
    "$D_i \\text{~} N(\\mu_i,\\sigma)$\n",
    "\n",
    "$\\mu_i = \\alpha + \\beta_M M_i + \\beta_A A_i + \\beta_L Li$\n",
    "\n",
    "$\\alpha \\text{~} N(0,0.2)$\n",
    "\n",
    "$ \\beta_M M_i , \\beta_A A_i , \\beta_L \\text{~} N(0,0.5)$\n",
    "\n",
    "$\\sigma \\text{~} Expo(1)$"
   ]
  },
  {
   "cell_type": "code",
   "execution_count": 92,
   "id": "e4669192",
   "metadata": {},
   "outputs": [
    {
     "name": "stderr",
     "output_type": "stream",
     "text": [
      "/var/folders/9p/5ycxgmps44zc3f0y6vljhp2h0000gn/T/ipykernel_29671/2308833136.py:13: FutureWarning: In v4.0, pm.sample will return an `arviz.InferenceData` object instead of a `MultiTrace` by default. You can pass return_inferencedata=True or return_inferencedata=False to be safe and silence this warning.\n",
      "  trace_m_5_4 = pm.sample(1000, tune = 1000)\n",
      "Auto-assigning NUTS sampler...\n",
      "Initializing NUTS using jitter+adapt_diag...\n",
      "Multiprocess sampling (4 chains in 4 jobs)\n",
      "NUTS: [sigma, b_L, b_M, b_A, a]\n"
     ]
    },
    {
     "data": {
      "text/html": [
       "\n",
       "<style>\n",
       "    /* Turns off some styling */\n",
       "    progress {\n",
       "        /* gets rid of default border in Firefox and Opera. */\n",
       "        border: none;\n",
       "        /* Needs to be in here for Safari polyfill so background images work as expected. */\n",
       "        background-size: auto;\n",
       "    }\n",
       "    .progress-bar-interrupted, .progress-bar-interrupted::-webkit-progress-bar {\n",
       "        background: #F44336;\n",
       "    }\n",
       "</style>\n"
      ],
      "text/plain": [
       "<IPython.core.display.HTML object>"
      ]
     },
     "metadata": {},
     "output_type": "display_data"
    },
    {
     "data": {
      "text/html": [
       "\n",
       "    <div>\n",
       "      <progress value='8000' class='' max='8000' style='width:300px; height:20px; vertical-align: middle;'></progress>\n",
       "      100.00% [8000/8000 00:02<00:00 Sampling 4 chains, 0 divergences]\n",
       "    </div>\n",
       "    "
      ],
      "text/plain": [
       "<IPython.core.display.HTML object>"
      ]
     },
     "metadata": {},
     "output_type": "display_data"
    },
    {
     "name": "stderr",
     "output_type": "stream",
     "text": [
      "/Users/amralaa/anaconda3/envs/stat-rethink2-pymc3/lib/python3.9/site-packages/scipy/stats/_continuous_distns.py:624: RuntimeWarning: overflow encountered in _beta_ppf\n",
      "  return _boost._beta_ppf(q, a, b)\n",
      "/Users/amralaa/anaconda3/envs/stat-rethink2-pymc3/lib/python3.9/site-packages/scipy/stats/_continuous_distns.py:624: RuntimeWarning: overflow encountered in _beta_ppf\n",
      "  return _boost._beta_ppf(q, a, b)\n",
      "/Users/amralaa/anaconda3/envs/stat-rethink2-pymc3/lib/python3.9/site-packages/scipy/stats/_continuous_distns.py:624: RuntimeWarning: overflow encountered in _beta_ppf\n",
      "  return _boost._beta_ppf(q, a, b)\n",
      "/Users/amralaa/anaconda3/envs/stat-rethink2-pymc3/lib/python3.9/site-packages/scipy/stats/_continuous_distns.py:624: RuntimeWarning: overflow encountered in _beta_ppf\n",
      "  return _boost._beta_ppf(q, a, b)\n",
      "Sampling 4 chains for 1_000 tune and 1_000 draw iterations (4_000 + 4_000 draws total) took 13 seconds.\n"
     ]
    }
   ],
   "source": [
    "with pm.Model() as m_5_4:\n",
    "    a = pm.Normal('a', mu = 0, sd = 0.2)\n",
    "    b_A = pm.Normal('b_A', mu = 0, sd = 0.5)\n",
    "    b_M = pm.Normal('b_M', mu = 0, sd = 0.5)\n",
    "    b_L = pm.Normal('b_L', mu = 0, sd = 0.5)\n",
    "    \n",
    "    sigma = pm.Exponential('sigma',1)\n",
    "    \n",
    "    mu = a + b_A * merged.age_std + b_M * merged.marriage_std + b_L * merged.plds_std\n",
    "    \n",
    "    divorce = pm.Normal('divorce',mu = mu, sd = sigma, observed = merged.divorce_std)\n",
    "    \n",
    "    trace_m_5_4 = pm.sample(1000, tune = 1000)"
   ]
  },
  {
   "cell_type": "code",
   "execution_count": 91,
   "id": "d2d47526",
   "metadata": {},
   "outputs": [
    {
     "name": "stderr",
     "output_type": "stream",
     "text": [
      "/Users/amralaa/anaconda3/envs/stat-rethink2-pymc3/lib/python3.9/site-packages/arviz/data/io_pymc3.py:96: FutureWarning: Using `from_pymc3` without the model will be deprecated in a future release. Not using the model will return less accurate and less useful results. Make sure you use the model argument or call from_pymc3 within a model context.\n",
      "  warnings.warn(\n"
     ]
    },
    {
     "data": {
      "text/html": [
       "<div>\n",
       "<style scoped>\n",
       "    .dataframe tbody tr th:only-of-type {\n",
       "        vertical-align: middle;\n",
       "    }\n",
       "\n",
       "    .dataframe tbody tr th {\n",
       "        vertical-align: top;\n",
       "    }\n",
       "\n",
       "    .dataframe thead th {\n",
       "        text-align: right;\n",
       "    }\n",
       "</style>\n",
       "<table border=\"1\" class=\"dataframe\">\n",
       "  <thead>\n",
       "    <tr style=\"text-align: right;\">\n",
       "      <th></th>\n",
       "      <th>mean</th>\n",
       "      <th>sd</th>\n",
       "      <th>hdi_3%</th>\n",
       "      <th>hdi_97%</th>\n",
       "      <th>mcse_mean</th>\n",
       "      <th>mcse_sd</th>\n",
       "      <th>ess_bulk</th>\n",
       "      <th>ess_tail</th>\n",
       "      <th>r_hat</th>\n",
       "    </tr>\n",
       "  </thead>\n",
       "  <tbody>\n",
       "    <tr>\n",
       "      <th>a</th>\n",
       "      <td>-0.001</td>\n",
       "      <td>0.113</td>\n",
       "      <td>-0.211</td>\n",
       "      <td>0.211</td>\n",
       "      <td>0.002</td>\n",
       "      <td>0.002</td>\n",
       "      <td>4048.0</td>\n",
       "      <td>2912.0</td>\n",
       "      <td>1.0</td>\n",
       "    </tr>\n",
       "    <tr>\n",
       "      <th>b_A</th>\n",
       "      <td>-0.679</td>\n",
       "      <td>0.152</td>\n",
       "      <td>-0.948</td>\n",
       "      <td>-0.388</td>\n",
       "      <td>0.003</td>\n",
       "      <td>0.002</td>\n",
       "      <td>3396.0</td>\n",
       "      <td>2847.0</td>\n",
       "      <td>1.0</td>\n",
       "    </tr>\n",
       "    <tr>\n",
       "      <th>b_M</th>\n",
       "      <td>0.042</td>\n",
       "      <td>0.154</td>\n",
       "      <td>-0.261</td>\n",
       "      <td>0.321</td>\n",
       "      <td>0.003</td>\n",
       "      <td>0.002</td>\n",
       "      <td>3276.0</td>\n",
       "      <td>2945.0</td>\n",
       "      <td>1.0</td>\n",
       "    </tr>\n",
       "    <tr>\n",
       "      <th>b_L</th>\n",
       "      <td>-0.312</td>\n",
       "      <td>0.124</td>\n",
       "      <td>-0.563</td>\n",
       "      <td>-0.092</td>\n",
       "      <td>0.002</td>\n",
       "      <td>0.001</td>\n",
       "      <td>3735.0</td>\n",
       "      <td>2708.0</td>\n",
       "      <td>1.0</td>\n",
       "    </tr>\n",
       "    <tr>\n",
       "      <th>sigma</th>\n",
       "      <td>0.782</td>\n",
       "      <td>0.084</td>\n",
       "      <td>0.624</td>\n",
       "      <td>0.937</td>\n",
       "      <td>0.002</td>\n",
       "      <td>0.001</td>\n",
       "      <td>2943.0</td>\n",
       "      <td>2020.0</td>\n",
       "      <td>1.0</td>\n",
       "    </tr>\n",
       "  </tbody>\n",
       "</table>\n",
       "</div>"
      ],
      "text/plain": [
       "        mean     sd  hdi_3%  hdi_97%  mcse_mean  mcse_sd  ess_bulk  ess_tail  \\\n",
       "a     -0.001  0.113  -0.211    0.211      0.002    0.002    4048.0    2912.0   \n",
       "b_A   -0.679  0.152  -0.948   -0.388      0.003    0.002    3396.0    2847.0   \n",
       "b_M    0.042  0.154  -0.261    0.321      0.003    0.002    3276.0    2945.0   \n",
       "b_L   -0.312  0.124  -0.563   -0.092      0.002    0.001    3735.0    2708.0   \n",
       "sigma  0.782  0.084   0.624    0.937      0.002    0.001    2943.0    2020.0   \n",
       "\n",
       "       r_hat  \n",
       "a        1.0  \n",
       "b_A      1.0  \n",
       "b_M      1.0  \n",
       "b_L      1.0  \n",
       "sigma    1.0  "
      ]
     },
     "execution_count": 91,
     "metadata": {},
     "output_type": "execute_result"
    }
   ],
   "source": [
    "az.summary(trace_m_5_4)"
   ]
  },
  {
   "cell_type": "code",
   "execution_count": 98,
   "id": "8cace5f0",
   "metadata": {},
   "outputs": [
    {
     "name": "stderr",
     "output_type": "stream",
     "text": [
      "/Users/amralaa/anaconda3/envs/stat-rethink2-pymc3/lib/python3.9/site-packages/arviz/data/io_pymc3.py:96: FutureWarning: Using `from_pymc3` without the model will be deprecated in a future release. Not using the model will return less accurate and less useful results. Make sure you use the model argument or call from_pymc3 within a model context.\n",
      "  warnings.warn(\n"
     ]
    },
    {
     "data": {
      "image/png": "[encoded data removed]",
      "text/plain": [
       "<Figure size 288x432 with 1 Axes>"
      ]
     },
     "metadata": {
      "needs_background": "light"
     },
     "output_type": "display_data"
    }
   ],
   "source": [
    "az.plot_forest(trace_m_5_4,var_names=[ 'b_A','b_M','b_L'], combined = True,\n",
    "              figsize = (4,6));"
   ]
  },
  {
   "cell_type": "markdown",
   "id": "ca6755bf",
   "metadata": {},
   "source": [
    "The model expect a negative relatioship between %LDS membership and divorce rates assuming that the relationship between %LDS and divorce rate is linear. "
   ]
  },
  {
   "cell_type": "code",
   "execution_count": 105,
   "id": "20045fc5",
   "metadata": {},
   "outputs": [],
   "source": [
    "# plt.scatter(merged.plds, merged.Divorce);"
   ]
  },
  {
   "cell_type": "markdown",
   "id": "3eb6f388",
   "metadata": {},
   "source": [
    "5M5. One way to reason through multiple causation hypotheses is to imagine detailed mechanisms through which predictor variables may influence outcomes. For example, it is sometimes argued that the price of gasoline (predictor variable) is positively associated with lower obesity rates (outcome variable). However, there are at least two important mechanisms by which the price of gas could reduce obesity. First, it could lead to less driving and therefore more exercise. Second, it could lead to less driving, which leads to less eating out, which leads to less consumption of huge restaurant meals. Can you outline one or more multiple regressions that address these two mechanisms? Assume you can have any predictor data you need."
   ]
  },
  {
   "cell_type": "markdown",
   "id": "e1344d88",
   "metadata": {},
   "source": [
    "There are many ways these models could be constructed. Let our variables be:\n",
    "\n",
    "$G$ price of Gasoline\n",
    "\n",
    "$O$ obseity rate\n",
    "\n",
    "$E$ amount of exercise people get\n",
    "\n",
    "$D$ driving\n",
    "\n",
    "$R$ restaurant dining\n",
    "\n",
    "we could have a model that looks like:\n",
    "\n",
    "$G \\rightarrow E \\rightarrow O$\n",
    "\n",
    "gas prices increase, exercise increases, obseity rates decline\n",
    "\n",
    "and we can think of an unmeasured confound $U$ that influences both $E, O$ for example the population's health awareness (if they are more health aware, will exercise more but also eat healthier which affects obsity rates). \n",
    "\n",
    "We can also think of $G \\rightarrow R \\rightarrow O$ and perhaps also unmeasured confound that affects prices of gasoline but also prices of meals at restaurants (like inflation). \n",
    "\n",
    "\n",
    "We can also think of a longer causal chain:\n",
    "\n",
    "Gas prices -> reduce Driving -> increases exercise -> reduces Obseity \n",
    "\n",
    "so: \n",
    "\n",
    "D is a declining function of G\n",
    "\n",
    "E is a declining function of D\n",
    "\n",
    "O is a declining function of E\n",
    "\n",
    "same for the second mechanism."
   ]
  }
 ],
 "metadata": {
  "kernelspec": {
   "display_name": "Python 3.10 (stat-rethink2-pymc3)",
   "language": "python",
   "name": "stat-rethink2-pymc3"
  },
  "language_info": {
   "codemirror_mode": {
    "name": "ipython",
    "version": 3
   },
   "file_extension": ".py",
   "mimetype": "text/x-python",
   "name": "python",
   "nbconvert_exporter": "python",
   "pygments_lexer": "ipython3",
   "version": "3.9.12"
  }
 },
 "nbformat": 4,
 "nbformat_minor": 5
}
