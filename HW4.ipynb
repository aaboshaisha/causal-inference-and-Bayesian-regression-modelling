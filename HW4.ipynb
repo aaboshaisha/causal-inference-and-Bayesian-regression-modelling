{
 "cells": [
  {
   "cell_type": "code",
   "execution_count": 2,
   "id": "c8b1273e",
   "metadata": {},
   "outputs": [],
   "source": [
    "import numpy as np\n",
    "import pandas as pd\n",
    "import pymc3 as pm\n",
    "import arviz as az\n",
    "import matplotlib.pyplot as plt"
   ]
  },
  {
   "cell_type": "markdown",
   "id": "cf89d68f",
   "metadata": {},
   "source": [
    "#### Notes on performing model comparison in pymc3 and arviz"
   ]
  },
  {
   "cell_type": "markdown",
   "id": "a3eb242c",
   "metadata": {},
   "source": [
    "Chapter 7 introduced the topic of model comparison using PSIS and WAIC. McElreath provides these functions in his 'rethinking' package. \n",
    "\n",
    "I found functions performing the same in arviz\n",
    "\n",
    "See:\n",
    "1. https://arviz-devs.github.io/arviz/api/generated/arviz.compare.html\n",
    "2. https://arviz-devs.github.io/arviz/api/generated/arviz.plot_compare.html\n",
    "3. https://arviz-devs.github.io/arviz/api/generated/arviz.from_pymc3.html\n",
    "\n",
    "To perfrom model comparison, there's a function in arviz \n",
    "\n",
    "arviz.compare(compare_dict: {'model name' : inference_data object, ic : 'loo or waic'}\n",
    "\n",
    "Takes as input a dictionary of model names and what is called an inference data object for that model. \n",
    "\n",
    "ic: the information criterion you want to use. Two are provided:\n",
    "\n",
    "loo: Pareto smoothed importance sampling leave-one-out cross-validation (LOO) or using the widely applicable information criterion (WAIC).\n",
    "\n",
    "To create an inference data object for your model using pymc3 objects, you can use\n",
    "\n",
    "arviz.from_pymc3 (trace, prior = prior_predective, posterior_predictive)\n",
    "\n",
    "And finally, to plot the comparisons, you take the dataframes provided by compare function and use arviz.plot_compare(dataframe)"
   ]
  },
  {
   "cell_type": "markdown",
   "id": "49566e7c",
   "metadata": {},
   "source": [
    "Interpreting the output of the compre function: (copied from https://arviz-devs.github.io/arviz/api/generated/arviz.compare.html) \n",
    "\n",
    "A DataFrame, ordered from best to worst model (measured by the ELPD).\n",
    "The index reflects the key with which the models are passed to this function. The columns are:\n",
    "\n",
    "rank: The rank-order of the models. 0 is the best.\n",
    "\n",
    "elpd: ELPD estimated either using (PSIS-LOO-CV elpd_loo or WAIC elpd_waic).\n",
    "**Higher ELPD indicates higher out-of-sample predictive fit (“better” model)**. If scale is deviance or negative_log smaller values indicates higher out-of-sample predictive fit (“better” model).\n",
    "\n",
    "\n",
    "weight: Relative weight for each model.\n",
    "This can be loosely interpreted as the probability of each model (among the compared model) given the data.\n",
    "\n",
    "SE: Standard error of the ELPD estimate.\n",
    "\n",
    "dSE: Standard error of the difference in ELPD between each model and the top-ranked model.\n",
    "It’s always 0 for the top-ranked model.\n",
    "warning: A value of 1 indicates that the computation of the ELPD may not be reliable.\n",
    "This could be indication of WAIC/LOO starting to fail see http://arxiv.org/abs/1507.04544 for details.\n",
    "scale: Scale used for the ELPD."
   ]
  },
  {
   "cell_type": "markdown",
   "id": "f8e48bb1",
   "metadata": {},
   "source": [
    "1. Revisit the marriage,age,and happiness collider bias example from Chapter 6. Run models m6.9 and m6.10 again (pages 178–179). Compare these two models using both PSIS and WAIC. Which model is expected to make better predictions, according to these criteria? On the basis of the causal model, how should you interpret the parameter estimates from the model preferred by PSIS and WAIC?"
   ]
  },
  {
   "cell_type": "code",
   "execution_count": 3,
   "id": "e7c56f63",
   "metadata": {},
   "outputs": [],
   "source": [
    "# code copied from (https://github.com/pymc-devs/pymc-resources/blob/main/Rethinking_2/Chp_06.ipynb) \n",
    "def inv_logit(x):\n",
    "    return np.exp(x) / (1 + np.exp(x))\n",
    "\n",
    "\n",
    "def sim_happiness(N_years=100, seed=1234):\n",
    "    np.random.seed(seed)\n",
    "\n",
    "    popn = pd.DataFrame(np.zeros((20 * 65, 3)), columns=[\"age\", \"happiness\", \"married\"])\n",
    "    popn.loc[:, \"age\"] = np.repeat(np.arange(65), 20)\n",
    "    popn.loc[:, \"happiness\"] = np.repeat(np.linspace(-2, 2, 20), 65)\n",
    "    popn.loc[:, \"married\"] = np.array(popn.loc[:, \"married\"].values, dtype=\"bool\")\n",
    "\n",
    "    for i in range(N_years):\n",
    "        # age population\n",
    "        popn.loc[:, \"age\"] += 1\n",
    "        # replace old folk with new folk\n",
    "        ind = popn.age == 65\n",
    "        popn.loc[ind, \"age\"] = 0\n",
    "        popn.loc[ind, \"married\"] = False\n",
    "        popn.loc[ind, \"happiness\"] = np.linspace(-2, 2, 20)\n",
    "\n",
    "        # do the work\n",
    "        elligible = (popn.married == 0) & (popn.age >= 18)\n",
    "        marry = np.random.binomial(1, inv_logit(popn.loc[elligible, \"happiness\"] - 4)) == 1\n",
    "        popn.loc[elligible, \"married\"] = marry\n",
    "\n",
    "    popn.sort_values(\"age\", inplace=True, ignore_index=True)\n",
    "\n",
    "    return popn"
   ]
  },
  {
   "cell_type": "code",
   "execution_count": 4,
   "id": "320d84e4",
   "metadata": {},
   "outputs": [
    {
     "data": {
      "text/html": [
       "<div>\n",
       "<style scoped>\n",
       "    .dataframe tbody tr th:only-of-type {\n",
       "        vertical-align: middle;\n",
       "    }\n",
       "\n",
       "    .dataframe tbody tr th {\n",
       "        vertical-align: top;\n",
       "    }\n",
       "\n",
       "    .dataframe thead th {\n",
       "        text-align: right;\n",
       "    }\n",
       "</style>\n",
       "<table border=\"1\" class=\"dataframe\">\n",
       "  <thead>\n",
       "    <tr style=\"text-align: right;\">\n",
       "      <th></th>\n",
       "      <th>mean</th>\n",
       "      <th>sd</th>\n",
       "      <th>hdi_3%</th>\n",
       "      <th>hdi_97%</th>\n",
       "    </tr>\n",
       "  </thead>\n",
       "  <tbody>\n",
       "    <tr>\n",
       "      <th>age</th>\n",
       "      <td>32.00</td>\n",
       "      <td>18.77</td>\n",
       "      <td>0.0</td>\n",
       "      <td>61.00</td>\n",
       "    </tr>\n",
       "    <tr>\n",
       "      <th>happiness</th>\n",
       "      <td>-0.00</td>\n",
       "      <td>1.21</td>\n",
       "      <td>-2.0</td>\n",
       "      <td>1.79</td>\n",
       "    </tr>\n",
       "    <tr>\n",
       "      <th>married</th>\n",
       "      <td>0.28</td>\n",
       "      <td>0.45</td>\n",
       "      <td>0.0</td>\n",
       "      <td>1.00</td>\n",
       "    </tr>\n",
       "  </tbody>\n",
       "</table>\n",
       "</div>"
      ],
      "text/plain": [
       "            mean     sd  hdi_3%  hdi_97%\n",
       "age        32.00  18.77     0.0    61.00\n",
       "happiness  -0.00   1.21    -2.0     1.79\n",
       "married     0.28   0.45     0.0     1.00"
      ]
     },
     "execution_count": 4,
     "metadata": {},
     "output_type": "execute_result"
    }
   ],
   "source": [
    "#code copied from same source above\n",
    "popn = sim_happiness()\n",
    "\n",
    "popn_summ = popn.copy()\n",
    "popn_summ[\"married\"] = popn_summ[\"married\"].astype(\n",
    "    int\n",
    ")  # this is necessary before using az.summary, which doesn't work with boolean columns.\n",
    "az.summary(popn_summ.to_dict(orient=\"list\"), kind=\"stats\", round_to=2)"
   ]
  },
  {
   "cell_type": "code",
   "execution_count": 5,
   "id": "b9c3d458",
   "metadata": {},
   "outputs": [
    {
     "data": {
      "text/plain": [
       "(0, 64)"
      ]
     },
     "execution_count": 5,
     "metadata": {},
     "output_type": "execute_result"
    }
   ],
   "source": [
    "popn.age.min(), popn.age.max()"
   ]
  },
  {
   "cell_type": "code",
   "execution_count": 6,
   "id": "14f7c2da",
   "metadata": {},
   "outputs": [],
   "source": [
    "#models conside adults only\n",
    "adults = popn[popn.age>=18]"
   ]
  },
  {
   "cell_type": "code",
   "execution_count": 7,
   "id": "31d29758",
   "metadata": {},
   "outputs": [],
   "source": [
    "# Age is rescaled as Age = (Age - 18) / (65-18)"
   ]
  },
  {
   "cell_type": "code",
   "execution_count": 8,
   "id": "e6e433c7",
   "metadata": {},
   "outputs": [
    {
     "name": "stderr",
     "output_type": "stream",
     "text": [
      "/var/folders/9p/5ycxgmps44zc3f0y6vljhp2h0000gn/T/ipykernel_31699/787848563.py:1: SettingWithCopyWarning: \n",
      "A value is trying to be set on a copy of a slice from a DataFrame.\n",
      "Try using .loc[row_indexer,col_indexer] = value instead\n",
      "\n",
      "See the caveats in the documentation: https://pandas.pydata.org/pandas-docs/stable/user_guide/indexing.html#returning-a-view-versus-a-copy\n",
      "  adults['age_s'] = (adults.age - 18) / (65-18)\n"
     ]
    }
   ],
   "source": [
    "adults['age_s'] = (adults.age - 18) / (65-18)"
   ]
  },
  {
   "cell_type": "markdown",
   "id": "2167b939",
   "metadata": {},
   "source": [
    "model m_6_9 takes into account marriag status\n",
    "\n",
    "$\\mu_i = \\alpha_{MID[i]} + \\beta_A A_i$"
   ]
  },
  {
   "cell_type": "code",
   "execution_count": 9,
   "id": "c7e39e94",
   "metadata": {},
   "outputs": [],
   "source": [
    "# extract values for categorical variable\n",
    "mid = pd.Categorical(adults.loc[:,'married'].astype(int))"
   ]
  },
  {
   "cell_type": "code",
   "execution_count": 10,
   "id": "bfcc659e",
   "metadata": {},
   "outputs": [
    {
     "name": "stderr",
     "output_type": "stream",
     "text": [
      "/var/folders/9p/5ycxgmps44zc3f0y6vljhp2h0000gn/T/ipykernel_31699/428494606.py:11: FutureWarning: In v4.0, pm.sample will return an `arviz.InferenceData` object instead of a `MultiTrace` by default. You can pass return_inferencedata=True or return_inferencedata=False to be safe and silence this warning.\n",
      "  trace_m69 = pm.sample(1000, tune = 1000)\n",
      "Auto-assigning NUTS sampler...\n",
      "Initializing NUTS using jitter+adapt_diag...\n",
      "Multiprocess sampling (4 chains in 4 jobs)\n",
      "NUTS: [sigma, bA, a]\n"
     ]
    },
    {
     "data": {
      "text/html": [
       "\n",
       "<style>\n",
       "    /* Turns off some styling */\n",
       "    progress {\n",
       "        /* gets rid of default border in Firefox and Opera. */\n",
       "        border: none;\n",
       "        /* Needs to be in here for Safari polyfill so background images work as expected. */\n",
       "        background-size: auto;\n",
       "    }\n",
       "    .progress-bar-interrupted, .progress-bar-interrupted::-webkit-progress-bar {\n",
       "        background: #F44336;\n",
       "    }\n",
       "</style>\n"
      ],
      "text/plain": [
       "<IPython.core.display.HTML object>"
      ]
     },
     "metadata": {},
     "output_type": "display_data"
    },
    {
     "data": {
      "text/html": [
       "\n",
       "    <div>\n",
       "      <progress value='8000' class='' max='8000' style='width:300px; height:20px; vertical-align: middle;'></progress>\n",
       "      100.00% [8000/8000 00:03<00:00 Sampling 4 chains, 0 divergences]\n",
       "    </div>\n",
       "    "
      ],
      "text/plain": [
       "<IPython.core.display.HTML object>"
      ]
     },
     "metadata": {},
     "output_type": "display_data"
    },
    {
     "name": "stderr",
     "output_type": "stream",
     "text": [
      "/Users/amralaa/anaconda3/envs/stat-rethink2-pymc3/lib/python3.9/site-packages/scipy/stats/_continuous_distns.py:624: RuntimeWarning: overflow encountered in _beta_ppf\n",
      "  return _boost._beta_ppf(q, a, b)\n",
      "/Users/amralaa/anaconda3/envs/stat-rethink2-pymc3/lib/python3.9/site-packages/scipy/stats/_continuous_distns.py:624: RuntimeWarning: overflow encountered in _beta_ppf\n",
      "  return _boost._beta_ppf(q, a, b)\n",
      "/Users/amralaa/anaconda3/envs/stat-rethink2-pymc3/lib/python3.9/site-packages/scipy/stats/_continuous_distns.py:624: RuntimeWarning: overflow encountered in _beta_ppf\n",
      "  return _boost._beta_ppf(q, a, b)\n",
      "/Users/amralaa/anaconda3/envs/stat-rethink2-pymc3/lib/python3.9/site-packages/scipy/stats/_continuous_distns.py:624: RuntimeWarning: overflow encountered in _beta_ppf\n",
      "  return _boost._beta_ppf(q, a, b)\n",
      "Sampling 4 chains for 1_000 tune and 1_000 draw iterations (4_000 + 4_000 draws total) took 16 seconds.\n"
     ]
    },
    {
     "data": {
      "text/html": [
       "\n",
       "<style>\n",
       "    /* Turns off some styling */\n",
       "    progress {\n",
       "        /* gets rid of default border in Firefox and Opera. */\n",
       "        border: none;\n",
       "        /* Needs to be in here for Safari polyfill so background images work as expected. */\n",
       "        background-size: auto;\n",
       "    }\n",
       "    .progress-bar-interrupted, .progress-bar-interrupted::-webkit-progress-bar {\n",
       "        background: #F44336;\n",
       "    }\n",
       "</style>\n"
      ],
      "text/plain": [
       "<IPython.core.display.HTML object>"
      ]
     },
     "metadata": {},
     "output_type": "display_data"
    },
    {
     "data": {
      "text/html": [
       "\n",
       "    <div>\n",
       "      <progress value='4000' class='' max='4000' style='width:300px; height:20px; vertical-align: middle;'></progress>\n",
       "      100.00% [4000/4000 00:02<00:00]\n",
       "    </div>\n",
       "    "
      ],
      "text/plain": [
       "<IPython.core.display.HTML object>"
      ]
     },
     "metadata": {},
     "output_type": "display_data"
    }
   ],
   "source": [
    "# marital status taken into account\n",
    "with pm.Model() as m69:\n",
    "    a = pm.Normal('a',mu =0, sd = 1, shape = 2)\n",
    "    bA = pm.Normal('bA', mu = 0, sd = 2)\n",
    "    \n",
    "    mu = a[mid] + bA*adults.age_s\n",
    "    \n",
    "    sigma = pm.Exponential('sigma', 1)\n",
    "    \n",
    "    happiness = pm.Normal('happiness', mu = mu, sd = sigma, observed = adults.happiness)\n",
    "    trace_m69 = pm.sample(1000, tune = 1000)\n",
    "    prior = pm.sample_prior_predictive()\n",
    "    posterior_predictive = pm.sample_posterior_predictive(trace_m69)\n",
    "    inference_data_m69 = az.from_pymc3(trace = trace_m69,\n",
    "                                       prior = prior,\n",
    "                                       posterior_predictive = posterior_predictive)"
   ]
  },
  {
   "cell_type": "code",
   "execution_count": 11,
   "id": "7522d669",
   "metadata": {},
   "outputs": [
    {
     "name": "stderr",
     "output_type": "stream",
     "text": [
      "/Users/amralaa/anaconda3/envs/stat-rethink2-pymc3/lib/python3.9/site-packages/arviz/data/io_pymc3.py:96: FutureWarning: Using `from_pymc3` without the model will be deprecated in a future release. Not using the model will return less accurate and less useful results. Make sure you use the model argument or call from_pymc3 within a model context.\n",
      "  warnings.warn(\n"
     ]
    },
    {
     "data": {
      "text/html": [
       "<div>\n",
       "<style scoped>\n",
       "    .dataframe tbody tr th:only-of-type {\n",
       "        vertical-align: middle;\n",
       "    }\n",
       "\n",
       "    .dataframe tbody tr th {\n",
       "        vertical-align: top;\n",
       "    }\n",
       "\n",
       "    .dataframe thead th {\n",
       "        text-align: right;\n",
       "    }\n",
       "</style>\n",
       "<table border=\"1\" class=\"dataframe\">\n",
       "  <thead>\n",
       "    <tr style=\"text-align: right;\">\n",
       "      <th></th>\n",
       "      <th>mean</th>\n",
       "      <th>sd</th>\n",
       "      <th>hdi_3%</th>\n",
       "      <th>hdi_97%</th>\n",
       "      <th>mcse_mean</th>\n",
       "      <th>mcse_sd</th>\n",
       "      <th>ess_bulk</th>\n",
       "      <th>ess_tail</th>\n",
       "      <th>r_hat</th>\n",
       "    </tr>\n",
       "  </thead>\n",
       "  <tbody>\n",
       "    <tr>\n",
       "      <th>a[0]</th>\n",
       "      <td>-0.202</td>\n",
       "      <td>0.069</td>\n",
       "      <td>-0.338</td>\n",
       "      <td>-0.076</td>\n",
       "      <td>0.002</td>\n",
       "      <td>0.001</td>\n",
       "      <td>1803.0</td>\n",
       "      <td>1672.0</td>\n",
       "      <td>1.0</td>\n",
       "    </tr>\n",
       "    <tr>\n",
       "      <th>a[1]</th>\n",
       "      <td>1.212</td>\n",
       "      <td>0.095</td>\n",
       "      <td>1.035</td>\n",
       "      <td>1.389</td>\n",
       "      <td>0.002</td>\n",
       "      <td>0.002</td>\n",
       "      <td>1824.0</td>\n",
       "      <td>1906.0</td>\n",
       "      <td>1.0</td>\n",
       "    </tr>\n",
       "    <tr>\n",
       "      <th>bA</th>\n",
       "      <td>-0.713</td>\n",
       "      <td>0.127</td>\n",
       "      <td>-0.947</td>\n",
       "      <td>-0.473</td>\n",
       "      <td>0.003</td>\n",
       "      <td>0.002</td>\n",
       "      <td>1654.0</td>\n",
       "      <td>1645.0</td>\n",
       "      <td>1.0</td>\n",
       "    </tr>\n",
       "    <tr>\n",
       "      <th>sigma</th>\n",
       "      <td>1.022</td>\n",
       "      <td>0.023</td>\n",
       "      <td>0.978</td>\n",
       "      <td>1.063</td>\n",
       "      <td>0.000</td>\n",
       "      <td>0.000</td>\n",
       "      <td>2374.0</td>\n",
       "      <td>2339.0</td>\n",
       "      <td>1.0</td>\n",
       "    </tr>\n",
       "  </tbody>\n",
       "</table>\n",
       "</div>"
      ],
      "text/plain": [
       "        mean     sd  hdi_3%  hdi_97%  mcse_mean  mcse_sd  ess_bulk  ess_tail  \\\n",
       "a[0]  -0.202  0.069  -0.338   -0.076      0.002    0.001    1803.0    1672.0   \n",
       "a[1]   1.212  0.095   1.035    1.389      0.002    0.002    1824.0    1906.0   \n",
       "bA    -0.713  0.127  -0.947   -0.473      0.003    0.002    1654.0    1645.0   \n",
       "sigma  1.022  0.023   0.978    1.063      0.000    0.000    2374.0    2339.0   \n",
       "\n",
       "       r_hat  \n",
       "a[0]     1.0  \n",
       "a[1]     1.0  \n",
       "bA       1.0  \n",
       "sigma    1.0  "
      ]
     },
     "execution_count": 11,
     "metadata": {},
     "output_type": "execute_result"
    }
   ],
   "source": [
    "az.summary(trace_m69)"
   ]
  },
  {
   "cell_type": "markdown",
   "id": "85952391",
   "metadata": {},
   "source": [
    "Model m.6.10 doesn't take marital status into account"
   ]
  },
  {
   "cell_type": "code",
   "execution_count": 12,
   "id": "f9986b1e",
   "metadata": {},
   "outputs": [
    {
     "name": "stderr",
     "output_type": "stream",
     "text": [
      "/var/folders/9p/5ycxgmps44zc3f0y6vljhp2h0000gn/T/ipykernel_31699/2351941922.py:8: FutureWarning: In v4.0, pm.sample will return an `arviz.InferenceData` object instead of a `MultiTrace` by default. You can pass return_inferencedata=True or return_inferencedata=False to be safe and silence this warning.\n",
      "  trace_m610 = pm.sample(1000, tune = 1000)\n",
      "Auto-assigning NUTS sampler...\n",
      "Initializing NUTS using jitter+adapt_diag...\n",
      "Multiprocess sampling (4 chains in 4 jobs)\n",
      "NUTS: [sigma, bA, a]\n"
     ]
    },
    {
     "data": {
      "text/html": [
       "\n",
       "<style>\n",
       "    /* Turns off some styling */\n",
       "    progress {\n",
       "        /* gets rid of default border in Firefox and Opera. */\n",
       "        border: none;\n",
       "        /* Needs to be in here for Safari polyfill so background images work as expected. */\n",
       "        background-size: auto;\n",
       "    }\n",
       "    .progress-bar-interrupted, .progress-bar-interrupted::-webkit-progress-bar {\n",
       "        background: #F44336;\n",
       "    }\n",
       "</style>\n"
      ],
      "text/plain": [
       "<IPython.core.display.HTML object>"
      ]
     },
     "metadata": {},
     "output_type": "display_data"
    },
    {
     "data": {
      "text/html": [
       "\n",
       "    <div>\n",
       "      <progress value='8000' class='' max='8000' style='width:300px; height:20px; vertical-align: middle;'></progress>\n",
       "      100.00% [8000/8000 00:02<00:00 Sampling 4 chains, 0 divergences]\n",
       "    </div>\n",
       "    "
      ],
      "text/plain": [
       "<IPython.core.display.HTML object>"
      ]
     },
     "metadata": {},
     "output_type": "display_data"
    },
    {
     "name": "stderr",
     "output_type": "stream",
     "text": [
      "/Users/amralaa/anaconda3/envs/stat-rethink2-pymc3/lib/python3.9/site-packages/scipy/stats/_continuous_distns.py:624: RuntimeWarning: overflow encountered in _beta_ppf\n",
      "  return _boost._beta_ppf(q, a, b)\n",
      "/Users/amralaa/anaconda3/envs/stat-rethink2-pymc3/lib/python3.9/site-packages/scipy/stats/_continuous_distns.py:624: RuntimeWarning: overflow encountered in _beta_ppf\n",
      "  return _boost._beta_ppf(q, a, b)\n",
      "/Users/amralaa/anaconda3/envs/stat-rethink2-pymc3/lib/python3.9/site-packages/scipy/stats/_continuous_distns.py:624: RuntimeWarning: overflow encountered in _beta_ppf\n",
      "  return _boost._beta_ppf(q, a, b)\n",
      "/Users/amralaa/anaconda3/envs/stat-rethink2-pymc3/lib/python3.9/site-packages/scipy/stats/_continuous_distns.py:624: RuntimeWarning: overflow encountered in _beta_ppf\n",
      "  return _boost._beta_ppf(q, a, b)\n",
      "Sampling 4 chains for 1_000 tune and 1_000 draw iterations (4_000 + 4_000 draws total) took 15 seconds.\n"
     ]
    },
    {
     "data": {
      "text/html": [
       "\n",
       "<style>\n",
       "    /* Turns off some styling */\n",
       "    progress {\n",
       "        /* gets rid of default border in Firefox and Opera. */\n",
       "        border: none;\n",
       "        /* Needs to be in here for Safari polyfill so background images work as expected. */\n",
       "        background-size: auto;\n",
       "    }\n",
       "    .progress-bar-interrupted, .progress-bar-interrupted::-webkit-progress-bar {\n",
       "        background: #F44336;\n",
       "    }\n",
       "</style>\n"
      ],
      "text/plain": [
       "<IPython.core.display.HTML object>"
      ]
     },
     "metadata": {},
     "output_type": "display_data"
    },
    {
     "data": {
      "text/html": [
       "\n",
       "    <div>\n",
       "      <progress value='4000' class='' max='4000' style='width:300px; height:20px; vertical-align: middle;'></progress>\n",
       "      100.00% [4000/4000 00:03<00:00]\n",
       "    </div>\n",
       "    "
      ],
      "text/plain": [
       "<IPython.core.display.HTML object>"
      ]
     },
     "metadata": {},
     "output_type": "display_data"
    }
   ],
   "source": [
    "with pm.Model() as m610:\n",
    "    a = pm.Normal('a', mu = 0, sd = 1)\n",
    "    bA = pm.Normal('bA', mu = 0, sd = 2)\n",
    "    \n",
    "    mu = a + bA*adults.age_s\n",
    "    sigma = pm.Exponential('sigma',1)\n",
    "    happiness = pm.Normal('happiness', mu = mu, sd = sigma, observed = adults.happiness)\n",
    "    trace_m610 = pm.sample(1000, tune = 1000)\n",
    "    prior = pm.sample_prior_predictive()\n",
    "    posterior_predictive = pm.sample_posterior_predictive(trace_m610)\n",
    "    inference_data_m610 = az.from_pymc3(trace = trace_m610,\n",
    "                                       prior = prior,\n",
    "                                       posterior_predictive = posterior_predictive)"
   ]
  },
  {
   "cell_type": "code",
   "execution_count": 13,
   "id": "db0b86dc",
   "metadata": {},
   "outputs": [
    {
     "name": "stderr",
     "output_type": "stream",
     "text": [
      "/Users/amralaa/anaconda3/envs/stat-rethink2-pymc3/lib/python3.9/site-packages/arviz/data/io_pymc3.py:96: FutureWarning: Using `from_pymc3` without the model will be deprecated in a future release. Not using the model will return less accurate and less useful results. Make sure you use the model argument or call from_pymc3 within a model context.\n",
      "  warnings.warn(\n"
     ]
    },
    {
     "data": {
      "text/html": [
       "<div>\n",
       "<style scoped>\n",
       "    .dataframe tbody tr th:only-of-type {\n",
       "        vertical-align: middle;\n",
       "    }\n",
       "\n",
       "    .dataframe tbody tr th {\n",
       "        vertical-align: top;\n",
       "    }\n",
       "\n",
       "    .dataframe thead th {\n",
       "        text-align: right;\n",
       "    }\n",
       "</style>\n",
       "<table border=\"1\" class=\"dataframe\">\n",
       "  <thead>\n",
       "    <tr style=\"text-align: right;\">\n",
       "      <th></th>\n",
       "      <th>mean</th>\n",
       "      <th>sd</th>\n",
       "      <th>hdi_3%</th>\n",
       "      <th>hdi_97%</th>\n",
       "      <th>mcse_mean</th>\n",
       "      <th>mcse_sd</th>\n",
       "      <th>ess_bulk</th>\n",
       "      <th>ess_tail</th>\n",
       "      <th>r_hat</th>\n",
       "    </tr>\n",
       "  </thead>\n",
       "  <tbody>\n",
       "    <tr>\n",
       "      <th>a</th>\n",
       "      <td>0.002</td>\n",
       "      <td>0.078</td>\n",
       "      <td>-0.150</td>\n",
       "      <td>0.142</td>\n",
       "      <td>0.002</td>\n",
       "      <td>0.001</td>\n",
       "      <td>2115.0</td>\n",
       "      <td>1868.0</td>\n",
       "      <td>1.0</td>\n",
       "    </tr>\n",
       "    <tr>\n",
       "      <th>bA</th>\n",
       "      <td>-0.003</td>\n",
       "      <td>0.135</td>\n",
       "      <td>-0.265</td>\n",
       "      <td>0.236</td>\n",
       "      <td>0.003</td>\n",
       "      <td>0.002</td>\n",
       "      <td>2073.0</td>\n",
       "      <td>2180.0</td>\n",
       "      <td>1.0</td>\n",
       "    </tr>\n",
       "    <tr>\n",
       "      <th>sigma</th>\n",
       "      <td>1.215</td>\n",
       "      <td>0.028</td>\n",
       "      <td>1.166</td>\n",
       "      <td>1.268</td>\n",
       "      <td>0.001</td>\n",
       "      <td>0.000</td>\n",
       "      <td>2610.0</td>\n",
       "      <td>2333.0</td>\n",
       "      <td>1.0</td>\n",
       "    </tr>\n",
       "  </tbody>\n",
       "</table>\n",
       "</div>"
      ],
      "text/plain": [
       "        mean     sd  hdi_3%  hdi_97%  mcse_mean  mcse_sd  ess_bulk  ess_tail  \\\n",
       "a      0.002  0.078  -0.150    0.142      0.002    0.001    2115.0    1868.0   \n",
       "bA    -0.003  0.135  -0.265    0.236      0.003    0.002    2073.0    2180.0   \n",
       "sigma  1.215  0.028   1.166    1.268      0.001    0.000    2610.0    2333.0   \n",
       "\n",
       "       r_hat  \n",
       "a        1.0  \n",
       "bA       1.0  \n",
       "sigma    1.0  "
      ]
     },
     "execution_count": 13,
     "metadata": {},
     "output_type": "execute_result"
    }
   ],
   "source": [
    "az.summary(trace_m610)"
   ]
  },
  {
   "cell_type": "code",
   "execution_count": 14,
   "id": "f2c0f137",
   "metadata": {},
   "outputs": [],
   "source": [
    "# Model comparison\n",
    "compare_dict = {'m69':inference_data_m69, 'm610':inference_data_m610}"
   ]
  },
  {
   "cell_type": "code",
   "execution_count": 15,
   "id": "16898e03",
   "metadata": {},
   "outputs": [
    {
     "name": "stderr",
     "output_type": "stream",
     "text": [
      "/Users/amralaa/anaconda3/envs/stat-rethink2-pymc3/lib/python3.9/site-packages/arviz/stats/stats.py:145: UserWarning: The default method used to estimate the weights for each model,has changed from BB-pseudo-BMA to stacking\n",
      "  warnings.warn(\n",
      "/Users/amralaa/anaconda3/envs/stat-rethink2-pymc3/lib/python3.9/site-packages/arviz/stats/stats.py:212: FutureWarning: The frame.append method is deprecated and will be removed from pandas in a future version. Use pandas.concat instead.\n",
      "  ics = ics.append([ic_func(dataset, pointwise=True, scale=scale)])\n",
      "/Users/amralaa/anaconda3/envs/stat-rethink2-pymc3/lib/python3.9/site-packages/arviz/stats/stats.py:212: FutureWarning: The frame.append method is deprecated and will be removed from pandas in a future version. Use pandas.concat instead.\n",
      "  ics = ics.append([ic_func(dataset, pointwise=True, scale=scale)])\n"
     ]
    }
   ],
   "source": [
    "compare_df_psis = az.compare(compare_dict, ic = 'loo')"
   ]
  },
  {
   "cell_type": "code",
   "execution_count": 16,
   "id": "69f64916",
   "metadata": {},
   "outputs": [
    {
     "name": "stderr",
     "output_type": "stream",
     "text": [
      "/Users/amralaa/anaconda3/envs/stat-rethink2-pymc3/lib/python3.9/site-packages/arviz/stats/stats.py:145: UserWarning: The default method used to estimate the weights for each model,has changed from BB-pseudo-BMA to stacking\n",
      "  warnings.warn(\n",
      "/Users/amralaa/anaconda3/envs/stat-rethink2-pymc3/lib/python3.9/site-packages/arviz/stats/stats.py:212: FutureWarning: The frame.append method is deprecated and will be removed from pandas in a future version. Use pandas.concat instead.\n",
      "  ics = ics.append([ic_func(dataset, pointwise=True, scale=scale)])\n",
      "/Users/amralaa/anaconda3/envs/stat-rethink2-pymc3/lib/python3.9/site-packages/arviz/stats/stats.py:212: FutureWarning: The frame.append method is deprecated and will be removed from pandas in a future version. Use pandas.concat instead.\n",
      "  ics = ics.append([ic_func(dataset, pointwise=True, scale=scale)])\n"
     ]
    }
   ],
   "source": [
    "compare_df_waic = az.compare(compare_dict, ic = 'waic')"
   ]
  },
  {
   "cell_type": "code",
   "execution_count": 17,
   "id": "6e4a5d3c",
   "metadata": {},
   "outputs": [
    {
     "data": {
      "text/html": [
       "<div>\n",
       "<style scoped>\n",
       "    .dataframe tbody tr th:only-of-type {\n",
       "        vertical-align: middle;\n",
       "    }\n",
       "\n",
       "    .dataframe tbody tr th {\n",
       "        vertical-align: top;\n",
       "    }\n",
       "\n",
       "    .dataframe thead th {\n",
       "        text-align: right;\n",
       "    }\n",
       "</style>\n",
       "<table border=\"1\" class=\"dataframe\">\n",
       "  <thead>\n",
       "    <tr style=\"text-align: right;\">\n",
       "      <th></th>\n",
       "      <th>rank</th>\n",
       "      <th>loo</th>\n",
       "      <th>p_loo</th>\n",
       "      <th>d_loo</th>\n",
       "      <th>weight</th>\n",
       "      <th>se</th>\n",
       "      <th>dse</th>\n",
       "      <th>warning</th>\n",
       "      <th>loo_scale</th>\n",
       "    </tr>\n",
       "  </thead>\n",
       "  <tbody>\n",
       "    <tr>\n",
       "      <th>m69</th>\n",
       "      <td>0</td>\n",
       "      <td>-1355.568039</td>\n",
       "      <td>3.738507</td>\n",
       "      <td>0.000000</td>\n",
       "      <td>0.979098</td>\n",
       "      <td>18.648068</td>\n",
       "      <td>0.000000</td>\n",
       "      <td>False</td>\n",
       "      <td>log</td>\n",
       "    </tr>\n",
       "    <tr>\n",
       "      <th>m610</th>\n",
       "      <td>1</td>\n",
       "      <td>-1518.683178</td>\n",
       "      <td>2.336600</td>\n",
       "      <td>163.115138</td>\n",
       "      <td>0.020902</td>\n",
       "      <td>13.690499</td>\n",
       "      <td>16.520226</td>\n",
       "      <td>False</td>\n",
       "      <td>log</td>\n",
       "    </tr>\n",
       "  </tbody>\n",
       "</table>\n",
       "</div>"
      ],
      "text/plain": [
       "      rank          loo     p_loo       d_loo    weight         se        dse  \\\n",
       "m69      0 -1355.568039  3.738507    0.000000  0.979098  18.648068   0.000000   \n",
       "m610     1 -1518.683178  2.336600  163.115138  0.020902  13.690499  16.520226   \n",
       "\n",
       "      warning loo_scale  \n",
       "m69     False       log  \n",
       "m610    False       log  "
      ]
     },
     "execution_count": 17,
     "metadata": {},
     "output_type": "execute_result"
    }
   ],
   "source": [
    "compare_df_psis"
   ]
  },
  {
   "cell_type": "code",
   "execution_count": 18,
   "id": "ca3aad1d",
   "metadata": {},
   "outputs": [
    {
     "data": {
      "text/html": [
       "<div>\n",
       "<style scoped>\n",
       "    .dataframe tbody tr th:only-of-type {\n",
       "        vertical-align: middle;\n",
       "    }\n",
       "\n",
       "    .dataframe tbody tr th {\n",
       "        vertical-align: top;\n",
       "    }\n",
       "\n",
       "    .dataframe thead th {\n",
       "        text-align: right;\n",
       "    }\n",
       "</style>\n",
       "<table border=\"1\" class=\"dataframe\">\n",
       "  <thead>\n",
       "    <tr style=\"text-align: right;\">\n",
       "      <th></th>\n",
       "      <th>rank</th>\n",
       "      <th>waic</th>\n",
       "      <th>p_waic</th>\n",
       "      <th>d_waic</th>\n",
       "      <th>weight</th>\n",
       "      <th>se</th>\n",
       "      <th>dse</th>\n",
       "      <th>warning</th>\n",
       "      <th>waic_scale</th>\n",
       "    </tr>\n",
       "  </thead>\n",
       "  <tbody>\n",
       "    <tr>\n",
       "      <th>m69</th>\n",
       "      <td>0</td>\n",
       "      <td>-1355.568172</td>\n",
       "      <td>3.738640</td>\n",
       "      <td>0.000000</td>\n",
       "      <td>0.979097</td>\n",
       "      <td>18.648082</td>\n",
       "      <td>0.000000</td>\n",
       "      <td>False</td>\n",
       "      <td>log</td>\n",
       "    </tr>\n",
       "    <tr>\n",
       "      <th>m610</th>\n",
       "      <td>1</td>\n",
       "      <td>-1518.683166</td>\n",
       "      <td>2.336589</td>\n",
       "      <td>163.114995</td>\n",
       "      <td>0.020903</td>\n",
       "      <td>13.690498</td>\n",
       "      <td>16.520239</td>\n",
       "      <td>False</td>\n",
       "      <td>log</td>\n",
       "    </tr>\n",
       "  </tbody>\n",
       "</table>\n",
       "</div>"
      ],
      "text/plain": [
       "      rank         waic    p_waic      d_waic    weight         se        dse  \\\n",
       "m69      0 -1355.568172  3.738640    0.000000  0.979097  18.648082   0.000000   \n",
       "m610     1 -1518.683166  2.336589  163.114995  0.020903  13.690498  16.520239   \n",
       "\n",
       "      warning waic_scale  \n",
       "m69     False        log  \n",
       "m610    False        log  "
      ]
     },
     "execution_count": 18,
     "metadata": {},
     "output_type": "execute_result"
    }
   ],
   "source": [
    "compare_df_waic"
   ]
  },
  {
   "cell_type": "code",
   "execution_count": 19,
   "id": "00f289f6",
   "metadata": {},
   "outputs": [
    {
     "data": {
      "image/png": "[encoded data removed]",
      "text/plain": [
       "<Figure size 432x144 with 1 Axes>"
      ]
     },
     "metadata": {
      "needs_background": "light"
     },
     "output_type": "display_data"
    }
   ],
   "source": [
    "az.plot_compare(compare_df_psis);"
   ]
  },
  {
   "cell_type": "code",
   "execution_count": 20,
   "id": "963267c3",
   "metadata": {},
   "outputs": [
    {
     "data": {
      "image/png": "[encoded data removed]",
      "text/plain": [
       "<Figure size 432x144 with 1 Axes>"
      ]
     },
     "metadata": {
      "needs_background": "light"
     },
     "output_type": "display_data"
    }
   ],
   "source": [
    "az.plot_compare(compare_df_waic);"
   ]
  },
  {
   "cell_type": "markdown",
   "id": "7f222aa6",
   "metadata": {},
   "source": [
    "Interpretation: The generated data comes from the model $H \\rightarrow M \\leftarrow A$ ie: Happiness and Age cause Marriage (a collider), but Age doesNOT cause happiness.\n",
    "\n",
    "We have two models above: m69 which thinks that marriage can actually cause happiness and m610 which is the correct model (marriage does not cause happiness). Both PSIS and WAIC give the wrong model (m69) higher scores and rank, that it will perform better in predicting whethere someone will be happy or not. So why does including marriage (non-causal) improve prediction? Because, while non-causal, it's still extra information and the more you know, the better you predict."
   ]
  },
  {
   "cell_type": "markdown",
   "id": "2d28f2db",
   "metadata": {},
   "source": [
    "How do we interpret parameter estimates in models based on PSIS and WAIC?\n",
    "\n",
    "For the confouded model:\n",
    "\n",
    "bA: the conditional association of happiness and age given martial status\n",
    "\n",
    "a1,a2: association of marriae and happiness BIASED by age"
   ]
  },
  {
   "cell_type": "markdown",
   "id": "5ef74dfb",
   "metadata": {},
   "source": [
    "2. Reconsider the urban fox analysis from last week’s homework. On the basis of PSIS and WAIC scores, which combination of variables best predicts body weight (W, weight)? How would you interpret the estimates from the best scoring model?"
   ]
  },
  {
   "cell_type": "code",
   "execution_count": 21,
   "id": "e23e3d41",
   "metadata": {},
   "outputs": [],
   "source": [
    "path = '/Users/amralaa/CS - AGI core/[Prereq] Statistical Rethinking/resources/Rethinking_2/End_of_chapter_problems/data/foxes.csv'"
   ]
  },
  {
   "cell_type": "code",
   "execution_count": 22,
   "id": "eedf8279",
   "metadata": {},
   "outputs": [],
   "source": [
    "foxes = pd.read_csv(path, delimiter = ';')"
   ]
  },
  {
   "cell_type": "code",
   "execution_count": 23,
   "id": "03a20637",
   "metadata": {},
   "outputs": [
    {
     "data": {
      "text/html": [
       "<div>\n",
       "<style scoped>\n",
       "    .dataframe tbody tr th:only-of-type {\n",
       "        vertical-align: middle;\n",
       "    }\n",
       "\n",
       "    .dataframe tbody tr th {\n",
       "        vertical-align: top;\n",
       "    }\n",
       "\n",
       "    .dataframe thead th {\n",
       "        text-align: right;\n",
       "    }\n",
       "</style>\n",
       "<table border=\"1\" class=\"dataframe\">\n",
       "  <thead>\n",
       "    <tr style=\"text-align: right;\">\n",
       "      <th></th>\n",
       "      <th>group</th>\n",
       "      <th>avgfood</th>\n",
       "      <th>groupsize</th>\n",
       "      <th>area</th>\n",
       "      <th>weight</th>\n",
       "    </tr>\n",
       "  </thead>\n",
       "  <tbody>\n",
       "    <tr>\n",
       "      <th>0</th>\n",
       "      <td>1</td>\n",
       "      <td>0.37</td>\n",
       "      <td>2</td>\n",
       "      <td>1.09</td>\n",
       "      <td>5.02</td>\n",
       "    </tr>\n",
       "    <tr>\n",
       "      <th>1</th>\n",
       "      <td>1</td>\n",
       "      <td>0.37</td>\n",
       "      <td>2</td>\n",
       "      <td>1.09</td>\n",
       "      <td>2.84</td>\n",
       "    </tr>\n",
       "    <tr>\n",
       "      <th>2</th>\n",
       "      <td>2</td>\n",
       "      <td>0.53</td>\n",
       "      <td>2</td>\n",
       "      <td>2.05</td>\n",
       "      <td>5.33</td>\n",
       "    </tr>\n",
       "    <tr>\n",
       "      <th>3</th>\n",
       "      <td>2</td>\n",
       "      <td>0.53</td>\n",
       "      <td>2</td>\n",
       "      <td>2.05</td>\n",
       "      <td>6.07</td>\n",
       "    </tr>\n",
       "    <tr>\n",
       "      <th>4</th>\n",
       "      <td>3</td>\n",
       "      <td>0.49</td>\n",
       "      <td>2</td>\n",
       "      <td>2.12</td>\n",
       "      <td>5.85</td>\n",
       "    </tr>\n",
       "  </tbody>\n",
       "</table>\n",
       "</div>"
      ],
      "text/plain": [
       "   group  avgfood  groupsize  area  weight\n",
       "0      1     0.37          2  1.09    5.02\n",
       "1      1     0.37          2  1.09    2.84\n",
       "2      2     0.53          2  2.05    5.33\n",
       "3      2     0.53          2  2.05    6.07\n",
       "4      3     0.49          2  2.12    5.85"
      ]
     },
     "execution_count": 23,
     "metadata": {},
     "output_type": "execute_result"
    }
   ],
   "source": [
    "foxes.head()"
   ]
  },
  {
   "cell_type": "code",
   "execution_count": 24,
   "id": "d5923493",
   "metadata": {},
   "outputs": [],
   "source": [
    "def standardize(series):\n",
    "    '''\n",
    "    To standardize panads series and return the standardized series object\n",
    "    '''\n",
    "    return (series - series.mean()) / series.std()"
   ]
  },
  {
   "cell_type": "code",
   "execution_count": 25,
   "id": "d5eb16ff",
   "metadata": {},
   "outputs": [],
   "source": [
    "foxes.avgfood = standardize(foxes.avgfood)\n",
    "foxes.area = standardize(foxes.area)\n",
    "foxes.weight = standardize(foxes.weight)\n",
    "foxes.groupsize = standardize(foxes.groupsize)"
   ]
  },
  {
   "cell_type": "code",
   "execution_count": 26,
   "id": "1d386395",
   "metadata": {},
   "outputs": [
    {
     "data": {
      "text/html": [
       "<div>\n",
       "<style scoped>\n",
       "    .dataframe tbody tr th:only-of-type {\n",
       "        vertical-align: middle;\n",
       "    }\n",
       "\n",
       "    .dataframe tbody tr th {\n",
       "        vertical-align: top;\n",
       "    }\n",
       "\n",
       "    .dataframe thead th {\n",
       "        text-align: right;\n",
       "    }\n",
       "</style>\n",
       "<table border=\"1\" class=\"dataframe\">\n",
       "  <thead>\n",
       "    <tr style=\"text-align: right;\">\n",
       "      <th></th>\n",
       "      <th>group</th>\n",
       "      <th>avgfood</th>\n",
       "      <th>groupsize</th>\n",
       "      <th>area</th>\n",
       "      <th>weight</th>\n",
       "    </tr>\n",
       "  </thead>\n",
       "  <tbody>\n",
       "    <tr>\n",
       "      <th>0</th>\n",
       "      <td>1</td>\n",
       "      <td>-1.924829</td>\n",
       "      <td>-1.524089</td>\n",
       "      <td>-2.239596</td>\n",
       "      <td>0.414135</td>\n",
       "    </tr>\n",
       "    <tr>\n",
       "      <th>1</th>\n",
       "      <td>1</td>\n",
       "      <td>-1.924829</td>\n",
       "      <td>-1.524089</td>\n",
       "      <td>-2.239596</td>\n",
       "      <td>-1.427046</td>\n",
       "    </tr>\n",
       "    <tr>\n",
       "      <th>2</th>\n",
       "      <td>2</td>\n",
       "      <td>-1.118035</td>\n",
       "      <td>-1.524089</td>\n",
       "      <td>-1.205508</td>\n",
       "      <td>0.675954</td>\n",
       "    </tr>\n",
       "    <tr>\n",
       "      <th>3</th>\n",
       "      <td>2</td>\n",
       "      <td>-1.118035</td>\n",
       "      <td>-1.524089</td>\n",
       "      <td>-1.205508</td>\n",
       "      <td>1.300942</td>\n",
       "    </tr>\n",
       "    <tr>\n",
       "      <th>4</th>\n",
       "      <td>3</td>\n",
       "      <td>-1.319734</td>\n",
       "      <td>-1.524089</td>\n",
       "      <td>-1.130106</td>\n",
       "      <td>1.115135</td>\n",
       "    </tr>\n",
       "  </tbody>\n",
       "</table>\n",
       "</div>"
      ],
      "text/plain": [
       "   group   avgfood  groupsize      area    weight\n",
       "0      1 -1.924829  -1.524089 -2.239596  0.414135\n",
       "1      1 -1.924829  -1.524089 -2.239596 -1.427046\n",
       "2      2 -1.118035  -1.524089 -1.205508  0.675954\n",
       "3      2 -1.118035  -1.524089 -1.205508  1.300942\n",
       "4      3 -1.319734  -1.524089 -1.130106  1.115135"
      ]
     },
     "execution_count": 26,
     "metadata": {},
     "output_type": "execute_result"
    }
   ],
   "source": [
    "foxes.head()"
   ]
  },
  {
   "cell_type": "code",
   "execution_count": null,
   "id": "cdf3ce93",
   "metadata": {},
   "outputs": [],
   "source": []
  },
  {
   "cell_type": "code",
   "execution_count": 27,
   "id": "93ef684d",
   "metadata": {},
   "outputs": [
    {
     "name": "stderr",
     "output_type": "stream",
     "text": [
      "/var/folders/9p/5ycxgmps44zc3f0y6vljhp2h0000gn/T/ipykernel_31699/2412241675.py:10: FutureWarning: In v4.0, pm.sample will return an `arviz.InferenceData` object instead of a `MultiTrace` by default. You can pass return_inferencedata=True or return_inferencedata=False to be safe and silence this warning.\n",
      "  trace_A = pm.sample()\n",
      "Auto-assigning NUTS sampler...\n",
      "Initializing NUTS using jitter+adapt_diag...\n",
      "Multiprocess sampling (4 chains in 4 jobs)\n",
      "NUTS: [bA, a, sigma]\n"
     ]
    },
    {
     "data": {
      "text/html": [
       "\n",
       "<style>\n",
       "    /* Turns off some styling */\n",
       "    progress {\n",
       "        /* gets rid of default border in Firefox and Opera. */\n",
       "        border: none;\n",
       "        /* Needs to be in here for Safari polyfill so background images work as expected. */\n",
       "        background-size: auto;\n",
       "    }\n",
       "    .progress-bar-interrupted, .progress-bar-interrupted::-webkit-progress-bar {\n",
       "        background: #F44336;\n",
       "    }\n",
       "</style>\n"
      ],
      "text/plain": [
       "<IPython.core.display.HTML object>"
      ]
     },
     "metadata": {},
     "output_type": "display_data"
    },
    {
     "data": {
      "text/html": [
       "\n",
       "    <div>\n",
       "      <progress value='8000' class='' max='8000' style='width:300px; height:20px; vertical-align: middle;'></progress>\n",
       "      100.00% [8000/8000 00:02<00:00 Sampling 4 chains, 0 divergences]\n",
       "    </div>\n",
       "    "
      ],
      "text/plain": [
       "<IPython.core.display.HTML object>"
      ]
     },
     "metadata": {},
     "output_type": "display_data"
    },
    {
     "name": "stderr",
     "output_type": "stream",
     "text": [
      "/Users/amralaa/anaconda3/envs/stat-rethink2-pymc3/lib/python3.9/site-packages/scipy/stats/_continuous_distns.py:624: RuntimeWarning: overflow encountered in _beta_ppf\n",
      "  return _boost._beta_ppf(q, a, b)\n",
      "/Users/amralaa/anaconda3/envs/stat-rethink2-pymc3/lib/python3.9/site-packages/scipy/stats/_continuous_distns.py:624: RuntimeWarning: overflow encountered in _beta_ppf\n",
      "  return _boost._beta_ppf(q, a, b)\n",
      "/Users/amralaa/anaconda3/envs/stat-rethink2-pymc3/lib/python3.9/site-packages/scipy/stats/_continuous_distns.py:624: RuntimeWarning: overflow encountered in _beta_ppf\n",
      "  return _boost._beta_ppf(q, a, b)\n",
      "/Users/amralaa/anaconda3/envs/stat-rethink2-pymc3/lib/python3.9/site-packages/scipy/stats/_continuous_distns.py:624: RuntimeWarning: overflow encountered in _beta_ppf\n",
      "  return _boost._beta_ppf(q, a, b)\n",
      "Sampling 4 chains for 1_000 tune and 1_000 draw iterations (4_000 + 4_000 draws total) took 14 seconds.\n"
     ]
    },
    {
     "data": {
      "text/html": [
       "\n",
       "<style>\n",
       "    /* Turns off some styling */\n",
       "    progress {\n",
       "        /* gets rid of default border in Firefox and Opera. */\n",
       "        border: none;\n",
       "        /* Needs to be in here for Safari polyfill so background images work as expected. */\n",
       "        background-size: auto;\n",
       "    }\n",
       "    .progress-bar-interrupted, .progress-bar-interrupted::-webkit-progress-bar {\n",
       "        background: #F44336;\n",
       "    }\n",
       "</style>\n"
      ],
      "text/plain": [
       "<IPython.core.display.HTML object>"
      ]
     },
     "metadata": {},
     "output_type": "display_data"
    },
    {
     "data": {
      "text/html": [
       "\n",
       "    <div>\n",
       "      <progress value='4000' class='' max='4000' style='width:300px; height:20px; vertical-align: middle;'></progress>\n",
       "      100.00% [4000/4000 00:02<00:00]\n",
       "    </div>\n",
       "    "
      ],
      "text/plain": [
       "<IPython.core.display.HTML object>"
      ]
     },
     "metadata": {},
     "output_type": "display_data"
    }
   ],
   "source": [
    "# we can build 7 models representing all possible 7 models\n",
    "\n",
    "#area only model W = f(A)\n",
    "with pm.Model() as mA:\n",
    "    sigma = pm.Exponential('sigma',1)\n",
    "    a = pm.Normal('a', mu = 0, sd = 0.2)\n",
    "    bA = pm.Normal('bA', mu = 0, sd = 0.5)\n",
    "    mu = a + bA*foxes.area\n",
    "    weight = pm.Normal('weight', mu = mu, sd = sigma, observed = foxes.weight)\n",
    "    trace_A = pm.sample()\n",
    "    prior = pm.sample_prior_predictive()\n",
    "    posterior_predictive = pm.sample_posterior_predictive(trace_A)\n",
    "    inference_data_mA = az.from_pymc3(trace = trace_A, \n",
    "                                     prior = prior,\n",
    "                                     posterior_predictive = posterior_predictive)"
   ]
  },
  {
   "cell_type": "code",
   "execution_count": 28,
   "id": "e3e5914e",
   "metadata": {},
   "outputs": [
    {
     "name": "stderr",
     "output_type": "stream",
     "text": [
      "/var/folders/9p/5ycxgmps44zc3f0y6vljhp2h0000gn/T/ipykernel_31699/1078096553.py:8: FutureWarning: In v4.0, pm.sample will return an `arviz.InferenceData` object instead of a `MultiTrace` by default. You can pass return_inferencedata=True or return_inferencedata=False to be safe and silence this warning.\n",
      "  trace_F = pm.sample()\n",
      "Auto-assigning NUTS sampler...\n",
      "Initializing NUTS using jitter+adapt_diag...\n",
      "Multiprocess sampling (4 chains in 4 jobs)\n",
      "NUTS: [bF, a, sigma]\n"
     ]
    },
    {
     "data": {
      "text/html": [
       "\n",
       "<style>\n",
       "    /* Turns off some styling */\n",
       "    progress {\n",
       "        /* gets rid of default border in Firefox and Opera. */\n",
       "        border: none;\n",
       "        /* Needs to be in here for Safari polyfill so background images work as expected. */\n",
       "        background-size: auto;\n",
       "    }\n",
       "    .progress-bar-interrupted, .progress-bar-interrupted::-webkit-progress-bar {\n",
       "        background: #F44336;\n",
       "    }\n",
       "</style>\n"
      ],
      "text/plain": [
       "<IPython.core.display.HTML object>"
      ]
     },
     "metadata": {},
     "output_type": "display_data"
    },
    {
     "data": {
      "text/html": [
       "\n",
       "    <div>\n",
       "      <progress value='8000' class='' max='8000' style='width:300px; height:20px; vertical-align: middle;'></progress>\n",
       "      100.00% [8000/8000 00:02<00:00 Sampling 4 chains, 0 divergences]\n",
       "    </div>\n",
       "    "
      ],
      "text/plain": [
       "<IPython.core.display.HTML object>"
      ]
     },
     "metadata": {},
     "output_type": "display_data"
    },
    {
     "name": "stderr",
     "output_type": "stream",
     "text": [
      "/Users/amralaa/anaconda3/envs/stat-rethink2-pymc3/lib/python3.9/site-packages/scipy/stats/_continuous_distns.py:624: RuntimeWarning: overflow encountered in _beta_ppf\n",
      "  return _boost._beta_ppf(q, a, b)\n",
      "/Users/amralaa/anaconda3/envs/stat-rethink2-pymc3/lib/python3.9/site-packages/scipy/stats/_continuous_distns.py:624: RuntimeWarning: overflow encountered in _beta_ppf\n",
      "  return _boost._beta_ppf(q, a, b)\n",
      "/Users/amralaa/anaconda3/envs/stat-rethink2-pymc3/lib/python3.9/site-packages/scipy/stats/_continuous_distns.py:624: RuntimeWarning: overflow encountered in _beta_ppf\n",
      "  return _boost._beta_ppf(q, a, b)\n",
      "/Users/amralaa/anaconda3/envs/stat-rethink2-pymc3/lib/python3.9/site-packages/scipy/stats/_continuous_distns.py:624: RuntimeWarning: overflow encountered in _beta_ppf\n",
      "  return _boost._beta_ppf(q, a, b)\n",
      "Sampling 4 chains for 1_000 tune and 1_000 draw iterations (4_000 + 4_000 draws total) took 14 seconds.\n"
     ]
    },
    {
     "data": {
      "text/html": [
       "\n",
       "<style>\n",
       "    /* Turns off some styling */\n",
       "    progress {\n",
       "        /* gets rid of default border in Firefox and Opera. */\n",
       "        border: none;\n",
       "        /* Needs to be in here for Safari polyfill so background images work as expected. */\n",
       "        background-size: auto;\n",
       "    }\n",
       "    .progress-bar-interrupted, .progress-bar-interrupted::-webkit-progress-bar {\n",
       "        background: #F44336;\n",
       "    }\n",
       "</style>\n"
      ],
      "text/plain": [
       "<IPython.core.display.HTML object>"
      ]
     },
     "metadata": {},
     "output_type": "display_data"
    },
    {
     "data": {
      "text/html": [
       "\n",
       "    <div>\n",
       "      <progress value='4000' class='' max='4000' style='width:300px; height:20px; vertical-align: middle;'></progress>\n",
       "      100.00% [4000/4000 00:03<00:00]\n",
       "    </div>\n",
       "    "
      ],
      "text/plain": [
       "<IPython.core.display.HTML object>"
      ]
     },
     "metadata": {},
     "output_type": "display_data"
    }
   ],
   "source": [
    "#food only model W = f(F)\n",
    "with pm.Model() as mF:\n",
    "    sigma = pm.Exponential('sigma',1)\n",
    "    a = pm.Normal('a', mu = 0, sd = 0.2)\n",
    "    bF = pm.Normal('bF', mu = 0, sd = 0.5)\n",
    "    mu = a + bF*foxes.avgfood\n",
    "    weight = pm.Normal('weight', mu = mu, sd = sigma, observed = foxes.weight)\n",
    "    trace_F = pm.sample()\n",
    "    prior = pm.sample_prior_predictive()\n",
    "    posterior_predictive = pm.sample_posterior_predictive(trace_F)\n",
    "    inference_data_mF = az.from_pymc3(trace = trace_F, \n",
    "                                     prior = prior,\n",
    "                                     posterior_predictive = posterior_predictive)"
   ]
  },
  {
   "cell_type": "code",
   "execution_count": 29,
   "id": "61dba9d5",
   "metadata": {},
   "outputs": [
    {
     "name": "stderr",
     "output_type": "stream",
     "text": [
      "/var/folders/9p/5ycxgmps44zc3f0y6vljhp2h0000gn/T/ipykernel_31699/1148671607.py:8: FutureWarning: In v4.0, pm.sample will return an `arviz.InferenceData` object instead of a `MultiTrace` by default. You can pass return_inferencedata=True or return_inferencedata=False to be safe and silence this warning.\n",
      "  trace_G = pm.sample()\n",
      "Auto-assigning NUTS sampler...\n",
      "Initializing NUTS using jitter+adapt_diag...\n",
      "Multiprocess sampling (4 chains in 4 jobs)\n",
      "NUTS: [bG, a, sigma]\n"
     ]
    },
    {
     "data": {
      "text/html": [
       "\n",
       "<style>\n",
       "    /* Turns off some styling */\n",
       "    progress {\n",
       "        /* gets rid of default border in Firefox and Opera. */\n",
       "        border: none;\n",
       "        /* Needs to be in here for Safari polyfill so background images work as expected. */\n",
       "        background-size: auto;\n",
       "    }\n",
       "    .progress-bar-interrupted, .progress-bar-interrupted::-webkit-progress-bar {\n",
       "        background: #F44336;\n",
       "    }\n",
       "</style>\n"
      ],
      "text/plain": [
       "<IPython.core.display.HTML object>"
      ]
     },
     "metadata": {},
     "output_type": "display_data"
    },
    {
     "data": {
      "text/html": [
       "\n",
       "    <div>\n",
       "      <progress value='8000' class='' max='8000' style='width:300px; height:20px; vertical-align: middle;'></progress>\n",
       "      100.00% [8000/8000 00:02<00:00 Sampling 4 chains, 0 divergences]\n",
       "    </div>\n",
       "    "
      ],
      "text/plain": [
       "<IPython.core.display.HTML object>"
      ]
     },
     "metadata": {},
     "output_type": "display_data"
    },
    {
     "name": "stderr",
     "output_type": "stream",
     "text": [
      "/Users/amralaa/anaconda3/envs/stat-rethink2-pymc3/lib/python3.9/site-packages/scipy/stats/_continuous_distns.py:624: RuntimeWarning: overflow encountered in _beta_ppf\n",
      "  return _boost._beta_ppf(q, a, b)\n",
      "/Users/amralaa/anaconda3/envs/stat-rethink2-pymc3/lib/python3.9/site-packages/scipy/stats/_continuous_distns.py:624: RuntimeWarning: overflow encountered in _beta_ppf\n",
      "  return _boost._beta_ppf(q, a, b)\n",
      "/Users/amralaa/anaconda3/envs/stat-rethink2-pymc3/lib/python3.9/site-packages/scipy/stats/_continuous_distns.py:624: RuntimeWarning: overflow encountered in _beta_ppf\n",
      "  return _boost._beta_ppf(q, a, b)\n",
      "/Users/amralaa/anaconda3/envs/stat-rethink2-pymc3/lib/python3.9/site-packages/scipy/stats/_continuous_distns.py:624: RuntimeWarning: overflow encountered in _beta_ppf\n",
      "  return _boost._beta_ppf(q, a, b)\n",
      "Sampling 4 chains for 1_000 tune and 1_000 draw iterations (4_000 + 4_000 draws total) took 15 seconds.\n"
     ]
    },
    {
     "data": {
      "text/html": [
       "\n",
       "<style>\n",
       "    /* Turns off some styling */\n",
       "    progress {\n",
       "        /* gets rid of default border in Firefox and Opera. */\n",
       "        border: none;\n",
       "        /* Needs to be in here for Safari polyfill so background images work as expected. */\n",
       "        background-size: auto;\n",
       "    }\n",
       "    .progress-bar-interrupted, .progress-bar-interrupted::-webkit-progress-bar {\n",
       "        background: #F44336;\n",
       "    }\n",
       "</style>\n"
      ],
      "text/plain": [
       "<IPython.core.display.HTML object>"
      ]
     },
     "metadata": {},
     "output_type": "display_data"
    },
    {
     "data": {
      "text/html": [
       "\n",
       "    <div>\n",
       "      <progress value='4000' class='' max='4000' style='width:300px; height:20px; vertical-align: middle;'></progress>\n",
       "      100.00% [4000/4000 00:02<00:00]\n",
       "    </div>\n",
       "    "
      ],
      "text/plain": [
       "<IPython.core.display.HTML object>"
      ]
     },
     "metadata": {},
     "output_type": "display_data"
    }
   ],
   "source": [
    "#groupsize only model W = f(G)\n",
    "with pm.Model() as mG:\n",
    "    sigma = pm.Exponential('sigma',1)\n",
    "    a = pm.Normal('a', mu = 0, sd = 0.2)\n",
    "    bG = pm.Normal('bG', mu = 0, sd = 0.5)\n",
    "    mu = a + bG*foxes.groupsize\n",
    "    weight = pm.Normal('weight', mu = mu, sd = sigma, observed = foxes.weight)\n",
    "    trace_G = pm.sample()\n",
    "    prior = pm.sample_prior_predictive()\n",
    "    posterior_predictive = pm.sample_posterior_predictive(trace_G)\n",
    "    inference_data_mG = az.from_pymc3(trace = trace_G, \n",
    "                                     prior = prior,\n",
    "                                     posterior_predictive = posterior_predictive)"
   ]
  },
  {
   "cell_type": "code",
   "execution_count": 30,
   "id": "abc94e88",
   "metadata": {},
   "outputs": [
    {
     "name": "stderr",
     "output_type": "stream",
     "text": [
      "/var/folders/9p/5ycxgmps44zc3f0y6vljhp2h0000gn/T/ipykernel_31699/429245167.py:9: FutureWarning: In v4.0, pm.sample will return an `arviz.InferenceData` object instead of a `MultiTrace` by default. You can pass return_inferencedata=True or return_inferencedata=False to be safe and silence this warning.\n",
      "  trace_AF = pm.sample()\n",
      "Auto-assigning NUTS sampler...\n",
      "Initializing NUTS using jitter+adapt_diag...\n",
      "Multiprocess sampling (4 chains in 4 jobs)\n",
      "NUTS: [bF, bA, a, sigma]\n"
     ]
    },
    {
     "data": {
      "text/html": [
       "\n",
       "<style>\n",
       "    /* Turns off some styling */\n",
       "    progress {\n",
       "        /* gets rid of default border in Firefox and Opera. */\n",
       "        border: none;\n",
       "        /* Needs to be in here for Safari polyfill so background images work as expected. */\n",
       "        background-size: auto;\n",
       "    }\n",
       "    .progress-bar-interrupted, .progress-bar-interrupted::-webkit-progress-bar {\n",
       "        background: #F44336;\n",
       "    }\n",
       "</style>\n"
      ],
      "text/plain": [
       "<IPython.core.display.HTML object>"
      ]
     },
     "metadata": {},
     "output_type": "display_data"
    },
    {
     "data": {
      "text/html": [
       "\n",
       "    <div>\n",
       "      <progress value='8000' class='' max='8000' style='width:300px; height:20px; vertical-align: middle;'></progress>\n",
       "      100.00% [8000/8000 00:03<00:00 Sampling 4 chains, 0 divergences]\n",
       "    </div>\n",
       "    "
      ],
      "text/plain": [
       "<IPython.core.display.HTML object>"
      ]
     },
     "metadata": {},
     "output_type": "display_data"
    },
    {
     "name": "stderr",
     "output_type": "stream",
     "text": [
      "/Users/amralaa/anaconda3/envs/stat-rethink2-pymc3/lib/python3.9/site-packages/scipy/stats/_continuous_distns.py:624: RuntimeWarning: overflow encountered in _beta_ppf\n",
      "  return _boost._beta_ppf(q, a, b)\n",
      "/Users/amralaa/anaconda3/envs/stat-rethink2-pymc3/lib/python3.9/site-packages/scipy/stats/_continuous_distns.py:624: RuntimeWarning: overflow encountered in _beta_ppf\n",
      "  return _boost._beta_ppf(q, a, b)\n",
      "/Users/amralaa/anaconda3/envs/stat-rethink2-pymc3/lib/python3.9/site-packages/scipy/stats/_continuous_distns.py:624: RuntimeWarning: overflow encountered in _beta_ppf\n",
      "  return _boost._beta_ppf(q, a, b)\n",
      "/Users/amralaa/anaconda3/envs/stat-rethink2-pymc3/lib/python3.9/site-packages/scipy/stats/_continuous_distns.py:624: RuntimeWarning: overflow encountered in _beta_ppf\n",
      "  return _boost._beta_ppf(q, a, b)\n",
      "Sampling 4 chains for 1_000 tune and 1_000 draw iterations (4_000 + 4_000 draws total) took 14 seconds.\n",
      "The acceptance probability does not match the target. It is 0.892007929543205, but should be close to 0.8. Try to increase the number of tuning steps.\n"
     ]
    },
    {
     "data": {
      "text/html": [
       "\n",
       "<style>\n",
       "    /* Turns off some styling */\n",
       "    progress {\n",
       "        /* gets rid of default border in Firefox and Opera. */\n",
       "        border: none;\n",
       "        /* Needs to be in here for Safari polyfill so background images work as expected. */\n",
       "        background-size: auto;\n",
       "    }\n",
       "    .progress-bar-interrupted, .progress-bar-interrupted::-webkit-progress-bar {\n",
       "        background: #F44336;\n",
       "    }\n",
       "</style>\n"
      ],
      "text/plain": [
       "<IPython.core.display.HTML object>"
      ]
     },
     "metadata": {},
     "output_type": "display_data"
    },
    {
     "data": {
      "text/html": [
       "\n",
       "    <div>\n",
       "      <progress value='4000' class='' max='4000' style='width:300px; height:20px; vertical-align: middle;'></progress>\n",
       "      100.00% [4000/4000 00:02<00:00]\n",
       "    </div>\n",
       "    "
      ],
      "text/plain": [
       "<IPython.core.display.HTML object>"
      ]
     },
     "metadata": {},
     "output_type": "display_data"
    }
   ],
   "source": [
    "#Area and Food  model W = f(A,F)\n",
    "with pm.Model() as mAF:\n",
    "    sigma = pm.Exponential('sigma',1)\n",
    "    a = pm.Normal('a', mu = 0, sd = 0.2)\n",
    "    bA = pm.Normal('bA', mu = 0, sd = 0.5)\n",
    "    bF = pm.Normal('bF', mu = 0, sd = 0.5)\n",
    "    mu = a + bA*foxes.area + bF*foxes.avgfood\n",
    "    weight = pm.Normal('weight', mu = mu, sd = sigma, observed = foxes.weight)\n",
    "    trace_AF = pm.sample()\n",
    "    prior = pm.sample_prior_predictive()\n",
    "    posterior_predictive = pm.sample_posterior_predictive(trace_AF)\n",
    "    inference_data_mAF = az.from_pymc3(trace = trace_AF, \n",
    "                                     prior = prior,\n",
    "                                     posterior_predictive = posterior_predictive)"
   ]
  },
  {
   "cell_type": "code",
   "execution_count": 31,
   "id": "eb0623b0",
   "metadata": {},
   "outputs": [
    {
     "name": "stderr",
     "output_type": "stream",
     "text": [
      "/var/folders/9p/5ycxgmps44zc3f0y6vljhp2h0000gn/T/ipykernel_31699/2942931898.py:9: FutureWarning: In v4.0, pm.sample will return an `arviz.InferenceData` object instead of a `MultiTrace` by default. You can pass return_inferencedata=True or return_inferencedata=False to be safe and silence this warning.\n",
      "  trace_AG = pm.sample()\n",
      "Auto-assigning NUTS sampler...\n",
      "Initializing NUTS using jitter+adapt_diag...\n",
      "Multiprocess sampling (4 chains in 4 jobs)\n",
      "NUTS: [bG, bA, a, sigma]\n"
     ]
    },
    {
     "data": {
      "text/html": [
       "\n",
       "<style>\n",
       "    /* Turns off some styling */\n",
       "    progress {\n",
       "        /* gets rid of default border in Firefox and Opera. */\n",
       "        border: none;\n",
       "        /* Needs to be in here for Safari polyfill so background images work as expected. */\n",
       "        background-size: auto;\n",
       "    }\n",
       "    .progress-bar-interrupted, .progress-bar-interrupted::-webkit-progress-bar {\n",
       "        background: #F44336;\n",
       "    }\n",
       "</style>\n"
      ],
      "text/plain": [
       "<IPython.core.display.HTML object>"
      ]
     },
     "metadata": {},
     "output_type": "display_data"
    },
    {
     "data": {
      "text/html": [
       "\n",
       "    <div>\n",
       "      <progress value='8000' class='' max='8000' style='width:300px; height:20px; vertical-align: middle;'></progress>\n",
       "      100.00% [8000/8000 00:02<00:00 Sampling 4 chains, 0 divergences]\n",
       "    </div>\n",
       "    "
      ],
      "text/plain": [
       "<IPython.core.display.HTML object>"
      ]
     },
     "metadata": {},
     "output_type": "display_data"
    },
    {
     "name": "stderr",
     "output_type": "stream",
     "text": [
      "/Users/amralaa/anaconda3/envs/stat-rethink2-pymc3/lib/python3.9/site-packages/scipy/stats/_continuous_distns.py:624: RuntimeWarning: overflow encountered in _beta_ppf\n",
      "  return _boost._beta_ppf(q, a, b)\n",
      "/Users/amralaa/anaconda3/envs/stat-rethink2-pymc3/lib/python3.9/site-packages/scipy/stats/_continuous_distns.py:624: RuntimeWarning: overflow encountered in _beta_ppf\n",
      "  return _boost._beta_ppf(q, a, b)\n",
      "/Users/amralaa/anaconda3/envs/stat-rethink2-pymc3/lib/python3.9/site-packages/scipy/stats/_continuous_distns.py:624: RuntimeWarning: overflow encountered in _beta_ppf\n",
      "  return _boost._beta_ppf(q, a, b)\n",
      "Sampling 4 chains for 1_000 tune and 1_000 draw iterations (4_000 + 4_000 draws total) took 13 seconds.\n"
     ]
    },
    {
     "data": {
      "text/html": [
       "\n",
       "<style>\n",
       "    /* Turns off some styling */\n",
       "    progress {\n",
       "        /* gets rid of default border in Firefox and Opera. */\n",
       "        border: none;\n",
       "        /* Needs to be in here for Safari polyfill so background images work as expected. */\n",
       "        background-size: auto;\n",
       "    }\n",
       "    .progress-bar-interrupted, .progress-bar-interrupted::-webkit-progress-bar {\n",
       "        background: #F44336;\n",
       "    }\n",
       "</style>\n"
      ],
      "text/plain": [
       "<IPython.core.display.HTML object>"
      ]
     },
     "metadata": {},
     "output_type": "display_data"
    },
    {
     "data": {
      "text/html": [
       "\n",
       "    <div>\n",
       "      <progress value='4000' class='' max='4000' style='width:300px; height:20px; vertical-align: middle;'></progress>\n",
       "      100.00% [4000/4000 00:02<00:00]\n",
       "    </div>\n",
       "    "
      ],
      "text/plain": [
       "<IPython.core.display.HTML object>"
      ]
     },
     "metadata": {},
     "output_type": "display_data"
    }
   ],
   "source": [
    "#Area and Groupsize  model W = f(A,G)\n",
    "with pm.Model() as mAG:\n",
    "    sigma = pm.Exponential('sigma',1)\n",
    "    a = pm.Normal('a', mu = 0, sd = 0.2)\n",
    "    bA = pm.Normal('bA', mu = 0, sd = 0.5)\n",
    "    bG = pm.Normal('bG', mu = 0, sd = 0.5)\n",
    "    mu = a + bA*foxes.area + bG*foxes.groupsize\n",
    "    weight = pm.Normal('weight', mu = mu, sd = sigma, observed = foxes.weight)\n",
    "    trace_AG = pm.sample()\n",
    "    prior = pm.sample_prior_predictive()\n",
    "    posterior_predictive = pm.sample_posterior_predictive(trace_AG)\n",
    "    inference_data_mAG = az.from_pymc3(trace = trace_AG, \n",
    "                                     prior = prior,\n",
    "                                     posterior_predictive = posterior_predictive)"
   ]
  },
  {
   "cell_type": "code",
   "execution_count": 32,
   "id": "be4014ee",
   "metadata": {},
   "outputs": [
    {
     "name": "stderr",
     "output_type": "stream",
     "text": [
      "/var/folders/9p/5ycxgmps44zc3f0y6vljhp2h0000gn/T/ipykernel_31699/4194489060.py:9: FutureWarning: In v4.0, pm.sample will return an `arviz.InferenceData` object instead of a `MultiTrace` by default. You can pass return_inferencedata=True or return_inferencedata=False to be safe and silence this warning.\n",
      "  trace_FG = pm.sample()\n",
      "Auto-assigning NUTS sampler...\n",
      "Initializing NUTS using jitter+adapt_diag...\n",
      "Multiprocess sampling (4 chains in 4 jobs)\n",
      "NUTS: [bG, bF, a, sigma]\n"
     ]
    },
    {
     "data": {
      "text/html": [
       "\n",
       "<style>\n",
       "    /* Turns off some styling */\n",
       "    progress {\n",
       "        /* gets rid of default border in Firefox and Opera. */\n",
       "        border: none;\n",
       "        /* Needs to be in here for Safari polyfill so background images work as expected. */\n",
       "        background-size: auto;\n",
       "    }\n",
       "    .progress-bar-interrupted, .progress-bar-interrupted::-webkit-progress-bar {\n",
       "        background: #F44336;\n",
       "    }\n",
       "</style>\n"
      ],
      "text/plain": [
       "<IPython.core.display.HTML object>"
      ]
     },
     "metadata": {},
     "output_type": "display_data"
    },
    {
     "data": {
      "text/html": [
       "\n",
       "    <div>\n",
       "      <progress value='8000' class='' max='8000' style='width:300px; height:20px; vertical-align: middle;'></progress>\n",
       "      100.00% [8000/8000 00:03<00:00 Sampling 4 chains, 0 divergences]\n",
       "    </div>\n",
       "    "
      ],
      "text/plain": [
       "<IPython.core.display.HTML object>"
      ]
     },
     "metadata": {},
     "output_type": "display_data"
    },
    {
     "name": "stderr",
     "output_type": "stream",
     "text": [
      "/Users/amralaa/anaconda3/envs/stat-rethink2-pymc3/lib/python3.9/site-packages/scipy/stats/_continuous_distns.py:624: RuntimeWarning: overflow encountered in _beta_ppf\n",
      "  return _boost._beta_ppf(q, a, b)\n",
      "/Users/amralaa/anaconda3/envs/stat-rethink2-pymc3/lib/python3.9/site-packages/scipy/stats/_continuous_distns.py:624: RuntimeWarning: overflow encountered in _beta_ppf\n",
      "  return _boost._beta_ppf(q, a, b)\n",
      "/Users/amralaa/anaconda3/envs/stat-rethink2-pymc3/lib/python3.9/site-packages/scipy/stats/_continuous_distns.py:624: RuntimeWarning: overflow encountered in _beta_ppf\n",
      "  return _boost._beta_ppf(q, a, b)\n",
      "Sampling 4 chains for 1_000 tune and 1_000 draw iterations (4_000 + 4_000 draws total) took 13 seconds.\n"
     ]
    },
    {
     "data": {
      "text/html": [
       "\n",
       "<style>\n",
       "    /* Turns off some styling */\n",
       "    progress {\n",
       "        /* gets rid of default border in Firefox and Opera. */\n",
       "        border: none;\n",
       "        /* Needs to be in here for Safari polyfill so background images work as expected. */\n",
       "        background-size: auto;\n",
       "    }\n",
       "    .progress-bar-interrupted, .progress-bar-interrupted::-webkit-progress-bar {\n",
       "        background: #F44336;\n",
       "    }\n",
       "</style>\n"
      ],
      "text/plain": [
       "<IPython.core.display.HTML object>"
      ]
     },
     "metadata": {},
     "output_type": "display_data"
    },
    {
     "data": {
      "text/html": [
       "\n",
       "    <div>\n",
       "      <progress value='4000' class='' max='4000' style='width:300px; height:20px; vertical-align: middle;'></progress>\n",
       "      100.00% [4000/4000 00:02<00:00]\n",
       "    </div>\n",
       "    "
      ],
      "text/plain": [
       "<IPython.core.display.HTML object>"
      ]
     },
     "metadata": {},
     "output_type": "display_data"
    }
   ],
   "source": [
    "#Food and Groupsize  model W = f(F,G)\n",
    "with pm.Model() as mFG:\n",
    "    sigma = pm.Exponential('sigma',1)\n",
    "    a = pm.Normal('a', mu = 0, sd = 0.2)\n",
    "    bF = pm.Normal('bF', mu = 0, sd = 0.5)\n",
    "    bG = pm.Normal('bG', mu = 0, sd = 0.5)\n",
    "    mu = a + bF*foxes.avgfood + bG*foxes.groupsize\n",
    "    weight = pm.Normal('weight', mu = mu, sd = sigma, observed = foxes.weight)\n",
    "    trace_FG = pm.sample()\n",
    "    prior = pm.sample_prior_predictive()\n",
    "    posterior_predictive = pm.sample_posterior_predictive(trace_FG)\n",
    "    inference_data_mFG = az.from_pymc3(trace = trace_FG, \n",
    "                                     prior = prior,\n",
    "                                     posterior_predictive = posterior_predictive)"
   ]
  },
  {
   "cell_type": "code",
   "execution_count": 33,
   "id": "95c0ac0d",
   "metadata": {},
   "outputs": [
    {
     "name": "stderr",
     "output_type": "stream",
     "text": [
      "/var/folders/9p/5ycxgmps44zc3f0y6vljhp2h0000gn/T/ipykernel_31699/3217305360.py:10: FutureWarning: In v4.0, pm.sample will return an `arviz.InferenceData` object instead of a `MultiTrace` by default. You can pass return_inferencedata=True or return_inferencedata=False to be safe and silence this warning.\n",
      "  trace_AFG = pm.sample()\n",
      "Auto-assigning NUTS sampler...\n",
      "Initializing NUTS using jitter+adapt_diag...\n",
      "Multiprocess sampling (4 chains in 4 jobs)\n",
      "NUTS: [bG, bF, bA, a, sigma]\n"
     ]
    },
    {
     "data": {
      "text/html": [
       "\n",
       "<style>\n",
       "    /* Turns off some styling */\n",
       "    progress {\n",
       "        /* gets rid of default border in Firefox and Opera. */\n",
       "        border: none;\n",
       "        /* Needs to be in here for Safari polyfill so background images work as expected. */\n",
       "        background-size: auto;\n",
       "    }\n",
       "    .progress-bar-interrupted, .progress-bar-interrupted::-webkit-progress-bar {\n",
       "        background: #F44336;\n",
       "    }\n",
       "</style>\n"
      ],
      "text/plain": [
       "<IPython.core.display.HTML object>"
      ]
     },
     "metadata": {},
     "output_type": "display_data"
    },
    {
     "data": {
      "text/html": [
       "\n",
       "    <div>\n",
       "      <progress value='8000' class='' max='8000' style='width:300px; height:20px; vertical-align: middle;'></progress>\n",
       "      100.00% [8000/8000 00:03<00:00 Sampling 4 chains, 0 divergences]\n",
       "    </div>\n",
       "    "
      ],
      "text/plain": [
       "<IPython.core.display.HTML object>"
      ]
     },
     "metadata": {},
     "output_type": "display_data"
    },
    {
     "name": "stderr",
     "output_type": "stream",
     "text": [
      "/Users/amralaa/anaconda3/envs/stat-rethink2-pymc3/lib/python3.9/site-packages/scipy/stats/_continuous_distns.py:624: RuntimeWarning: overflow encountered in _beta_ppf\n",
      "  return _boost._beta_ppf(q, a, b)\n",
      "/Users/amralaa/anaconda3/envs/stat-rethink2-pymc3/lib/python3.9/site-packages/scipy/stats/_continuous_distns.py:624: RuntimeWarning: overflow encountered in _beta_ppf\n",
      "  return _boost._beta_ppf(q, a, b)\n",
      "/Users/amralaa/anaconda3/envs/stat-rethink2-pymc3/lib/python3.9/site-packages/scipy/stats/_continuous_distns.py:624: RuntimeWarning: overflow encountered in _beta_ppf\n",
      "  return _boost._beta_ppf(q, a, b)\n",
      "/Users/amralaa/anaconda3/envs/stat-rethink2-pymc3/lib/python3.9/site-packages/scipy/stats/_continuous_distns.py:624: RuntimeWarning: overflow encountered in _beta_ppf\n",
      "  return _boost._beta_ppf(q, a, b)\n",
      "Sampling 4 chains for 1_000 tune and 1_000 draw iterations (4_000 + 4_000 draws total) took 15 seconds.\n"
     ]
    },
    {
     "data": {
      "text/html": [
       "\n",
       "<style>\n",
       "    /* Turns off some styling */\n",
       "    progress {\n",
       "        /* gets rid of default border in Firefox and Opera. */\n",
       "        border: none;\n",
       "        /* Needs to be in here for Safari polyfill so background images work as expected. */\n",
       "        background-size: auto;\n",
       "    }\n",
       "    .progress-bar-interrupted, .progress-bar-interrupted::-webkit-progress-bar {\n",
       "        background: #F44336;\n",
       "    }\n",
       "</style>\n"
      ],
      "text/plain": [
       "<IPython.core.display.HTML object>"
      ]
     },
     "metadata": {},
     "output_type": "display_data"
    },
    {
     "data": {
      "text/html": [
       "\n",
       "    <div>\n",
       "      <progress value='4000' class='' max='4000' style='width:300px; height:20px; vertical-align: middle;'></progress>\n",
       "      100.00% [4000/4000 00:03<00:00]\n",
       "    </div>\n",
       "    "
      ],
      "text/plain": [
       "<IPython.core.display.HTML object>"
      ]
     },
     "metadata": {},
     "output_type": "display_data"
    }
   ],
   "source": [
    "# all variables model\n",
    "with pm.Model() as mAFG:\n",
    "    sigma = pm.Exponential('sigma',1)\n",
    "    a = pm.Normal('a', mu = 0, sd = 0.2)\n",
    "    bA = pm.Normal('bA', mu = 0, sd = 0.5)\n",
    "    bF = pm.Normal('bF', mu = 0, sd = 0.5)\n",
    "    bG = pm.Normal('bG', mu = 0, sd = 0.5)\n",
    "    mu = a + bA*foxes.area + bG*foxes.groupsize + bF*foxes.avgfood\n",
    "    weight = pm.Normal('weight', mu = mu, sd = sigma, observed = foxes.weight)\n",
    "    trace_AFG = pm.sample()\n",
    "    prior = pm.sample_prior_predictive()\n",
    "    posterior_predictive = pm.sample_posterior_predictive(trace_AFG)\n",
    "    inference_data_mAFG = az.from_pymc3(trace = trace_AFG, \n",
    "                                     prior = prior,\n",
    "                                     posterior_predictive = posterior_predictive)"
   ]
  },
  {
   "cell_type": "code",
   "execution_count": 34,
   "id": "a54a0b00",
   "metadata": {},
   "outputs": [],
   "source": [
    "compare_dict_foxes = {'mA': inference_data_mA,\n",
    "                   'mF' : inference_data_mF,\n",
    "                   'mG' : inference_data_mG,\n",
    "                   'mAG': inference_data_mAG,\n",
    "                   'mAF' : inference_data_mAF,\n",
    "                   'mFG' : inference_data_mFG,\n",
    "                   'mAFG' : inference_data_mAFG}"
   ]
  },
  {
   "cell_type": "code",
   "execution_count": 35,
   "id": "7afa83b8",
   "metadata": {},
   "outputs": [
    {
     "name": "stderr",
     "output_type": "stream",
     "text": [
      "/Users/amralaa/anaconda3/envs/stat-rethink2-pymc3/lib/python3.9/site-packages/arviz/stats/stats.py:145: UserWarning: The default method used to estimate the weights for each model,has changed from BB-pseudo-BMA to stacking\n",
      "  warnings.warn(\n",
      "/Users/amralaa/anaconda3/envs/stat-rethink2-pymc3/lib/python3.9/site-packages/arviz/stats/stats.py:212: FutureWarning: The frame.append method is deprecated and will be removed from pandas in a future version. Use pandas.concat instead.\n",
      "  ics = ics.append([ic_func(dataset, pointwise=True, scale=scale)])\n",
      "/Users/amralaa/anaconda3/envs/stat-rethink2-pymc3/lib/python3.9/site-packages/arviz/stats/stats.py:212: FutureWarning: The frame.append method is deprecated and will be removed from pandas in a future version. Use pandas.concat instead.\n",
      "  ics = ics.append([ic_func(dataset, pointwise=True, scale=scale)])\n",
      "/Users/amralaa/anaconda3/envs/stat-rethink2-pymc3/lib/python3.9/site-packages/arviz/stats/stats.py:212: FutureWarning: The frame.append method is deprecated and will be removed from pandas in a future version. Use pandas.concat instead.\n",
      "  ics = ics.append([ic_func(dataset, pointwise=True, scale=scale)])\n",
      "/Users/amralaa/anaconda3/envs/stat-rethink2-pymc3/lib/python3.9/site-packages/arviz/stats/stats.py:1405: UserWarning: For one or more samples the posterior variance of the log predictive densities exceeds 0.4. This could be indication of WAIC starting to fail. \n",
      "See http://arxiv.org/abs/1507.04544 for details\n",
      "  warnings.warn(\n",
      "/Users/amralaa/anaconda3/envs/stat-rethink2-pymc3/lib/python3.9/site-packages/arviz/stats/stats.py:212: FutureWarning: The frame.append method is deprecated and will be removed from pandas in a future version. Use pandas.concat instead.\n",
      "  ics = ics.append([ic_func(dataset, pointwise=True, scale=scale)])\n",
      "/Users/amralaa/anaconda3/envs/stat-rethink2-pymc3/lib/python3.9/site-packages/arviz/stats/stats.py:212: FutureWarning: The frame.append method is deprecated and will be removed from pandas in a future version. Use pandas.concat instead.\n",
      "  ics = ics.append([ic_func(dataset, pointwise=True, scale=scale)])\n",
      "/Users/amralaa/anaconda3/envs/stat-rethink2-pymc3/lib/python3.9/site-packages/arviz/stats/stats.py:212: FutureWarning: The frame.append method is deprecated and will be removed from pandas in a future version. Use pandas.concat instead.\n",
      "  ics = ics.append([ic_func(dataset, pointwise=True, scale=scale)])\n",
      "/Users/amralaa/anaconda3/envs/stat-rethink2-pymc3/lib/python3.9/site-packages/arviz/stats/stats.py:1405: UserWarning: For one or more samples the posterior variance of the log predictive densities exceeds 0.4. This could be indication of WAIC starting to fail. \n",
      "See http://arxiv.org/abs/1507.04544 for details\n",
      "  warnings.warn(\n",
      "/Users/amralaa/anaconda3/envs/stat-rethink2-pymc3/lib/python3.9/site-packages/arviz/stats/stats.py:212: FutureWarning: The frame.append method is deprecated and will be removed from pandas in a future version. Use pandas.concat instead.\n",
      "  ics = ics.append([ic_func(dataset, pointwise=True, scale=scale)])\n"
     ]
    },
    {
     "data": {
      "text/html": [
       "<div>\n",
       "<style scoped>\n",
       "    .dataframe tbody tr th:only-of-type {\n",
       "        vertical-align: middle;\n",
       "    }\n",
       "\n",
       "    .dataframe tbody tr th {\n",
       "        vertical-align: top;\n",
       "    }\n",
       "\n",
       "    .dataframe thead th {\n",
       "        text-align: right;\n",
       "    }\n",
       "</style>\n",
       "<table border=\"1\" class=\"dataframe\">\n",
       "  <thead>\n",
       "    <tr style=\"text-align: right;\">\n",
       "      <th></th>\n",
       "      <th>rank</th>\n",
       "      <th>waic</th>\n",
       "      <th>p_waic</th>\n",
       "      <th>d_waic</th>\n",
       "      <th>weight</th>\n",
       "      <th>se</th>\n",
       "      <th>dse</th>\n",
       "      <th>warning</th>\n",
       "      <th>waic_scale</th>\n",
       "    </tr>\n",
       "  </thead>\n",
       "  <tbody>\n",
       "    <tr>\n",
       "      <th>mAFG</th>\n",
       "      <td>0</td>\n",
       "      <td>-161.572030</td>\n",
       "      <td>4.604878</td>\n",
       "      <td>0.000000</td>\n",
       "      <td>0.000000</td>\n",
       "      <td>7.741545</td>\n",
       "      <td>0.000000</td>\n",
       "      <td>True</td>\n",
       "      <td>log</td>\n",
       "    </tr>\n",
       "    <tr>\n",
       "      <th>mFG</th>\n",
       "      <td>1</td>\n",
       "      <td>-161.765645</td>\n",
       "      <td>3.405734</td>\n",
       "      <td>0.193615</td>\n",
       "      <td>0.524179</td>\n",
       "      <td>7.648804</td>\n",
       "      <td>1.671314</td>\n",
       "      <td>False</td>\n",
       "      <td>log</td>\n",
       "    </tr>\n",
       "    <tr>\n",
       "      <th>mAG</th>\n",
       "      <td>2</td>\n",
       "      <td>-161.879700</td>\n",
       "      <td>3.546500</td>\n",
       "      <td>0.307670</td>\n",
       "      <td>0.475821</td>\n",
       "      <td>7.529432</td>\n",
       "      <td>1.366099</td>\n",
       "      <td>True</td>\n",
       "      <td>log</td>\n",
       "    </tr>\n",
       "    <tr>\n",
       "      <th>mG</th>\n",
       "      <td>3</td>\n",
       "      <td>-165.378565</td>\n",
       "      <td>2.586734</td>\n",
       "      <td>3.806535</td>\n",
       "      <td>0.000000</td>\n",
       "      <td>7.053853</td>\n",
       "      <td>2.791455</td>\n",
       "      <td>False</td>\n",
       "      <td>log</td>\n",
       "    </tr>\n",
       "    <tr>\n",
       "      <th>mF</th>\n",
       "      <td>4</td>\n",
       "      <td>-166.696831</td>\n",
       "      <td>2.324193</td>\n",
       "      <td>5.124801</td>\n",
       "      <td>0.000000</td>\n",
       "      <td>6.638175</td>\n",
       "      <td>3.363065</td>\n",
       "      <td>False</td>\n",
       "      <td>log</td>\n",
       "    </tr>\n",
       "    <tr>\n",
       "      <th>mA</th>\n",
       "      <td>5</td>\n",
       "      <td>-166.831357</td>\n",
       "      <td>2.547566</td>\n",
       "      <td>5.259327</td>\n",
       "      <td>0.000000</td>\n",
       "      <td>6.649867</td>\n",
       "      <td>3.389021</td>\n",
       "      <td>False</td>\n",
       "      <td>log</td>\n",
       "    </tr>\n",
       "    <tr>\n",
       "      <th>mAF</th>\n",
       "      <td>6</td>\n",
       "      <td>-167.185226</td>\n",
       "      <td>3.365713</td>\n",
       "      <td>5.613196</td>\n",
       "      <td>0.000000</td>\n",
       "      <td>6.739894</td>\n",
       "      <td>3.271009</td>\n",
       "      <td>False</td>\n",
       "      <td>log</td>\n",
       "    </tr>\n",
       "  </tbody>\n",
       "</table>\n",
       "</div>"
      ],
      "text/plain": [
       "      rank        waic    p_waic    d_waic    weight        se       dse  \\\n",
       "mAFG     0 -161.572030  4.604878  0.000000  0.000000  7.741545  0.000000   \n",
       "mFG      1 -161.765645  3.405734  0.193615  0.524179  7.648804  1.671314   \n",
       "mAG      2 -161.879700  3.546500  0.307670  0.475821  7.529432  1.366099   \n",
       "mG       3 -165.378565  2.586734  3.806535  0.000000  7.053853  2.791455   \n",
       "mF       4 -166.696831  2.324193  5.124801  0.000000  6.638175  3.363065   \n",
       "mA       5 -166.831357  2.547566  5.259327  0.000000  6.649867  3.389021   \n",
       "mAF      6 -167.185226  3.365713  5.613196  0.000000  6.739894  3.271009   \n",
       "\n",
       "      warning waic_scale  \n",
       "mAFG     True        log  \n",
       "mFG     False        log  \n",
       "mAG      True        log  \n",
       "mG      False        log  \n",
       "mF      False        log  \n",
       "mA      False        log  \n",
       "mAF     False        log  "
      ]
     },
     "execution_count": 35,
     "metadata": {},
     "output_type": "execute_result"
    }
   ],
   "source": [
    "az.compare(compare_dict_foxes, ic = 'waic')"
   ]
  },
  {
   "cell_type": "code",
   "execution_count": 36,
   "id": "2f85592f",
   "metadata": {},
   "outputs": [
    {
     "name": "stderr",
     "output_type": "stream",
     "text": [
      "/Users/amralaa/anaconda3/envs/stat-rethink2-pymc3/lib/python3.9/site-packages/arviz/stats/stats.py:145: UserWarning: The default method used to estimate the weights for each model,has changed from BB-pseudo-BMA to stacking\n",
      "  warnings.warn(\n",
      "/Users/amralaa/anaconda3/envs/stat-rethink2-pymc3/lib/python3.9/site-packages/arviz/stats/stats.py:212: FutureWarning: The frame.append method is deprecated and will be removed from pandas in a future version. Use pandas.concat instead.\n",
      "  ics = ics.append([ic_func(dataset, pointwise=True, scale=scale)])\n",
      "/Users/amralaa/anaconda3/envs/stat-rethink2-pymc3/lib/python3.9/site-packages/arviz/stats/stats.py:212: FutureWarning: The frame.append method is deprecated and will be removed from pandas in a future version. Use pandas.concat instead.\n",
      "  ics = ics.append([ic_func(dataset, pointwise=True, scale=scale)])\n",
      "/Users/amralaa/anaconda3/envs/stat-rethink2-pymc3/lib/python3.9/site-packages/arviz/stats/stats.py:212: FutureWarning: The frame.append method is deprecated and will be removed from pandas in a future version. Use pandas.concat instead.\n",
      "  ics = ics.append([ic_func(dataset, pointwise=True, scale=scale)])\n",
      "/Users/amralaa/anaconda3/envs/stat-rethink2-pymc3/lib/python3.9/site-packages/arviz/stats/stats.py:212: FutureWarning: The frame.append method is deprecated and will be removed from pandas in a future version. Use pandas.concat instead.\n",
      "  ics = ics.append([ic_func(dataset, pointwise=True, scale=scale)])\n",
      "/Users/amralaa/anaconda3/envs/stat-rethink2-pymc3/lib/python3.9/site-packages/arviz/stats/stats.py:212: FutureWarning: The frame.append method is deprecated and will be removed from pandas in a future version. Use pandas.concat instead.\n",
      "  ics = ics.append([ic_func(dataset, pointwise=True, scale=scale)])\n",
      "/Users/amralaa/anaconda3/envs/stat-rethink2-pymc3/lib/python3.9/site-packages/arviz/stats/stats.py:212: FutureWarning: The frame.append method is deprecated and will be removed from pandas in a future version. Use pandas.concat instead.\n",
      "  ics = ics.append([ic_func(dataset, pointwise=True, scale=scale)])\n",
      "/Users/amralaa/anaconda3/envs/stat-rethink2-pymc3/lib/python3.9/site-packages/arviz/stats/stats.py:212: FutureWarning: The frame.append method is deprecated and will be removed from pandas in a future version. Use pandas.concat instead.\n",
      "  ics = ics.append([ic_func(dataset, pointwise=True, scale=scale)])\n"
     ]
    }
   ],
   "source": [
    "df_psis = az.compare(compare_dict_foxes, ic='loo')"
   ]
  },
  {
   "cell_type": "code",
   "execution_count": 37,
   "id": "68d7f8d2",
   "metadata": {},
   "outputs": [
    {
     "data": {
      "text/html": [
       "<div>\n",
       "<style scoped>\n",
       "    .dataframe tbody tr th:only-of-type {\n",
       "        vertical-align: middle;\n",
       "    }\n",
       "\n",
       "    .dataframe tbody tr th {\n",
       "        vertical-align: top;\n",
       "    }\n",
       "\n",
       "    .dataframe thead th {\n",
       "        text-align: right;\n",
       "    }\n",
       "</style>\n",
       "<table border=\"1\" class=\"dataframe\">\n",
       "  <thead>\n",
       "    <tr style=\"text-align: right;\">\n",
       "      <th></th>\n",
       "      <th>rank</th>\n",
       "      <th>loo</th>\n",
       "      <th>p_loo</th>\n",
       "      <th>d_loo</th>\n",
       "      <th>weight</th>\n",
       "      <th>se</th>\n",
       "      <th>dse</th>\n",
       "      <th>warning</th>\n",
       "      <th>loo_scale</th>\n",
       "    </tr>\n",
       "  </thead>\n",
       "  <tbody>\n",
       "    <tr>\n",
       "      <th>mAFG</th>\n",
       "      <td>0</td>\n",
       "      <td>-161.577796</td>\n",
       "      <td>4.610645</td>\n",
       "      <td>0.000000</td>\n",
       "      <td>1.020328e-15</td>\n",
       "      <td>7.742809</td>\n",
       "      <td>0.000000</td>\n",
       "      <td>False</td>\n",
       "      <td>log</td>\n",
       "    </tr>\n",
       "    <tr>\n",
       "      <th>mFG</th>\n",
       "      <td>1</td>\n",
       "      <td>-161.774578</td>\n",
       "      <td>3.414667</td>\n",
       "      <td>0.196782</td>\n",
       "      <td>5.239262e-01</td>\n",
       "      <td>7.651086</td>\n",
       "      <td>1.672071</td>\n",
       "      <td>False</td>\n",
       "      <td>log</td>\n",
       "    </tr>\n",
       "    <tr>\n",
       "      <th>mAG</th>\n",
       "      <td>2</td>\n",
       "      <td>-161.887299</td>\n",
       "      <td>3.554099</td>\n",
       "      <td>0.309503</td>\n",
       "      <td>4.760738e-01</td>\n",
       "      <td>7.530778</td>\n",
       "      <td>1.365347</td>\n",
       "      <td>False</td>\n",
       "      <td>log</td>\n",
       "    </tr>\n",
       "    <tr>\n",
       "      <th>mG</th>\n",
       "      <td>3</td>\n",
       "      <td>-165.382344</td>\n",
       "      <td>2.590513</td>\n",
       "      <td>3.804548</td>\n",
       "      <td>0.000000e+00</td>\n",
       "      <td>7.054847</td>\n",
       "      <td>2.793020</td>\n",
       "      <td>False</td>\n",
       "      <td>log</td>\n",
       "    </tr>\n",
       "    <tr>\n",
       "      <th>mF</th>\n",
       "      <td>4</td>\n",
       "      <td>-166.697153</td>\n",
       "      <td>2.324515</td>\n",
       "      <td>5.119357</td>\n",
       "      <td>2.144511e-16</td>\n",
       "      <td>6.638004</td>\n",
       "      <td>3.364983</td>\n",
       "      <td>False</td>\n",
       "      <td>log</td>\n",
       "    </tr>\n",
       "    <tr>\n",
       "      <th>mA</th>\n",
       "      <td>5</td>\n",
       "      <td>-166.834899</td>\n",
       "      <td>2.551108</td>\n",
       "      <td>5.257103</td>\n",
       "      <td>6.015339e-16</td>\n",
       "      <td>6.650691</td>\n",
       "      <td>3.390883</td>\n",
       "      <td>False</td>\n",
       "      <td>log</td>\n",
       "    </tr>\n",
       "    <tr>\n",
       "      <th>mAF</th>\n",
       "      <td>6</td>\n",
       "      <td>-167.191074</td>\n",
       "      <td>3.371561</td>\n",
       "      <td>5.613278</td>\n",
       "      <td>0.000000e+00</td>\n",
       "      <td>6.740992</td>\n",
       "      <td>3.272351</td>\n",
       "      <td>False</td>\n",
       "      <td>log</td>\n",
       "    </tr>\n",
       "  </tbody>\n",
       "</table>\n",
       "</div>"
      ],
      "text/plain": [
       "      rank         loo     p_loo     d_loo        weight        se       dse  \\\n",
       "mAFG     0 -161.577796  4.610645  0.000000  1.020328e-15  7.742809  0.000000   \n",
       "mFG      1 -161.774578  3.414667  0.196782  5.239262e-01  7.651086  1.672071   \n",
       "mAG      2 -161.887299  3.554099  0.309503  4.760738e-01  7.530778  1.365347   \n",
       "mG       3 -165.382344  2.590513  3.804548  0.000000e+00  7.054847  2.793020   \n",
       "mF       4 -166.697153  2.324515  5.119357  2.144511e-16  6.638004  3.364983   \n",
       "mA       5 -166.834899  2.551108  5.257103  6.015339e-16  6.650691  3.390883   \n",
       "mAF      6 -167.191074  3.371561  5.613278  0.000000e+00  6.740992  3.272351   \n",
       "\n",
       "      warning loo_scale  \n",
       "mAFG    False       log  \n",
       "mFG     False       log  \n",
       "mAG     False       log  \n",
       "mG      False       log  \n",
       "mF      False       log  \n",
       "mA      False       log  \n",
       "mAF     False       log  "
      ]
     },
     "execution_count": 37,
     "metadata": {},
     "output_type": "execute_result"
    }
   ],
   "source": [
    "df_psis"
   ]
  },
  {
   "attachments": {
    "foxes.png": {
     "image/png": "[encoded data removed]"
    }
   },
   "cell_type": "markdown",
   "id": "e4a65e88",
   "metadata": {},
   "source": [
    "The DAG on which this is based looks like\n",
    "\n",
    "<div>\n",
    "    <img src = \"attachment:foxes.png\" width = \"100\" height = \"100\">\n",
    "</div>"
   ]
  },
  {
   "cell_type": "markdown",
   "id": "f4348f1e",
   "metadata": {},
   "source": [
    "So, it looks like the model with all 3 variables is the best, but not much better than models with 2 predictors Area&Groupsize or Food&Groupsize and same for one predictor Groupsize."
   ]
  },
  {
   "cell_type": "code",
   "execution_count": 38,
   "id": "727fe7f3",
   "metadata": {},
   "outputs": [
    {
     "data": {
      "image/png": "[encoded data removed]",
      "text/plain": [
       "<Figure size 432x504 with 1 Axes>"
      ]
     },
     "metadata": {
      "needs_background": "light"
     },
     "output_type": "display_data"
    }
   ],
   "source": [
    "az.plot_compare(df_psis);"
   ]
  },
  {
   "cell_type": "code",
   "execution_count": 39,
   "id": "8a85cd8b",
   "metadata": {},
   "outputs": [
    {
     "name": "stderr",
     "output_type": "stream",
     "text": [
      "/Users/amralaa/anaconda3/envs/stat-rethink2-pymc3/lib/python3.9/site-packages/arviz/data/io_pymc3.py:96: FutureWarning: Using `from_pymc3` without the model will be deprecated in a future release. Not using the model will return less accurate and less useful results. Make sure you use the model argument or call from_pymc3 within a model context.\n",
      "  warnings.warn(\n"
     ]
    },
    {
     "data": {
      "text/html": [
       "<div>\n",
       "<style scoped>\n",
       "    .dataframe tbody tr th:only-of-type {\n",
       "        vertical-align: middle;\n",
       "    }\n",
       "\n",
       "    .dataframe tbody tr th {\n",
       "        vertical-align: top;\n",
       "    }\n",
       "\n",
       "    .dataframe thead th {\n",
       "        text-align: right;\n",
       "    }\n",
       "</style>\n",
       "<table border=\"1\" class=\"dataframe\">\n",
       "  <thead>\n",
       "    <tr style=\"text-align: right;\">\n",
       "      <th></th>\n",
       "      <th>mean</th>\n",
       "      <th>sd</th>\n",
       "      <th>hdi_3%</th>\n",
       "      <th>hdi_97%</th>\n",
       "      <th>mcse_mean</th>\n",
       "      <th>mcse_sd</th>\n",
       "      <th>ess_bulk</th>\n",
       "      <th>ess_tail</th>\n",
       "      <th>r_hat</th>\n",
       "    </tr>\n",
       "  </thead>\n",
       "  <tbody>\n",
       "    <tr>\n",
       "      <th>a</th>\n",
       "      <td>-0.001</td>\n",
       "      <td>0.083</td>\n",
       "      <td>-0.165</td>\n",
       "      <td>0.149</td>\n",
       "      <td>0.001</td>\n",
       "      <td>0.001</td>\n",
       "      <td>3468.0</td>\n",
       "      <td>2439.0</td>\n",
       "      <td>1.0</td>\n",
       "    </tr>\n",
       "    <tr>\n",
       "      <th>bA</th>\n",
       "      <td>0.274</td>\n",
       "      <td>0.175</td>\n",
       "      <td>-0.054</td>\n",
       "      <td>0.601</td>\n",
       "      <td>0.003</td>\n",
       "      <td>0.002</td>\n",
       "      <td>3277.0</td>\n",
       "      <td>2600.0</td>\n",
       "      <td>1.0</td>\n",
       "    </tr>\n",
       "    <tr>\n",
       "      <th>bF</th>\n",
       "      <td>0.291</td>\n",
       "      <td>0.225</td>\n",
       "      <td>-0.133</td>\n",
       "      <td>0.705</td>\n",
       "      <td>0.005</td>\n",
       "      <td>0.003</td>\n",
       "      <td>2106.0</td>\n",
       "      <td>2477.0</td>\n",
       "      <td>1.0</td>\n",
       "    </tr>\n",
       "    <tr>\n",
       "      <th>bG</th>\n",
       "      <td>-0.631</td>\n",
       "      <td>0.195</td>\n",
       "      <td>-1.005</td>\n",
       "      <td>-0.265</td>\n",
       "      <td>0.004</td>\n",
       "      <td>0.003</td>\n",
       "      <td>2434.0</td>\n",
       "      <td>2317.0</td>\n",
       "      <td>1.0</td>\n",
       "    </tr>\n",
       "    <tr>\n",
       "      <th>sigma</th>\n",
       "      <td>0.955</td>\n",
       "      <td>0.066</td>\n",
       "      <td>0.829</td>\n",
       "      <td>1.074</td>\n",
       "      <td>0.001</td>\n",
       "      <td>0.001</td>\n",
       "      <td>3031.0</td>\n",
       "      <td>2484.0</td>\n",
       "      <td>1.0</td>\n",
       "    </tr>\n",
       "  </tbody>\n",
       "</table>\n",
       "</div>"
      ],
      "text/plain": [
       "        mean     sd  hdi_3%  hdi_97%  mcse_mean  mcse_sd  ess_bulk  ess_tail  \\\n",
       "a     -0.001  0.083  -0.165    0.149      0.001    0.001    3468.0    2439.0   \n",
       "bA     0.274  0.175  -0.054    0.601      0.003    0.002    3277.0    2600.0   \n",
       "bF     0.291  0.225  -0.133    0.705      0.005    0.003    2106.0    2477.0   \n",
       "bG    -0.631  0.195  -1.005   -0.265      0.004    0.003    2434.0    2317.0   \n",
       "sigma  0.955  0.066   0.829    1.074      0.001    0.001    3031.0    2484.0   \n",
       "\n",
       "       r_hat  \n",
       "a        1.0  \n",
       "bA       1.0  \n",
       "bF       1.0  \n",
       "bG       1.0  \n",
       "sigma    1.0  "
      ]
     },
     "execution_count": 39,
     "metadata": {},
     "output_type": "execute_result"
    }
   ],
   "source": [
    "az.summary(trace_AFG)"
   ]
  },
  {
   "cell_type": "markdown",
   "id": "b2b8032e",
   "metadata": {},
   "source": [
    "How to interpret these parameters? DAG analysis:\n",
    "\n",
    "1. bG\n",
    "\n",
    "G -> W\n",
    "\n",
    "G <- F -> W (non-causal path)\n",
    "\n",
    "since F is included, then non-causal path is blocked. So bG measures direct causal effect of G on W ie G -> W\n",
    "\n",
    "2. bF\n",
    "\n",
    "F -> W\n",
    "\n",
    "F -> G -> W (indirect path) \n",
    "\n",
    "So bF should be measuring direct causal effect of F -> G. But because we also included A in the model, this reduces variability in bF and makes it a less accurate measure than if we didn't include A\n",
    "\n",
    "3. bA\n",
    "\n",
    "doesn't measure anything since path from A -> F -> W is blocked by conditioning on F"
   ]
  },
  {
   "cell_type": "markdown",
   "id": "65694748",
   "metadata": {},
   "source": [
    "So, why is bA (in the 3 variable model) associated with W? is there an unkown path connecting the two? is it a fluke of the sample?"
   ]
  },
  {
   "cell_type": "markdown",
   "id": "a518d3da",
   "metadata": {},
   "source": [
    "3. Build a predictive model of the relationship shown on the cover of the book, the relationship between the timing of cherry blossoms and March temperature in the same year. The data are found in data(cherry_blossoms). Consider at least two functions to predict doy with temp. Compare them with PSIS or WAIC.\n",
    "\n",
    "    Suppose March temperatures reach 9 degrees by the year 2050. What does your best model predict for the predictive distribution of the day-in-year that the cherry trees will blossom?"
   ]
  },
  {
   "cell_type": "code",
   "execution_count": 40,
   "id": "80ab836d",
   "metadata": {},
   "outputs": [],
   "source": [
    "path2 = '/Users/amralaa/CS - AGI core/[Prereq] Statistical Rethinking/resources/Rethinking_2/End_of_chapter_problems/data/cherry_blossoms.csv'"
   ]
  },
  {
   "cell_type": "code",
   "execution_count": 41,
   "id": "6dcb208d",
   "metadata": {},
   "outputs": [],
   "source": [
    "blossom = pd.read_csv(path2, delimiter = ';')"
   ]
  },
  {
   "cell_type": "code",
   "execution_count": 42,
   "id": "25cee930",
   "metadata": {},
   "outputs": [
    {
     "data": {
      "text/html": [
       "<div>\n",
       "<style scoped>\n",
       "    .dataframe tbody tr th:only-of-type {\n",
       "        vertical-align: middle;\n",
       "    }\n",
       "\n",
       "    .dataframe tbody tr th {\n",
       "        vertical-align: top;\n",
       "    }\n",
       "\n",
       "    .dataframe thead th {\n",
       "        text-align: right;\n",
       "    }\n",
       "</style>\n",
       "<table border=\"1\" class=\"dataframe\">\n",
       "  <thead>\n",
       "    <tr style=\"text-align: right;\">\n",
       "      <th></th>\n",
       "      <th>year</th>\n",
       "      <th>doy</th>\n",
       "      <th>temp</th>\n",
       "      <th>temp_upper</th>\n",
       "      <th>temp_lower</th>\n",
       "    </tr>\n",
       "  </thead>\n",
       "  <tbody>\n",
       "    <tr>\n",
       "      <th>0</th>\n",
       "      <td>801</td>\n",
       "      <td>NaN</td>\n",
       "      <td>NaN</td>\n",
       "      <td>NaN</td>\n",
       "      <td>NaN</td>\n",
       "    </tr>\n",
       "    <tr>\n",
       "      <th>1</th>\n",
       "      <td>802</td>\n",
       "      <td>NaN</td>\n",
       "      <td>NaN</td>\n",
       "      <td>NaN</td>\n",
       "      <td>NaN</td>\n",
       "    </tr>\n",
       "    <tr>\n",
       "      <th>2</th>\n",
       "      <td>803</td>\n",
       "      <td>NaN</td>\n",
       "      <td>NaN</td>\n",
       "      <td>NaN</td>\n",
       "      <td>NaN</td>\n",
       "    </tr>\n",
       "    <tr>\n",
       "      <th>3</th>\n",
       "      <td>804</td>\n",
       "      <td>NaN</td>\n",
       "      <td>NaN</td>\n",
       "      <td>NaN</td>\n",
       "      <td>NaN</td>\n",
       "    </tr>\n",
       "    <tr>\n",
       "      <th>4</th>\n",
       "      <td>805</td>\n",
       "      <td>NaN</td>\n",
       "      <td>NaN</td>\n",
       "      <td>NaN</td>\n",
       "      <td>NaN</td>\n",
       "    </tr>\n",
       "  </tbody>\n",
       "</table>\n",
       "</div>"
      ],
      "text/plain": [
       "   year  doy  temp  temp_upper  temp_lower\n",
       "0   801  NaN   NaN         NaN         NaN\n",
       "1   802  NaN   NaN         NaN         NaN\n",
       "2   803  NaN   NaN         NaN         NaN\n",
       "3   804  NaN   NaN         NaN         NaN\n",
       "4   805  NaN   NaN         NaN         NaN"
      ]
     },
     "execution_count": 42,
     "metadata": {},
     "output_type": "execute_result"
    }
   ],
   "source": [
    "blossom.head()"
   ]
  },
  {
   "cell_type": "code",
   "execution_count": 43,
   "id": "5a8af32f",
   "metadata": {},
   "outputs": [],
   "source": [
    "blossom = blossom.dropna()"
   ]
  },
  {
   "cell_type": "code",
   "execution_count": 44,
   "id": "e927ebfb",
   "metadata": {},
   "outputs": [
    {
     "data": {
      "text/html": [
       "<div>\n",
       "<style scoped>\n",
       "    .dataframe tbody tr th:only-of-type {\n",
       "        vertical-align: middle;\n",
       "    }\n",
       "\n",
       "    .dataframe tbody tr th {\n",
       "        vertical-align: top;\n",
       "    }\n",
       "\n",
       "    .dataframe thead th {\n",
       "        text-align: right;\n",
       "    }\n",
       "</style>\n",
       "<table border=\"1\" class=\"dataframe\">\n",
       "  <thead>\n",
       "    <tr style=\"text-align: right;\">\n",
       "      <th></th>\n",
       "      <th>year</th>\n",
       "      <th>doy</th>\n",
       "      <th>temp</th>\n",
       "      <th>temp_upper</th>\n",
       "      <th>temp_lower</th>\n",
       "    </tr>\n",
       "  </thead>\n",
       "  <tbody>\n",
       "    <tr>\n",
       "      <th>50</th>\n",
       "      <td>851</td>\n",
       "      <td>108.0</td>\n",
       "      <td>7.38</td>\n",
       "      <td>12.10</td>\n",
       "      <td>2.66</td>\n",
       "    </tr>\n",
       "    <tr>\n",
       "      <th>63</th>\n",
       "      <td>864</td>\n",
       "      <td>100.0</td>\n",
       "      <td>6.42</td>\n",
       "      <td>8.69</td>\n",
       "      <td>4.14</td>\n",
       "    </tr>\n",
       "    <tr>\n",
       "      <th>65</th>\n",
       "      <td>866</td>\n",
       "      <td>106.0</td>\n",
       "      <td>6.44</td>\n",
       "      <td>8.11</td>\n",
       "      <td>4.77</td>\n",
       "    </tr>\n",
       "    <tr>\n",
       "      <th>88</th>\n",
       "      <td>889</td>\n",
       "      <td>104.0</td>\n",
       "      <td>6.83</td>\n",
       "      <td>8.48</td>\n",
       "      <td>5.19</td>\n",
       "    </tr>\n",
       "    <tr>\n",
       "      <th>90</th>\n",
       "      <td>891</td>\n",
       "      <td>109.0</td>\n",
       "      <td>6.98</td>\n",
       "      <td>8.96</td>\n",
       "      <td>5.00</td>\n",
       "    </tr>\n",
       "  </tbody>\n",
       "</table>\n",
       "</div>"
      ],
      "text/plain": [
       "    year    doy  temp  temp_upper  temp_lower\n",
       "50   851  108.0  7.38       12.10        2.66\n",
       "63   864  100.0  6.42        8.69        4.14\n",
       "65   866  106.0  6.44        8.11        4.77\n",
       "88   889  104.0  6.83        8.48        5.19\n",
       "90   891  109.0  6.98        8.96        5.00"
      ]
     },
     "execution_count": 44,
     "metadata": {},
     "output_type": "execute_result"
    }
   ],
   "source": [
    "blossom.head()"
   ]
  },
  {
   "cell_type": "code",
   "execution_count": 45,
   "id": "3d1c36c2",
   "metadata": {},
   "outputs": [],
   "source": [
    "temp_mean = blossom.temp.mean()\n",
    "temp_std = blossom.temp.std()"
   ]
  },
  {
   "cell_type": "code",
   "execution_count": 46,
   "id": "6d7bd91f",
   "metadata": {},
   "outputs": [],
   "source": [
    "# standardize data\n",
    "blossom.doy = standardize(blossom.doy)\n",
    "blossom.temp = standardize(blossom.temp)"
   ]
  },
  {
   "cell_type": "code",
   "execution_count": 47,
   "id": "931cfe88",
   "metadata": {},
   "outputs": [
    {
     "data": {
      "image/png": "[encoded data removed]",
      "text/plain": [
       "<Figure size 432x288 with 1 Axes>"
      ]
     },
     "metadata": {
      "needs_background": "light"
     },
     "output_type": "display_data"
    }
   ],
   "source": [
    "plt.scatter(blossom.temp, blossom.doy);"
   ]
  },
  {
   "cell_type": "markdown",
   "id": "e6882379",
   "metadata": {},
   "source": [
    "We'll consider a linear model and a quadratic model."
   ]
  },
  {
   "cell_type": "code",
   "execution_count": 48,
   "id": "ea34e386",
   "metadata": {},
   "outputs": [],
   "source": [
    "from theano import shared"
   ]
  },
  {
   "cell_type": "code",
   "execution_count": 49,
   "id": "668e4203",
   "metadata": {},
   "outputs": [],
   "source": [
    "temp_shared = shared(blossom.temp.values)"
   ]
  },
  {
   "cell_type": "code",
   "execution_count": 50,
   "id": "a4bdf6fe",
   "metadata": {},
   "outputs": [
    {
     "name": "stderr",
     "output_type": "stream",
     "text": [
      "/var/folders/9p/5ycxgmps44zc3f0y6vljhp2h0000gn/T/ipykernel_31699/1874581102.py:7: FutureWarning: In v4.0, pm.sample will return an `arviz.InferenceData` object instead of a `MultiTrace` by default. You can pass return_inferencedata=True or return_inferencedata=False to be safe and silence this warning.\n",
      "  trace_intercept = pm.sample()\n",
      "Auto-assigning NUTS sampler...\n",
      "Initializing NUTS using jitter+adapt_diag...\n",
      "Multiprocess sampling (4 chains in 4 jobs)\n",
      "NUTS: [sigma, a]\n"
     ]
    },
    {
     "data": {
      "text/html": [
       "\n",
       "<style>\n",
       "    /* Turns off some styling */\n",
       "    progress {\n",
       "        /* gets rid of default border in Firefox and Opera. */\n",
       "        border: none;\n",
       "        /* Needs to be in here for Safari polyfill so background images work as expected. */\n",
       "        background-size: auto;\n",
       "    }\n",
       "    .progress-bar-interrupted, .progress-bar-interrupted::-webkit-progress-bar {\n",
       "        background: #F44336;\n",
       "    }\n",
       "</style>\n"
      ],
      "text/plain": [
       "<IPython.core.display.HTML object>"
      ]
     },
     "metadata": {},
     "output_type": "display_data"
    },
    {
     "data": {
      "text/html": [
       "\n",
       "    <div>\n",
       "      <progress value='8000' class='' max='8000' style='width:300px; height:20px; vertical-align: middle;'></progress>\n",
       "      100.00% [8000/8000 00:02<00:00 Sampling 4 chains, 0 divergences]\n",
       "    </div>\n",
       "    "
      ],
      "text/plain": [
       "<IPython.core.display.HTML object>"
      ]
     },
     "metadata": {},
     "output_type": "display_data"
    },
    {
     "name": "stderr",
     "output_type": "stream",
     "text": [
      "/Users/amralaa/anaconda3/envs/stat-rethink2-pymc3/lib/python3.9/site-packages/scipy/stats/_continuous_distns.py:624: RuntimeWarning: overflow encountered in _beta_ppf\n",
      "  return _boost._beta_ppf(q, a, b)\n",
      "/Users/amralaa/anaconda3/envs/stat-rethink2-pymc3/lib/python3.9/site-packages/scipy/stats/_continuous_distns.py:624: RuntimeWarning: overflow encountered in _beta_ppf\n",
      "  return _boost._beta_ppf(q, a, b)\n",
      "/Users/amralaa/anaconda3/envs/stat-rethink2-pymc3/lib/python3.9/site-packages/scipy/stats/_continuous_distns.py:624: RuntimeWarning: overflow encountered in _beta_ppf\n",
      "  return _boost._beta_ppf(q, a, b)\n",
      "Sampling 4 chains for 1_000 tune and 1_000 draw iterations (4_000 + 4_000 draws total) took 14 seconds.\n"
     ]
    },
    {
     "data": {
      "text/html": [
       "\n",
       "<style>\n",
       "    /* Turns off some styling */\n",
       "    progress {\n",
       "        /* gets rid of default border in Firefox and Opera. */\n",
       "        border: none;\n",
       "        /* Needs to be in here for Safari polyfill so background images work as expected. */\n",
       "        background-size: auto;\n",
       "    }\n",
       "    .progress-bar-interrupted, .progress-bar-interrupted::-webkit-progress-bar {\n",
       "        background: #F44336;\n",
       "    }\n",
       "</style>\n"
      ],
      "text/plain": [
       "<IPython.core.display.HTML object>"
      ]
     },
     "metadata": {},
     "output_type": "display_data"
    },
    {
     "data": {
      "text/html": [
       "\n",
       "    <div>\n",
       "      <progress value='4000' class='' max='4000' style='width:300px; height:20px; vertical-align: middle;'></progress>\n",
       "      100.00% [4000/4000 00:02<00:00]\n",
       "    </div>\n",
       "    "
      ],
      "text/plain": [
       "<IPython.core.display.HTML object>"
      ]
     },
     "metadata": {},
     "output_type": "display_data"
    }
   ],
   "source": [
    "with pm.Model() as intercept:\n",
    "    a = pm.Normal('a', mu = 0, sd = 0.2)\n",
    "    sigma = pm.Exponential('sigma', 1)\n",
    "    mu = a\n",
    "    doy = pm.Normal('doy', mu = mu, sd = sigma, observed = blossom.doy)\n",
    "    \n",
    "    trace_intercept = pm.sample()\n",
    "    prior_predictive = pm.sample_prior_predictive()\n",
    "    posterior_predictive = pm.sample_posterior_predictive(trace_intercept)\n",
    "    \n",
    "    inference_data_intercept = az.from_pymc3(trace = trace_intercept,\n",
    "                                         prior = prior_predictive,\n",
    "                                         posterior_predictive = posterior_predictive)"
   ]
  },
  {
   "cell_type": "code",
   "execution_count": 51,
   "id": "7362e0d3",
   "metadata": {},
   "outputs": [
    {
     "name": "stderr",
     "output_type": "stream",
     "text": [
      "/var/folders/9p/5ycxgmps44zc3f0y6vljhp2h0000gn/T/ipykernel_31699/2172050093.py:9: FutureWarning: In v4.0, pm.sample will return an `arviz.InferenceData` object instead of a `MultiTrace` by default. You can pass return_inferencedata=True or return_inferencedata=False to be safe and silence this warning.\n",
      "  trace_linear = pm.sample()\n",
      "Auto-assigning NUTS sampler...\n",
      "Initializing NUTS using jitter+adapt_diag...\n",
      "Multiprocess sampling (4 chains in 4 jobs)\n",
      "NUTS: [sigma, bT, a]\n"
     ]
    },
    {
     "data": {
      "text/html": [
       "\n",
       "<style>\n",
       "    /* Turns off some styling */\n",
       "    progress {\n",
       "        /* gets rid of default border in Firefox and Opera. */\n",
       "        border: none;\n",
       "        /* Needs to be in here for Safari polyfill so background images work as expected. */\n",
       "        background-size: auto;\n",
       "    }\n",
       "    .progress-bar-interrupted, .progress-bar-interrupted::-webkit-progress-bar {\n",
       "        background: #F44336;\n",
       "    }\n",
       "</style>\n"
      ],
      "text/plain": [
       "<IPython.core.display.HTML object>"
      ]
     },
     "metadata": {},
     "output_type": "display_data"
    },
    {
     "data": {
      "text/html": [
       "\n",
       "    <div>\n",
       "      <progress value='8000' class='' max='8000' style='width:300px; height:20px; vertical-align: middle;'></progress>\n",
       "      100.00% [8000/8000 00:02<00:00 Sampling 4 chains, 0 divergences]\n",
       "    </div>\n",
       "    "
      ],
      "text/plain": [
       "<IPython.core.display.HTML object>"
      ]
     },
     "metadata": {},
     "output_type": "display_data"
    },
    {
     "name": "stderr",
     "output_type": "stream",
     "text": [
      "/Users/amralaa/anaconda3/envs/stat-rethink2-pymc3/lib/python3.9/site-packages/scipy/stats/_continuous_distns.py:624: RuntimeWarning: overflow encountered in _beta_ppf\n",
      "  return _boost._beta_ppf(q, a, b)\n",
      "/Users/amralaa/anaconda3/envs/stat-rethink2-pymc3/lib/python3.9/site-packages/scipy/stats/_continuous_distns.py:624: RuntimeWarning: overflow encountered in _beta_ppf\n",
      "  return _boost._beta_ppf(q, a, b)\n",
      "/Users/amralaa/anaconda3/envs/stat-rethink2-pymc3/lib/python3.9/site-packages/scipy/stats/_continuous_distns.py:624: RuntimeWarning: overflow encountered in _beta_ppf\n",
      "  return _boost._beta_ppf(q, a, b)\n",
      "Sampling 4 chains for 1_000 tune and 1_000 draw iterations (4_000 + 4_000 draws total) took 13 seconds.\n"
     ]
    },
    {
     "data": {
      "text/html": [
       "\n",
       "<style>\n",
       "    /* Turns off some styling */\n",
       "    progress {\n",
       "        /* gets rid of default border in Firefox and Opera. */\n",
       "        border: none;\n",
       "        /* Needs to be in here for Safari polyfill so background images work as expected. */\n",
       "        background-size: auto;\n",
       "    }\n",
       "    .progress-bar-interrupted, .progress-bar-interrupted::-webkit-progress-bar {\n",
       "        background: #F44336;\n",
       "    }\n",
       "</style>\n"
      ],
      "text/plain": [
       "<IPython.core.display.HTML object>"
      ]
     },
     "metadata": {},
     "output_type": "display_data"
    },
    {
     "data": {
      "text/html": [
       "\n",
       "    <div>\n",
       "      <progress value='4000' class='' max='4000' style='width:300px; height:20px; vertical-align: middle;'></progress>\n",
       "      100.00% [4000/4000 00:02<00:00]\n",
       "    </div>\n",
       "    "
      ],
      "text/plain": [
       "<IPython.core.display.HTML object>"
      ]
     },
     "metadata": {},
     "output_type": "display_data"
    }
   ],
   "source": [
    "with pm.Model() as linear:\n",
    "    a = pm.Normal('a', mu = 0, sd = 0.2)\n",
    "    bT = pm.Normal('bT', mu = 0, sd = 0.5)\n",
    "    sigma = pm.Exponential('sigma', 1)\n",
    "    \n",
    "    mu = a + bT * temp_shared\n",
    "    doy = pm.Normal('doy', mu = mu, sd = sigma, observed = blossom.doy)\n",
    "    \n",
    "    trace_linear = pm.sample()\n",
    "    prior_predictive = pm.sample_prior_predictive()\n",
    "    posterior_predictive = pm.sample_posterior_predictive(trace_linear)\n",
    "    \n",
    "    inference_data_linear = az.from_pymc3(trace = trace_linear,\n",
    "                                         prior = prior_predictive,\n",
    "                                         posterior_predictive = posterior_predictive)"
   ]
  },
  {
   "cell_type": "code",
   "execution_count": 52,
   "id": "994131b9",
   "metadata": {},
   "outputs": [
    {
     "name": "stderr",
     "output_type": "stream",
     "text": [
      "/var/folders/9p/5ycxgmps44zc3f0y6vljhp2h0000gn/T/ipykernel_31699/3289123066.py:10: FutureWarning: In v4.0, pm.sample will return an `arviz.InferenceData` object instead of a `MultiTrace` by default. You can pass return_inferencedata=True or return_inferencedata=False to be safe and silence this warning.\n",
      "  trace_quadratic = pm.sample()\n",
      "Auto-assigning NUTS sampler...\n",
      "Initializing NUTS using jitter+adapt_diag...\n",
      "Multiprocess sampling (4 chains in 4 jobs)\n",
      "NUTS: [sigma, bT2, bT, a]\n"
     ]
    },
    {
     "data": {
      "text/html": [
       "\n",
       "<style>\n",
       "    /* Turns off some styling */\n",
       "    progress {\n",
       "        /* gets rid of default border in Firefox and Opera. */\n",
       "        border: none;\n",
       "        /* Needs to be in here for Safari polyfill so background images work as expected. */\n",
       "        background-size: auto;\n",
       "    }\n",
       "    .progress-bar-interrupted, .progress-bar-interrupted::-webkit-progress-bar {\n",
       "        background: #F44336;\n",
       "    }\n",
       "</style>\n"
      ],
      "text/plain": [
       "<IPython.core.display.HTML object>"
      ]
     },
     "metadata": {},
     "output_type": "display_data"
    },
    {
     "data": {
      "text/html": [
       "\n",
       "    <div>\n",
       "      <progress value='8000' class='' max='8000' style='width:300px; height:20px; vertical-align: middle;'></progress>\n",
       "      100.00% [8000/8000 00:02<00:00 Sampling 4 chains, 0 divergences]\n",
       "    </div>\n",
       "    "
      ],
      "text/plain": [
       "<IPython.core.display.HTML object>"
      ]
     },
     "metadata": {},
     "output_type": "display_data"
    },
    {
     "name": "stderr",
     "output_type": "stream",
     "text": [
      "/Users/amralaa/anaconda3/envs/stat-rethink2-pymc3/lib/python3.9/site-packages/scipy/stats/_continuous_distns.py:624: RuntimeWarning: overflow encountered in _beta_ppf\n",
      "  return _boost._beta_ppf(q, a, b)\n",
      "/Users/amralaa/anaconda3/envs/stat-rethink2-pymc3/lib/python3.9/site-packages/scipy/stats/_continuous_distns.py:624: RuntimeWarning: overflow encountered in _beta_ppf\n",
      "  return _boost._beta_ppf(q, a, b)\n",
      "/Users/amralaa/anaconda3/envs/stat-rethink2-pymc3/lib/python3.9/site-packages/scipy/stats/_continuous_distns.py:624: RuntimeWarning: overflow encountered in _beta_ppf\n",
      "  return _boost._beta_ppf(q, a, b)\n",
      "/Users/amralaa/anaconda3/envs/stat-rethink2-pymc3/lib/python3.9/site-packages/scipy/stats/_continuous_distns.py:624: RuntimeWarning: overflow encountered in _beta_ppf\n",
      "  return _boost._beta_ppf(q, a, b)\n",
      "Sampling 4 chains for 1_000 tune and 1_000 draw iterations (4_000 + 4_000 draws total) took 14 seconds.\n"
     ]
    },
    {
     "data": {
      "text/html": [
       "\n",
       "<style>\n",
       "    /* Turns off some styling */\n",
       "    progress {\n",
       "        /* gets rid of default border in Firefox and Opera. */\n",
       "        border: none;\n",
       "        /* Needs to be in here for Safari polyfill so background images work as expected. */\n",
       "        background-size: auto;\n",
       "    }\n",
       "    .progress-bar-interrupted, .progress-bar-interrupted::-webkit-progress-bar {\n",
       "        background: #F44336;\n",
       "    }\n",
       "</style>\n"
      ],
      "text/plain": [
       "<IPython.core.display.HTML object>"
      ]
     },
     "metadata": {},
     "output_type": "display_data"
    },
    {
     "data": {
      "text/html": [
       "\n",
       "    <div>\n",
       "      <progress value='4000' class='' max='4000' style='width:300px; height:20px; vertical-align: middle;'></progress>\n",
       "      100.00% [4000/4000 00:03<00:00]\n",
       "    </div>\n",
       "    "
      ],
      "text/plain": [
       "<IPython.core.display.HTML object>"
      ]
     },
     "metadata": {},
     "output_type": "display_data"
    }
   ],
   "source": [
    "with pm.Model() as quadratic:\n",
    "    a = pm.Normal('a', mu = 0, sd = 0.2)\n",
    "    bT1 = pm.Normal('bT', mu = 0, sd = 0.5)\n",
    "    bT2 = pm.Normal('bT2', mu = 0, sd = 0.5)\n",
    "    sigma = pm.Exponential('sigma', 1)\n",
    "    \n",
    "    mu = a + bT1 * temp_shared + bT2 * (temp_shared**2)\n",
    "    doy = pm.Normal('doy', mu = mu, sd = sigma, observed = blossom.doy)\n",
    "    \n",
    "    trace_quadratic = pm.sample()\n",
    "    prior_predictive = pm.sample_prior_predictive()\n",
    "    posterior_predictive = pm.sample_posterior_predictive(trace_quadratic)\n",
    "    \n",
    "    inference_data_quadratic = az.from_pymc3(trace = trace_quadratic,\n",
    "                                         prior = prior_predictive,\n",
    "                                         posterior_predictive = posterior_predictive)"
   ]
  },
  {
   "cell_type": "code",
   "execution_count": 53,
   "id": "2b55dc9c",
   "metadata": {},
   "outputs": [
    {
     "name": "stderr",
     "output_type": "stream",
     "text": [
      "/Users/amralaa/anaconda3/envs/stat-rethink2-pymc3/lib/python3.9/site-packages/arviz/data/io_pymc3.py:96: FutureWarning: Using `from_pymc3` without the model will be deprecated in a future release. Not using the model will return less accurate and less useful results. Make sure you use the model argument or call from_pymc3 within a model context.\n",
      "  warnings.warn(\n"
     ]
    },
    {
     "data": {
      "text/html": [
       "<div>\n",
       "<style scoped>\n",
       "    .dataframe tbody tr th:only-of-type {\n",
       "        vertical-align: middle;\n",
       "    }\n",
       "\n",
       "    .dataframe tbody tr th {\n",
       "        vertical-align: top;\n",
       "    }\n",
       "\n",
       "    .dataframe thead th {\n",
       "        text-align: right;\n",
       "    }\n",
       "</style>\n",
       "<table border=\"1\" class=\"dataframe\">\n",
       "  <thead>\n",
       "    <tr style=\"text-align: right;\">\n",
       "      <th></th>\n",
       "      <th>mean</th>\n",
       "      <th>sd</th>\n",
       "      <th>hdi_3%</th>\n",
       "      <th>hdi_97%</th>\n",
       "      <th>mcse_mean</th>\n",
       "      <th>mcse_sd</th>\n",
       "      <th>ess_bulk</th>\n",
       "      <th>ess_tail</th>\n",
       "      <th>r_hat</th>\n",
       "    </tr>\n",
       "  </thead>\n",
       "  <tbody>\n",
       "    <tr>\n",
       "      <th>a</th>\n",
       "      <td>0.000</td>\n",
       "      <td>0.034</td>\n",
       "      <td>-0.064</td>\n",
       "      <td>0.063</td>\n",
       "      <td>0.0</td>\n",
       "      <td>0.001</td>\n",
       "      <td>4849.0</td>\n",
       "      <td>2891.0</td>\n",
       "      <td>1.0</td>\n",
       "    </tr>\n",
       "    <tr>\n",
       "      <th>bT</th>\n",
       "      <td>-0.326</td>\n",
       "      <td>0.034</td>\n",
       "      <td>-0.388</td>\n",
       "      <td>-0.263</td>\n",
       "      <td>0.0</td>\n",
       "      <td>0.000</td>\n",
       "      <td>5334.0</td>\n",
       "      <td>2847.0</td>\n",
       "      <td>1.0</td>\n",
       "    </tr>\n",
       "    <tr>\n",
       "      <th>sigma</th>\n",
       "      <td>0.947</td>\n",
       "      <td>0.024</td>\n",
       "      <td>0.904</td>\n",
       "      <td>0.994</td>\n",
       "      <td>0.0</td>\n",
       "      <td>0.000</td>\n",
       "      <td>4805.0</td>\n",
       "      <td>3046.0</td>\n",
       "      <td>1.0</td>\n",
       "    </tr>\n",
       "  </tbody>\n",
       "</table>\n",
       "</div>"
      ],
      "text/plain": [
       "        mean     sd  hdi_3%  hdi_97%  mcse_mean  mcse_sd  ess_bulk  ess_tail  \\\n",
       "a      0.000  0.034  -0.064    0.063        0.0    0.001    4849.0    2891.0   \n",
       "bT    -0.326  0.034  -0.388   -0.263        0.0    0.000    5334.0    2847.0   \n",
       "sigma  0.947  0.024   0.904    0.994        0.0    0.000    4805.0    3046.0   \n",
       "\n",
       "       r_hat  \n",
       "a        1.0  \n",
       "bT       1.0  \n",
       "sigma    1.0  "
      ]
     },
     "execution_count": 53,
     "metadata": {},
     "output_type": "execute_result"
    }
   ],
   "source": [
    "az.summary(trace_linear)"
   ]
  },
  {
   "cell_type": "code",
   "execution_count": 54,
   "id": "4d1000d7",
   "metadata": {},
   "outputs": [
    {
     "name": "stderr",
     "output_type": "stream",
     "text": [
      "/Users/amralaa/anaconda3/envs/stat-rethink2-pymc3/lib/python3.9/site-packages/arviz/data/io_pymc3.py:96: FutureWarning: Using `from_pymc3` without the model will be deprecated in a future release. Not using the model will return less accurate and less useful results. Make sure you use the model argument or call from_pymc3 within a model context.\n",
      "  warnings.warn(\n"
     ]
    },
    {
     "data": {
      "text/html": [
       "<div>\n",
       "<style scoped>\n",
       "    .dataframe tbody tr th:only-of-type {\n",
       "        vertical-align: middle;\n",
       "    }\n",
       "\n",
       "    .dataframe tbody tr th {\n",
       "        vertical-align: top;\n",
       "    }\n",
       "\n",
       "    .dataframe thead th {\n",
       "        text-align: right;\n",
       "    }\n",
       "</style>\n",
       "<table border=\"1\" class=\"dataframe\">\n",
       "  <thead>\n",
       "    <tr style=\"text-align: right;\">\n",
       "      <th></th>\n",
       "      <th>mean</th>\n",
       "      <th>sd</th>\n",
       "      <th>hdi_3%</th>\n",
       "      <th>hdi_97%</th>\n",
       "      <th>mcse_mean</th>\n",
       "      <th>mcse_sd</th>\n",
       "      <th>ess_bulk</th>\n",
       "      <th>ess_tail</th>\n",
       "      <th>r_hat</th>\n",
       "    </tr>\n",
       "  </thead>\n",
       "  <tbody>\n",
       "    <tr>\n",
       "      <th>a</th>\n",
       "      <td>-0.001</td>\n",
       "      <td>0.040</td>\n",
       "      <td>-0.080</td>\n",
       "      <td>0.072</td>\n",
       "      <td>0.001</td>\n",
       "      <td>0.001</td>\n",
       "      <td>2898.0</td>\n",
       "      <td>3169.0</td>\n",
       "      <td>1.0</td>\n",
       "    </tr>\n",
       "    <tr>\n",
       "      <th>bT</th>\n",
       "      <td>-0.326</td>\n",
       "      <td>0.036</td>\n",
       "      <td>-0.391</td>\n",
       "      <td>-0.256</td>\n",
       "      <td>0.001</td>\n",
       "      <td>0.000</td>\n",
       "      <td>3800.0</td>\n",
       "      <td>2988.0</td>\n",
       "      <td>1.0</td>\n",
       "    </tr>\n",
       "    <tr>\n",
       "      <th>bT2</th>\n",
       "      <td>0.001</td>\n",
       "      <td>0.024</td>\n",
       "      <td>-0.043</td>\n",
       "      <td>0.046</td>\n",
       "      <td>0.000</td>\n",
       "      <td>0.000</td>\n",
       "      <td>2575.0</td>\n",
       "      <td>2687.0</td>\n",
       "      <td>1.0</td>\n",
       "    </tr>\n",
       "    <tr>\n",
       "      <th>sigma</th>\n",
       "      <td>0.947</td>\n",
       "      <td>0.024</td>\n",
       "      <td>0.904</td>\n",
       "      <td>0.994</td>\n",
       "      <td>0.000</td>\n",
       "      <td>0.000</td>\n",
       "      <td>4805.0</td>\n",
       "      <td>3209.0</td>\n",
       "      <td>1.0</td>\n",
       "    </tr>\n",
       "  </tbody>\n",
       "</table>\n",
       "</div>"
      ],
      "text/plain": [
       "        mean     sd  hdi_3%  hdi_97%  mcse_mean  mcse_sd  ess_bulk  ess_tail  \\\n",
       "a     -0.001  0.040  -0.080    0.072      0.001    0.001    2898.0    3169.0   \n",
       "bT    -0.326  0.036  -0.391   -0.256      0.001    0.000    3800.0    2988.0   \n",
       "bT2    0.001  0.024  -0.043    0.046      0.000    0.000    2575.0    2687.0   \n",
       "sigma  0.947  0.024   0.904    0.994      0.000    0.000    4805.0    3209.0   \n",
       "\n",
       "       r_hat  \n",
       "a        1.0  \n",
       "bT       1.0  \n",
       "bT2      1.0  \n",
       "sigma    1.0  "
      ]
     },
     "execution_count": 54,
     "metadata": {},
     "output_type": "execute_result"
    }
   ],
   "source": [
    "az.summary(trace_quadratic)"
   ]
  },
  {
   "cell_type": "code",
   "execution_count": 55,
   "id": "1275089b",
   "metadata": {},
   "outputs": [],
   "source": [
    "compare_dict_blossom = {'intercept': inference_data_intercept,\n",
    "                       'linear' : inference_data_linear,\n",
    "                       'quadratic' : inference_data_quadratic}"
   ]
  },
  {
   "cell_type": "code",
   "execution_count": 56,
   "id": "43b47cb1",
   "metadata": {},
   "outputs": [
    {
     "name": "stderr",
     "output_type": "stream",
     "text": [
      "/Users/amralaa/anaconda3/envs/stat-rethink2-pymc3/lib/python3.9/site-packages/arviz/stats/stats.py:145: UserWarning: The default method used to estimate the weights for each model,has changed from BB-pseudo-BMA to stacking\n",
      "  warnings.warn(\n",
      "/Users/amralaa/anaconda3/envs/stat-rethink2-pymc3/lib/python3.9/site-packages/arviz/stats/stats.py:212: FutureWarning: The frame.append method is deprecated and will be removed from pandas in a future version. Use pandas.concat instead.\n",
      "  ics = ics.append([ic_func(dataset, pointwise=True, scale=scale)])\n",
      "/Users/amralaa/anaconda3/envs/stat-rethink2-pymc3/lib/python3.9/site-packages/arviz/stats/stats.py:212: FutureWarning: The frame.append method is deprecated and will be removed from pandas in a future version. Use pandas.concat instead.\n",
      "  ics = ics.append([ic_func(dataset, pointwise=True, scale=scale)])\n",
      "/Users/amralaa/anaconda3/envs/stat-rethink2-pymc3/lib/python3.9/site-packages/arviz/stats/stats.py:212: FutureWarning: The frame.append method is deprecated and will be removed from pandas in a future version. Use pandas.concat instead.\n",
      "  ics = ics.append([ic_func(dataset, pointwise=True, scale=scale)])\n"
     ]
    },
    {
     "data": {
      "text/html": [
       "<div>\n",
       "<style scoped>\n",
       "    .dataframe tbody tr th:only-of-type {\n",
       "        vertical-align: middle;\n",
       "    }\n",
       "\n",
       "    .dataframe tbody tr th {\n",
       "        vertical-align: top;\n",
       "    }\n",
       "\n",
       "    .dataframe thead th {\n",
       "        text-align: right;\n",
       "    }\n",
       "</style>\n",
       "<table border=\"1\" class=\"dataframe\">\n",
       "  <thead>\n",
       "    <tr style=\"text-align: right;\">\n",
       "      <th></th>\n",
       "      <th>rank</th>\n",
       "      <th>loo</th>\n",
       "      <th>p_loo</th>\n",
       "      <th>d_loo</th>\n",
       "      <th>weight</th>\n",
       "      <th>se</th>\n",
       "      <th>dse</th>\n",
       "      <th>warning</th>\n",
       "      <th>loo_scale</th>\n",
       "    </tr>\n",
       "  </thead>\n",
       "  <tbody>\n",
       "    <tr>\n",
       "      <th>linear</th>\n",
       "      <td>0</td>\n",
       "      <td>-1074.648784</td>\n",
       "      <td>2.855230</td>\n",
       "      <td>0.000000</td>\n",
       "      <td>1.000000e+00</td>\n",
       "      <td>20.319051</td>\n",
       "      <td>0.000000</td>\n",
       "      <td>False</td>\n",
       "      <td>log</td>\n",
       "    </tr>\n",
       "    <tr>\n",
       "      <th>quadratic</th>\n",
       "      <td>1</td>\n",
       "      <td>-1075.538617</td>\n",
       "      <td>3.608738</td>\n",
       "      <td>0.889833</td>\n",
       "      <td>3.275158e-15</td>\n",
       "      <td>20.319018</td>\n",
       "      <td>0.096725</td>\n",
       "      <td>False</td>\n",
       "      <td>log</td>\n",
       "    </tr>\n",
       "    <tr>\n",
       "      <th>intercept</th>\n",
       "      <td>2</td>\n",
       "      <td>-1118.228625</td>\n",
       "      <td>2.011518</td>\n",
       "      <td>43.579840</td>\n",
       "      <td>0.000000e+00</td>\n",
       "      <td>19.741513</td>\n",
       "      <td>8.335946</td>\n",
       "      <td>False</td>\n",
       "      <td>log</td>\n",
       "    </tr>\n",
       "  </tbody>\n",
       "</table>\n",
       "</div>"
      ],
      "text/plain": [
       "           rank          loo     p_loo      d_loo        weight         se  \\\n",
       "linear        0 -1074.648784  2.855230   0.000000  1.000000e+00  20.319051   \n",
       "quadratic     1 -1075.538617  3.608738   0.889833  3.275158e-15  20.319018   \n",
       "intercept     2 -1118.228625  2.011518  43.579840  0.000000e+00  19.741513   \n",
       "\n",
       "                dse  warning loo_scale  \n",
       "linear     0.000000    False       log  \n",
       "quadratic  0.096725    False       log  \n",
       "intercept  8.335946    False       log  "
      ]
     },
     "execution_count": 56,
     "metadata": {},
     "output_type": "execute_result"
    }
   ],
   "source": [
    "az.compare(compare_dict_blossom)"
   ]
  },
  {
   "cell_type": "markdown",
   "id": "7fc687f6",
   "metadata": {},
   "source": [
    "The linear model appears to be only slightly better than the quadratic and both much better than the intercept only model."
   ]
  },
  {
   "cell_type": "markdown",
   "id": "7aeb15a6",
   "metadata": {},
   "source": [
    "Now for the second part of the problem: Suppose March temperatures reach 9 degrees by the year 2050. What does your best model predict for the predictive distribution of the day-in-year that the cherry trees will blossom?"
   ]
  },
  {
   "cell_type": "code",
   "execution_count": 57,
   "id": "42e94e85",
   "metadata": {},
   "outputs": [
    {
     "data": {
      "text/plain": [
       "(787, 5)"
      ]
     },
     "execution_count": 57,
     "metadata": {},
     "output_type": "execute_result"
    }
   ],
   "source": [
    "blossom.shape"
   ]
  },
  {
   "cell_type": "code",
   "execution_count": 62,
   "id": "85788c69",
   "metadata": {},
   "outputs": [],
   "source": [
    "#standardized temperature sequence\n",
    "temp_seq = (np.linspace(0,9,blossom.shape[0]) - temp_mean)/temp_std"
   ]
  },
  {
   "cell_type": "code",
   "execution_count": 65,
   "id": "55ff4d88",
   "metadata": {},
   "outputs": [
    {
     "data": {
      "text/html": [
       "\n",
       "<style>\n",
       "    /* Turns off some styling */\n",
       "    progress {\n",
       "        /* gets rid of default border in Firefox and Opera. */\n",
       "        border: none;\n",
       "        /* Needs to be in here for Safari polyfill so background images work as expected. */\n",
       "        background-size: auto;\n",
       "    }\n",
       "    .progress-bar-interrupted, .progress-bar-interrupted::-webkit-progress-bar {\n",
       "        background: #F44336;\n",
       "    }\n",
       "</style>\n"
      ],
      "text/plain": [
       "<IPython.core.display.HTML object>"
      ]
     },
     "metadata": {},
     "output_type": "display_data"
    },
    {
     "data": {
      "text/html": [
       "\n",
       "    <div>\n",
       "      <progress value='4000' class='' max='4000' style='width:300px; height:20px; vertical-align: middle;'></progress>\n",
       "      100.00% [4000/4000 00:02<00:00]\n",
       "    </div>\n",
       "    "
      ],
      "text/plain": [
       "<IPython.core.display.HTML object>"
      ]
     },
     "metadata": {},
     "output_type": "display_data"
    }
   ],
   "source": [
    "temp_shared.set_value(temp_seq)\n",
    "with linear:\n",
    "    #counterfactual samples\n",
    "    year50_samples = pm.sample_posterior_predictive(trace_linear)"
   ]
  },
  {
   "cell_type": "code",
   "execution_count": 78,
   "id": "77dbcbda",
   "metadata": {},
   "outputs": [],
   "source": [
    "blossom_original = pd.read_csv(path2, delimiter = ';').dropna()"
   ]
  },
  {
   "cell_type": "code",
   "execution_count": 80,
   "id": "a0957271",
   "metadata": {},
   "outputs": [],
   "source": [
    "doy_mean = blossom_original.doy.mean()\n",
    "doy_std = blossom_original.doy.std()"
   ]
  },
  {
   "cell_type": "code",
   "execution_count": 81,
   "id": "51f746db",
   "metadata": {},
   "outputs": [],
   "source": [
    "# remember, we had standardized all values so we need to get the original back\n",
    "year50_post = (year50_samples['doy'][:,-1] * doy_std) + doy_mean"
   ]
  },
  {
   "cell_type": "code",
   "execution_count": 82,
   "id": "0003962d",
   "metadata": {},
   "outputs": [
    {
     "data": {
      "text/plain": [
       "array([ 95.22674265,  95.13186815,  91.79459575, ..., 101.23573588,\n",
       "        93.09799648,  86.87724345])"
      ]
     },
     "execution_count": 82,
     "metadata": {},
     "output_type": "execute_result"
    }
   ],
   "source": [
    "year50_post"
   ]
  },
  {
   "cell_type": "code",
   "execution_count": null,
   "id": "acea2aac",
   "metadata": {},
   "outputs": [],
   "source": [
    "year"
   ]
  },
  {
   "cell_type": "code",
   "execution_count": 85,
   "id": "6057ce9d",
   "metadata": {},
   "outputs": [
    {
     "data": {
      "image/png": "[encoded data removed]",
      "text/plain": [
       "<Figure size 432x288 with 1 Axes>"
      ]
     },
     "metadata": {
      "needs_background": "light"
     },
     "output_type": "display_data"
    }
   ],
   "source": [
    "az.plot_posterior(year50_post);"
   ]
  },
  {
   "cell_type": "markdown",
   "id": "4a25f98c",
   "metadata": {},
   "source": [
    "4-OPTIONALCHALLENGE. The data in data(Dinosaurs) are body mass estimates at different estimated ages for six different dinosaur species. See ?Dinosaurs for more details. Choose one or more of these species (at least one, but as many as you like) and model its growth. To be precise: Make a predictive model of body mass using age as a predictor. Consider two or more model types for the function relating age to body mass and score each using PSIS and WAIC.\n",
    "Which model do you think is best, on predictive grounds? On scientific grounds? If your answers to these questions differ, why?\n",
    "This is a challenging exercise, because the data are so scarce. But it is also a realistic example, because people publish Nature papers with even less data. So do your best, and I look forward to seeing your growth curves."
   ]
  }
 ],
 "metadata": {
  "kernelspec": {
   "display_name": "Python 3.10 (stat-rethink2-pymc3)",
   "language": "python",
   "name": "stat-rethink2-pymc3"
  },
  "language_info": {
   "codemirror_mode": {
    "name": "ipython",
    "version": 3
   },
   "file_extension": ".py",
   "mimetype": "text/x-python",
   "name": "python",
   "nbconvert_exporter": "python",
   "pygments_lexer": "ipython3",
   "version": "3.9.12"
  }
 },
 "nbformat": 4,
 "nbformat_minor": 5
}
